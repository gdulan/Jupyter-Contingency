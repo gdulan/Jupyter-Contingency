{
 "cells": [
  {
   "cell_type": "code",
   "execution_count": 264,
   "id": "4be1f35b",
   "metadata": {},
   "outputs": [],
   "source": [
    "import numpy as np\n",
    "import matplotlib.pyplot as plt\n",
    "import seaborn as sns\n",
    "import folium\n",
    "from folium.plugins import HeatMap\n",
    "import gmaps\n",
    "import gmaps.datasets\n",
    "import gmaps.geojson_geometries\n",
    "import gmaps.datasets\n",
    "import pandas as pd\n",
    "import branca\n",
    "from folium.plugins import MarkerCluster\n",
    "import math"
   ]
  },
  {
   "cell_type": "code",
   "execution_count": 265,
   "id": "c7ae92fa",
   "metadata": {},
   "outputs": [],
   "source": [
    "data = pd.read_csv('FW4_1.csv')"
   ]
  },
  {
   "cell_type": "code",
   "execution_count": 266,
   "id": "f6d54171",
   "metadata": {},
   "outputs": [],
   "source": [
    "df = data"
   ]
  },
  {
   "cell_type": "code",
   "execution_count": 267,
   "id": "ae30599c",
   "metadata": {},
   "outputs": [],
   "source": [
    "df['GPS Coordinates'] = df['GPS Coordinates'].apply(lambda x: tuple(map(float, x.split(', '))) if isinstance(x, str) else x)"
   ]
  },
  {
   "cell_type": "code",
   "execution_count": 268,
   "id": "46858af6",
   "metadata": {},
   "outputs": [],
   "source": [
    "df['Date of Incident'] = pd.to_datetime(df['Date of Incident'])\n",
    "\n",
    "df = df[df['Date of Incident'] == '2024-03-24']"
   ]
  },
  {
   "cell_type": "code",
   "execution_count": 269,
   "id": "36e3624e",
   "metadata": {},
   "outputs": [],
   "source": [
    "df = df.drop_duplicates(subset=['Claim Number'])\n"
   ]
  },
  {
   "cell_type": "code",
   "execution_count": 270,
   "id": "0965dabd",
   "metadata": {
    "scrolled": false
   },
   "outputs": [
    {
     "data": {
      "text/html": [
       "<div>\n",
       "<style scoped>\n",
       "    .dataframe tbody tr th:only-of-type {\n",
       "        vertical-align: middle;\n",
       "    }\n",
       "\n",
       "    .dataframe tbody tr th {\n",
       "        vertical-align: top;\n",
       "    }\n",
       "\n",
       "    .dataframe thead th {\n",
       "        text-align: right;\n",
       "    }\n",
       "</style>\n",
       "<table border=\"1\" class=\"dataframe\">\n",
       "  <thead>\n",
       "    <tr style=\"text-align: right;\">\n",
       "      <th></th>\n",
       "      <th>Claim Number</th>\n",
       "      <th>Date of Incident</th>\n",
       "      <th>Time of Incident</th>\n",
       "      <th>LOCATION</th>\n",
       "      <th>GPS Coordinates</th>\n",
       "      <th>Incident Description</th>\n",
       "      <th>Special_Event</th>\n",
       "      <th>Show</th>\n",
       "      <th>Show Name</th>\n",
       "      <th>Extended Land Closures</th>\n",
       "      <th>...</th>\n",
       "      <th>COMMENTS</th>\n",
       "      <th>DATE_OF_ISSUE</th>\n",
       "      <th>Top East</th>\n",
       "      <th>Top West</th>\n",
       "      <th>Mid East</th>\n",
       "      <th>Mid West</th>\n",
       "      <th>End East</th>\n",
       "      <th>End West</th>\n",
       "      <th>Gust East</th>\n",
       "      <th>Gust West</th>\n",
       "    </tr>\n",
       "  </thead>\n",
       "  <tbody>\n",
       "    <tr>\n",
       "      <th>236</th>\n",
       "      <td>WDWG2024743191</td>\n",
       "      <td>2024-03-24</td>\n",
       "      <td>17:50:00</td>\n",
       "      <td>Castle Hub</td>\n",
       "      <td>(28.41867159814188, -81.58118955843302)</td>\n",
       "      <td>Minor Child male. eye inflammation from Firewo...</td>\n",
       "      <td>NoEvent</td>\n",
       "      <td>Magical Friendship Faire</td>\n",
       "      <td>NaN</td>\n",
       "      <td>No Land Closures</td>\n",
       "      <td>...</td>\n",
       "      <td>NaN</td>\n",
       "      <td>3/24/2024</td>\n",
       "      <td>4.344828</td>\n",
       "      <td>4.423529</td>\n",
       "      <td>4.431138</td>\n",
       "      <td>NaN</td>\n",
       "      <td>NaN</td>\n",
       "      <td>NaN</td>\n",
       "      <td>NaN</td>\n",
       "      <td>NaN</td>\n",
       "    </tr>\n",
       "  </tbody>\n",
       "</table>\n",
       "<p>1 rows × 30 columns</p>\n",
       "</div>"
      ],
      "text/plain": [
       "       Claim Number Date of Incident Time of Incident    LOCATION  \\\n",
       "236  WDWG2024743191       2024-03-24         17:50:00  Castle Hub   \n",
       "\n",
       "                             GPS Coordinates  \\\n",
       "236  (28.41867159814188, -81.58118955843302)   \n",
       "\n",
       "                                  Incident Description Special_Event  \\\n",
       "236  Minor Child male. eye inflammation from Firewo...       NoEvent   \n",
       "\n",
       "                         Show Show Name Extended Land Closures  ...  COMMENTS  \\\n",
       "236  Magical Friendship Faire       NaN       No Land Closures  ...       NaN   \n",
       "\n",
       "    DATE_OF_ISSUE  Top East  Top West  Mid East Mid West  End East End West  \\\n",
       "236     3/24/2024  4.344828  4.423529  4.431138      NaN       NaN      NaN   \n",
       "\n",
       "    Gust East  Gust West  \n",
       "236       NaN        NaN  \n",
       "\n",
       "[1 rows x 30 columns]"
      ]
     },
     "execution_count": 270,
     "metadata": {},
     "output_type": "execute_result"
    }
   ],
   "source": [
    "df"
   ]
  },
  {
   "cell_type": "code",
   "execution_count": 271,
   "id": "2069c14e",
   "metadata": {},
   "outputs": [],
   "source": [
    "map_center = df['GPS Coordinates'].iloc[0]\n",
    "mymap = folium.Map(location=map_center, zoom_start=10)\n",
    "\n",
    "for index, row in df.iterrows():\n",
    "    location = row['LOCATION']\n",
    "    description = row['Incident Description']\n",
    "    show = row['Show']\n",
    "    closures = row['Extended Land Closures']\n",
    "    \n",
    "    marker_color = 'orange' if closures == 'Y' else 'blue'\n",
    "    \n",
    "    popup_content = f\"Location: {location}<br>Description: {description}<br>Show: {show}<br>Zone Closure: {closures}\"\n",
    "    \n",
    "    folium.Marker(location=row['GPS Coordinates'], popup=popup_content, icon=folium.Icon(color=marker_color)).add_to(mymap)"
   ]
  },
  {
   "cell_type": "code",
   "execution_count": 272,
   "id": "4a02b57b",
   "metadata": {},
   "outputs": [
    {
     "data": {
      "text/html": [
       "<div style=\"width:100%;\"><div style=\"position:relative;width:100%;height:0;padding-bottom:60%;\"><span style=\"color:#565656\">Make this Notebook Trusted to load map: File -> Trust Notebook</span><iframe srcdoc=\"&lt;!DOCTYPE html&gt;\n",
       "&lt;html&gt;\n",
       "&lt;head&gt;\n",
       "    \n",
       "    &lt;meta http-equiv=&quot;content-type&quot; content=&quot;text/html; charset=UTF-8&quot; /&gt;\n",
       "    \n",
       "        &lt;script&gt;\n",
       "            L_NO_TOUCH = false;\n",
       "            L_DISABLE_3D = false;\n",
       "        &lt;/script&gt;\n",
       "    \n",
       "    &lt;style&gt;html, body {width: 100%;height: 100%;margin: 0;padding: 0;}&lt;/style&gt;\n",
       "    &lt;style&gt;#map {position:absolute;top:0;bottom:0;right:0;left:0;}&lt;/style&gt;\n",
       "    &lt;script src=&quot;https://cdn.jsdelivr.net/npm/leaflet@1.9.3/dist/leaflet.js&quot;&gt;&lt;/script&gt;\n",
       "    &lt;script src=&quot;https://code.jquery.com/jquery-1.12.4.min.js&quot;&gt;&lt;/script&gt;\n",
       "    &lt;script src=&quot;https://cdn.jsdelivr.net/npm/bootstrap@5.2.2/dist/js/bootstrap.bundle.min.js&quot;&gt;&lt;/script&gt;\n",
       "    &lt;script src=&quot;https://cdnjs.cloudflare.com/ajax/libs/Leaflet.awesome-markers/2.0.2/leaflet.awesome-markers.js&quot;&gt;&lt;/script&gt;\n",
       "    &lt;link rel=&quot;stylesheet&quot; href=&quot;https://cdn.jsdelivr.net/npm/leaflet@1.9.3/dist/leaflet.css&quot;/&gt;\n",
       "    &lt;link rel=&quot;stylesheet&quot; href=&quot;https://cdn.jsdelivr.net/npm/bootstrap@5.2.2/dist/css/bootstrap.min.css&quot;/&gt;\n",
       "    &lt;link rel=&quot;stylesheet&quot; href=&quot;https://netdna.bootstrapcdn.com/bootstrap/3.0.0/css/bootstrap.min.css&quot;/&gt;\n",
       "    &lt;link rel=&quot;stylesheet&quot; href=&quot;https://cdn.jsdelivr.net/npm/@fortawesome/fontawesome-free@6.2.0/css/all.min.css&quot;/&gt;\n",
       "    &lt;link rel=&quot;stylesheet&quot; href=&quot;https://cdnjs.cloudflare.com/ajax/libs/Leaflet.awesome-markers/2.0.2/leaflet.awesome-markers.css&quot;/&gt;\n",
       "    &lt;link rel=&quot;stylesheet&quot; href=&quot;https://cdn.jsdelivr.net/gh/python-visualization/folium/folium/templates/leaflet.awesome.rotate.min.css&quot;/&gt;\n",
       "    \n",
       "            &lt;meta name=&quot;viewport&quot; content=&quot;width=device-width,\n",
       "                initial-scale=1.0, maximum-scale=1.0, user-scalable=no&quot; /&gt;\n",
       "            &lt;style&gt;\n",
       "                #map_20dc8baa4992e84fb960a41e6ac173c8 {\n",
       "                    position: relative;\n",
       "                    width: 100.0%;\n",
       "                    height: 100.0%;\n",
       "                    left: 0.0%;\n",
       "                    top: 0.0%;\n",
       "                }\n",
       "                .leaflet-container { font-size: 1rem; }\n",
       "            &lt;/style&gt;\n",
       "        \n",
       "&lt;/head&gt;\n",
       "&lt;body&gt;\n",
       "    \n",
       "    \n",
       "            &lt;div class=&quot;folium-map&quot; id=&quot;map_20dc8baa4992e84fb960a41e6ac173c8&quot; &gt;&lt;/div&gt;\n",
       "        \n",
       "&lt;/body&gt;\n",
       "&lt;script&gt;\n",
       "    \n",
       "    \n",
       "            var map_20dc8baa4992e84fb960a41e6ac173c8 = L.map(\n",
       "                &quot;map_20dc8baa4992e84fb960a41e6ac173c8&quot;,\n",
       "                {\n",
       "                    center: [28.41867159814188, -81.58118955843302],\n",
       "                    crs: L.CRS.EPSG3857,\n",
       "                    zoom: 10,\n",
       "                    zoomControl: true,\n",
       "                    preferCanvas: false,\n",
       "                }\n",
       "            );\n",
       "\n",
       "            \n",
       "\n",
       "        \n",
       "    \n",
       "            var tile_layer_270c3b14705daaf33c060de558b6d2d9 = L.tileLayer(\n",
       "                &quot;https://{s}.tile.openstreetmap.org/{z}/{x}/{y}.png&quot;,\n",
       "                {&quot;attribution&quot;: &quot;Data by \\u0026copy; \\u003ca target=\\&quot;_blank\\&quot; href=\\&quot;http://openstreetmap.org\\&quot;\\u003eOpenStreetMap\\u003c/a\\u003e, under \\u003ca target=\\&quot;_blank\\&quot; href=\\&quot;http://www.openstreetmap.org/copyright\\&quot;\\u003eODbL\\u003c/a\\u003e.&quot;, &quot;detectRetina&quot;: false, &quot;maxNativeZoom&quot;: 18, &quot;maxZoom&quot;: 18, &quot;minZoom&quot;: 0, &quot;noWrap&quot;: false, &quot;opacity&quot;: 1, &quot;subdomains&quot;: &quot;abc&quot;, &quot;tms&quot;: false}\n",
       "            ).addTo(map_20dc8baa4992e84fb960a41e6ac173c8);\n",
       "        \n",
       "    \n",
       "            var marker_ca1fd7c7e17c8842b6478e8626032501 = L.marker(\n",
       "                [28.41867159814188, -81.58118955843302],\n",
       "                {}\n",
       "            ).addTo(map_20dc8baa4992e84fb960a41e6ac173c8);\n",
       "        \n",
       "    \n",
       "            var icon_5dd6b4f7286f5eb1fc5ea1f24023cabd = L.AwesomeMarkers.icon(\n",
       "                {&quot;extraClasses&quot;: &quot;fa-rotate-0&quot;, &quot;icon&quot;: &quot;info-sign&quot;, &quot;iconColor&quot;: &quot;white&quot;, &quot;markerColor&quot;: &quot;blue&quot;, &quot;prefix&quot;: &quot;glyphicon&quot;}\n",
       "            );\n",
       "            marker_ca1fd7c7e17c8842b6478e8626032501.setIcon(icon_5dd6b4f7286f5eb1fc5ea1f24023cabd);\n",
       "        \n",
       "    \n",
       "        var popup_7f408d806dcf04635004b548380c3d1a = L.popup({&quot;maxWidth&quot;: &quot;100%&quot;});\n",
       "\n",
       "        \n",
       "            \n",
       "                var html_d960edb32db74b707e03c1fc1fa7acd7 = $(`&lt;div id=&quot;html_d960edb32db74b707e03c1fc1fa7acd7&quot; style=&quot;width: 100.0%; height: 100.0%;&quot;&gt;Location: Castle Hub&lt;br&gt;Description: Minor Child male. eye inflammation from Firework ashes. Guest Damian (Lilo) / Dylan Trevino (GSS) while at MK today suffered an eye injury where debris from Castle Show irritated his left eye.&lt;br&gt;Show: Magical Friendship Faire&lt;br&gt;Zone Closure: No Land Closures&lt;/div&gt;`)[0];\n",
       "                popup_7f408d806dcf04635004b548380c3d1a.setContent(html_d960edb32db74b707e03c1fc1fa7acd7);\n",
       "            \n",
       "        \n",
       "\n",
       "        marker_ca1fd7c7e17c8842b6478e8626032501.bindPopup(popup_7f408d806dcf04635004b548380c3d1a)\n",
       "        ;\n",
       "\n",
       "        \n",
       "    \n",
       "&lt;/script&gt;\n",
       "&lt;/html&gt;\" style=\"position:absolute;width:100%;height:100%;left:0;top:0;border:none !important;\" allowfullscreen webkitallowfullscreen mozallowfullscreen></iframe></div></div>"
      ],
      "text/plain": [
       "<folium.folium.Map at 0x22b192075d0>"
      ]
     },
     "execution_count": 272,
     "metadata": {},
     "output_type": "execute_result"
    }
   ],
   "source": [
    "mymap"
   ]
  },
  {
   "cell_type": "code",
   "execution_count": 273,
   "id": "9339d464",
   "metadata": {},
   "outputs": [],
   "source": [
    "mymap.save('J:/Data/RMSA Analysis/0 - Team Working Files/10 - Nick/AllIncidentsClosures.html')\n"
   ]
  },
  {
   "cell_type": "code",
   "execution_count": 274,
   "id": "f9cfbddc",
   "metadata": {},
   "outputs": [],
   "source": [
    "from random import randint\n",
    "\n",
    "map_center = df['GPS Coordinates'].iloc[0]\n",
    "mymap = folium.Map(location=map_center, zoom_start=10)\n",
    "\n",
    "for index, row in df.iterrows():\n",
    "    location = row['LOCATION']\n",
    "    description = row['Incident Description']\n",
    "    show = row['Show']\n",
    "    closures = row['Extended Land Closures']\n",
    "    \n",
    "    marker_color = 'orange' if closures == 'Y' else 'blue'\n",
    "    \n",
    "    popup_content = f\"Location: {location}<br>Description: {description}<br>Show: {show}<br>Closures: {closures}\"\n",
    "    \n",
    "    # Adding random displacement within a radius of 0.0001 degrees\n",
    "    displacement = (randint(-10, 10) * 0.00001, randint(-10, 10) * 0.00001)\n",
    "    marker_position = (row['GPS Coordinates'][0] + displacement[0], row['GPS Coordinates'][1] + displacement[1])\n",
    "    \n",
    "    folium.Marker(location=marker_position, popup=popup_content, icon=folium.Icon(color=marker_color)).add_to(mymap)\n",
    "\n"
   ]
  },
  {
   "cell_type": "code",
   "execution_count": 275,
   "id": "e0624cd8",
   "metadata": {
    "scrolled": true
   },
   "outputs": [
    {
     "data": {
      "text/html": [
       "<div style=\"width:100%;\"><div style=\"position:relative;width:100%;height:0;padding-bottom:60%;\"><span style=\"color:#565656\">Make this Notebook Trusted to load map: File -> Trust Notebook</span><iframe srcdoc=\"&lt;!DOCTYPE html&gt;\n",
       "&lt;html&gt;\n",
       "&lt;head&gt;\n",
       "    \n",
       "    &lt;meta http-equiv=&quot;content-type&quot; content=&quot;text/html; charset=UTF-8&quot; /&gt;\n",
       "    \n",
       "        &lt;script&gt;\n",
       "            L_NO_TOUCH = false;\n",
       "            L_DISABLE_3D = false;\n",
       "        &lt;/script&gt;\n",
       "    \n",
       "    &lt;style&gt;html, body {width: 100%;height: 100%;margin: 0;padding: 0;}&lt;/style&gt;\n",
       "    &lt;style&gt;#map {position:absolute;top:0;bottom:0;right:0;left:0;}&lt;/style&gt;\n",
       "    &lt;script src=&quot;https://cdn.jsdelivr.net/npm/leaflet@1.9.3/dist/leaflet.js&quot;&gt;&lt;/script&gt;\n",
       "    &lt;script src=&quot;https://code.jquery.com/jquery-1.12.4.min.js&quot;&gt;&lt;/script&gt;\n",
       "    &lt;script src=&quot;https://cdn.jsdelivr.net/npm/bootstrap@5.2.2/dist/js/bootstrap.bundle.min.js&quot;&gt;&lt;/script&gt;\n",
       "    &lt;script src=&quot;https://cdnjs.cloudflare.com/ajax/libs/Leaflet.awesome-markers/2.0.2/leaflet.awesome-markers.js&quot;&gt;&lt;/script&gt;\n",
       "    &lt;link rel=&quot;stylesheet&quot; href=&quot;https://cdn.jsdelivr.net/npm/leaflet@1.9.3/dist/leaflet.css&quot;/&gt;\n",
       "    &lt;link rel=&quot;stylesheet&quot; href=&quot;https://cdn.jsdelivr.net/npm/bootstrap@5.2.2/dist/css/bootstrap.min.css&quot;/&gt;\n",
       "    &lt;link rel=&quot;stylesheet&quot; href=&quot;https://netdna.bootstrapcdn.com/bootstrap/3.0.0/css/bootstrap.min.css&quot;/&gt;\n",
       "    &lt;link rel=&quot;stylesheet&quot; href=&quot;https://cdn.jsdelivr.net/npm/@fortawesome/fontawesome-free@6.2.0/css/all.min.css&quot;/&gt;\n",
       "    &lt;link rel=&quot;stylesheet&quot; href=&quot;https://cdnjs.cloudflare.com/ajax/libs/Leaflet.awesome-markers/2.0.2/leaflet.awesome-markers.css&quot;/&gt;\n",
       "    &lt;link rel=&quot;stylesheet&quot; href=&quot;https://cdn.jsdelivr.net/gh/python-visualization/folium/folium/templates/leaflet.awesome.rotate.min.css&quot;/&gt;\n",
       "    \n",
       "            &lt;meta name=&quot;viewport&quot; content=&quot;width=device-width,\n",
       "                initial-scale=1.0, maximum-scale=1.0, user-scalable=no&quot; /&gt;\n",
       "            &lt;style&gt;\n",
       "                #map_4f15cc37928ddc9dc87aab58ce82c651 {\n",
       "                    position: relative;\n",
       "                    width: 100.0%;\n",
       "                    height: 100.0%;\n",
       "                    left: 0.0%;\n",
       "                    top: 0.0%;\n",
       "                }\n",
       "                .leaflet-container { font-size: 1rem; }\n",
       "            &lt;/style&gt;\n",
       "        \n",
       "&lt;/head&gt;\n",
       "&lt;body&gt;\n",
       "    \n",
       "    \n",
       "            &lt;div class=&quot;folium-map&quot; id=&quot;map_4f15cc37928ddc9dc87aab58ce82c651&quot; &gt;&lt;/div&gt;\n",
       "        \n",
       "&lt;/body&gt;\n",
       "&lt;script&gt;\n",
       "    \n",
       "    \n",
       "            var map_4f15cc37928ddc9dc87aab58ce82c651 = L.map(\n",
       "                &quot;map_4f15cc37928ddc9dc87aab58ce82c651&quot;,\n",
       "                {\n",
       "                    center: [28.41867159814188, -81.58118955843302],\n",
       "                    crs: L.CRS.EPSG3857,\n",
       "                    zoom: 10,\n",
       "                    zoomControl: true,\n",
       "                    preferCanvas: false,\n",
       "                }\n",
       "            );\n",
       "\n",
       "            \n",
       "\n",
       "        \n",
       "    \n",
       "            var tile_layer_71d6f188dc3949d5af2453d08f42b667 = L.tileLayer(\n",
       "                &quot;https://{s}.tile.openstreetmap.org/{z}/{x}/{y}.png&quot;,\n",
       "                {&quot;attribution&quot;: &quot;Data by \\u0026copy; \\u003ca target=\\&quot;_blank\\&quot; href=\\&quot;http://openstreetmap.org\\&quot;\\u003eOpenStreetMap\\u003c/a\\u003e, under \\u003ca target=\\&quot;_blank\\&quot; href=\\&quot;http://www.openstreetmap.org/copyright\\&quot;\\u003eODbL\\u003c/a\\u003e.&quot;, &quot;detectRetina&quot;: false, &quot;maxNativeZoom&quot;: 18, &quot;maxZoom&quot;: 18, &quot;minZoom&quot;: 0, &quot;noWrap&quot;: false, &quot;opacity&quot;: 1, &quot;subdomains&quot;: &quot;abc&quot;, &quot;tms&quot;: false}\n",
       "            ).addTo(map_4f15cc37928ddc9dc87aab58ce82c651);\n",
       "        \n",
       "    \n",
       "            var marker_2d7d1ca732bf521d099deccdd399b930 = L.marker(\n",
       "                [28.418731598141882, -81.58122955843302],\n",
       "                {}\n",
       "            ).addTo(map_4f15cc37928ddc9dc87aab58ce82c651);\n",
       "        \n",
       "    \n",
       "            var icon_8531d8cb64613ec964e68d66c133295f = L.AwesomeMarkers.icon(\n",
       "                {&quot;extraClasses&quot;: &quot;fa-rotate-0&quot;, &quot;icon&quot;: &quot;info-sign&quot;, &quot;iconColor&quot;: &quot;white&quot;, &quot;markerColor&quot;: &quot;blue&quot;, &quot;prefix&quot;: &quot;glyphicon&quot;}\n",
       "            );\n",
       "            marker_2d7d1ca732bf521d099deccdd399b930.setIcon(icon_8531d8cb64613ec964e68d66c133295f);\n",
       "        \n",
       "    \n",
       "        var popup_9cb0ff0d3bcf8b2ab21b334ad9144ee0 = L.popup({&quot;maxWidth&quot;: &quot;100%&quot;});\n",
       "\n",
       "        \n",
       "            \n",
       "                var html_026f41e61a2af3255a1373b5715f17b4 = $(`&lt;div id=&quot;html_026f41e61a2af3255a1373b5715f17b4&quot; style=&quot;width: 100.0%; height: 100.0%;&quot;&gt;Location: Castle Hub&lt;br&gt;Description: Minor Child male. eye inflammation from Firework ashes. Guest Damian (Lilo) / Dylan Trevino (GSS) while at MK today suffered an eye injury where debris from Castle Show irritated his left eye.&lt;br&gt;Show: Magical Friendship Faire&lt;br&gt;Closures: No Land Closures&lt;/div&gt;`)[0];\n",
       "                popup_9cb0ff0d3bcf8b2ab21b334ad9144ee0.setContent(html_026f41e61a2af3255a1373b5715f17b4);\n",
       "            \n",
       "        \n",
       "\n",
       "        marker_2d7d1ca732bf521d099deccdd399b930.bindPopup(popup_9cb0ff0d3bcf8b2ab21b334ad9144ee0)\n",
       "        ;\n",
       "\n",
       "        \n",
       "    \n",
       "&lt;/script&gt;\n",
       "&lt;/html&gt;\" style=\"position:absolute;width:100%;height:100%;left:0;top:0;border:none !important;\" allowfullscreen webkitallowfullscreen mozallowfullscreen></iframe></div></div>"
      ],
      "text/plain": [
       "<folium.folium.Map at 0x22b131e4910>"
      ]
     },
     "execution_count": 275,
     "metadata": {},
     "output_type": "execute_result"
    }
   ],
   "source": [
    "mymap"
   ]
  },
  {
   "cell_type": "code",
   "execution_count": 276,
   "id": "5ffbd48e",
   "metadata": {},
   "outputs": [],
   "source": [
    "mymap.save('J:/Data/RMSA Analysis/0 - Team Working Files/10 - Nick/AllIncidentsClosuresCluster3_24.html')"
   ]
  },
  {
   "cell_type": "code",
   "execution_count": 223,
   "id": "d209145c",
   "metadata": {},
   "outputs": [],
   "source": [
    "map_center = df['GPS Coordinates'].iloc[0]\n",
    "mymap = folium.Map(location=map_center, zoom_start=10)\n",
    "\n",
    "marker_cluster = MarkerCluster().add_to(mymap)\n",
    "\n",
    "for index, row in df.iterrows():\n",
    "    location = row['LOCATION']\n",
    "    description = row['Incident Description']\n",
    "    show = row['Show']\n",
    "    closures = row['Extended Land Closures']\n",
    "    \n",
    "    marker_color = 'orange' if closures == 'Y' else 'blue'\n",
    "    \n",
    "    popup_content = f\"Location: {location}<br>Description: {description}<br>Show: {show}<br>Closures: {closures}\"\n",
    "    \n",
    "    folium.Marker(location=row['GPS Coordinates'], popup=popup_content, icon=folium.Icon(color=marker_color)).add_to(marker_cluster)"
   ]
  },
  {
   "cell_type": "code",
   "execution_count": 224,
   "id": "d80bf52d",
   "metadata": {},
   "outputs": [
    {
     "data": {
      "text/html": [
       "<div style=\"width:100%;\"><div style=\"position:relative;width:100%;height:0;padding-bottom:60%;\"><span style=\"color:#565656\">Make this Notebook Trusted to load map: File -> Trust Notebook</span><iframe srcdoc=\"&lt;!DOCTYPE html&gt;\n",
       "&lt;html&gt;\n",
       "&lt;head&gt;\n",
       "    \n",
       "    &lt;meta http-equiv=&quot;content-type&quot; content=&quot;text/html; charset=UTF-8&quot; /&gt;\n",
       "    \n",
       "        &lt;script&gt;\n",
       "            L_NO_TOUCH = false;\n",
       "            L_DISABLE_3D = false;\n",
       "        &lt;/script&gt;\n",
       "    \n",
       "    &lt;style&gt;html, body {width: 100%;height: 100%;margin: 0;padding: 0;}&lt;/style&gt;\n",
       "    &lt;style&gt;#map {position:absolute;top:0;bottom:0;right:0;left:0;}&lt;/style&gt;\n",
       "    &lt;script src=&quot;https://cdn.jsdelivr.net/npm/leaflet@1.9.3/dist/leaflet.js&quot;&gt;&lt;/script&gt;\n",
       "    &lt;script src=&quot;https://code.jquery.com/jquery-1.12.4.min.js&quot;&gt;&lt;/script&gt;\n",
       "    &lt;script src=&quot;https://cdn.jsdelivr.net/npm/bootstrap@5.2.2/dist/js/bootstrap.bundle.min.js&quot;&gt;&lt;/script&gt;\n",
       "    &lt;script src=&quot;https://cdnjs.cloudflare.com/ajax/libs/Leaflet.awesome-markers/2.0.2/leaflet.awesome-markers.js&quot;&gt;&lt;/script&gt;\n",
       "    &lt;link rel=&quot;stylesheet&quot; href=&quot;https://cdn.jsdelivr.net/npm/leaflet@1.9.3/dist/leaflet.css&quot;/&gt;\n",
       "    &lt;link rel=&quot;stylesheet&quot; href=&quot;https://cdn.jsdelivr.net/npm/bootstrap@5.2.2/dist/css/bootstrap.min.css&quot;/&gt;\n",
       "    &lt;link rel=&quot;stylesheet&quot; href=&quot;https://netdna.bootstrapcdn.com/bootstrap/3.0.0/css/bootstrap.min.css&quot;/&gt;\n",
       "    &lt;link rel=&quot;stylesheet&quot; href=&quot;https://cdn.jsdelivr.net/npm/@fortawesome/fontawesome-free@6.2.0/css/all.min.css&quot;/&gt;\n",
       "    &lt;link rel=&quot;stylesheet&quot; href=&quot;https://cdnjs.cloudflare.com/ajax/libs/Leaflet.awesome-markers/2.0.2/leaflet.awesome-markers.css&quot;/&gt;\n",
       "    &lt;link rel=&quot;stylesheet&quot; href=&quot;https://cdn.jsdelivr.net/gh/python-visualization/folium/folium/templates/leaflet.awesome.rotate.min.css&quot;/&gt;\n",
       "    \n",
       "            &lt;meta name=&quot;viewport&quot; content=&quot;width=device-width,\n",
       "                initial-scale=1.0, maximum-scale=1.0, user-scalable=no&quot; /&gt;\n",
       "            &lt;style&gt;\n",
       "                #map_34eec0a52457223a6845d0be612b29c5 {\n",
       "                    position: relative;\n",
       "                    width: 100.0%;\n",
       "                    height: 100.0%;\n",
       "                    left: 0.0%;\n",
       "                    top: 0.0%;\n",
       "                }\n",
       "                .leaflet-container { font-size: 1rem; }\n",
       "            &lt;/style&gt;\n",
       "        \n",
       "    &lt;script src=&quot;https://cdnjs.cloudflare.com/ajax/libs/leaflet.markercluster/1.1.0/leaflet.markercluster.js&quot;&gt;&lt;/script&gt;\n",
       "    &lt;link rel=&quot;stylesheet&quot; href=&quot;https://cdnjs.cloudflare.com/ajax/libs/leaflet.markercluster/1.1.0/MarkerCluster.css&quot;/&gt;\n",
       "    &lt;link rel=&quot;stylesheet&quot; href=&quot;https://cdnjs.cloudflare.com/ajax/libs/leaflet.markercluster/1.1.0/MarkerCluster.Default.css&quot;/&gt;\n",
       "&lt;/head&gt;\n",
       "&lt;body&gt;\n",
       "    \n",
       "    \n",
       "            &lt;div class=&quot;folium-map&quot; id=&quot;map_34eec0a52457223a6845d0be612b29c5&quot; &gt;&lt;/div&gt;\n",
       "        \n",
       "&lt;/body&gt;\n",
       "&lt;script&gt;\n",
       "    \n",
       "    \n",
       "            var map_34eec0a52457223a6845d0be612b29c5 = L.map(\n",
       "                &quot;map_34eec0a52457223a6845d0be612b29c5&quot;,\n",
       "                {\n",
       "                    center: [28.41867159814188, -81.58118955843302],\n",
       "                    crs: L.CRS.EPSG3857,\n",
       "                    zoom: 10,\n",
       "                    zoomControl: true,\n",
       "                    preferCanvas: false,\n",
       "                }\n",
       "            );\n",
       "\n",
       "            \n",
       "\n",
       "        \n",
       "    \n",
       "            var tile_layer_6854b9dcf56d8d23d8418bc60983151f = L.tileLayer(\n",
       "                &quot;https://{s}.tile.openstreetmap.org/{z}/{x}/{y}.png&quot;,\n",
       "                {&quot;attribution&quot;: &quot;Data by \\u0026copy; \\u003ca target=\\&quot;_blank\\&quot; href=\\&quot;http://openstreetmap.org\\&quot;\\u003eOpenStreetMap\\u003c/a\\u003e, under \\u003ca target=\\&quot;_blank\\&quot; href=\\&quot;http://www.openstreetmap.org/copyright\\&quot;\\u003eODbL\\u003c/a\\u003e.&quot;, &quot;detectRetina&quot;: false, &quot;maxNativeZoom&quot;: 18, &quot;maxZoom&quot;: 18, &quot;minZoom&quot;: 0, &quot;noWrap&quot;: false, &quot;opacity&quot;: 1, &quot;subdomains&quot;: &quot;abc&quot;, &quot;tms&quot;: false}\n",
       "            ).addTo(map_34eec0a52457223a6845d0be612b29c5);\n",
       "        \n",
       "    \n",
       "            var marker_cluster_8d11b8f0b2fb291458176fd5724662a7 = L.markerClusterGroup(\n",
       "                {}\n",
       "            );\n",
       "            map_34eec0a52457223a6845d0be612b29c5.addLayer(marker_cluster_8d11b8f0b2fb291458176fd5724662a7);\n",
       "        \n",
       "    \n",
       "            var marker_9c471d0e96d94b4d53dc097a965a9931 = L.marker(\n",
       "                [28.41867159814188, -81.58118955843302],\n",
       "                {}\n",
       "            ).addTo(marker_cluster_8d11b8f0b2fb291458176fd5724662a7);\n",
       "        \n",
       "    \n",
       "            var icon_aed636d79a8e38421719507589f64a46 = L.AwesomeMarkers.icon(\n",
       "                {&quot;extraClasses&quot;: &quot;fa-rotate-0&quot;, &quot;icon&quot;: &quot;info-sign&quot;, &quot;iconColor&quot;: &quot;white&quot;, &quot;markerColor&quot;: &quot;blue&quot;, &quot;prefix&quot;: &quot;glyphicon&quot;}\n",
       "            );\n",
       "            marker_9c471d0e96d94b4d53dc097a965a9931.setIcon(icon_aed636d79a8e38421719507589f64a46);\n",
       "        \n",
       "    \n",
       "        var popup_2e2ed8305e1ae1d9dd568f9e51d719d0 = L.popup({&quot;maxWidth&quot;: &quot;100%&quot;});\n",
       "\n",
       "        \n",
       "            \n",
       "                var html_b9db2fc75976dc6a39e7a46aeb0edb51 = $(`&lt;div id=&quot;html_b9db2fc75976dc6a39e7a46aeb0edb51&quot; style=&quot;width: 100.0%; height: 100.0%;&quot;&gt;Location: Castle Hub&lt;br&gt;Description: Guest states he rode &quot;7 Dwarfs then Castle Show&quot; &quot;I didn&#x27;t feel anything.&quot;   After the castle show &quot;my wife noticed my eye was red.&quot; after the fireworks went up.&lt;br&gt;Show: Magical Friendship Faire&lt;br&gt;Closures: No Land Closures&lt;/div&gt;`)[0];\n",
       "                popup_2e2ed8305e1ae1d9dd568f9e51d719d0.setContent(html_b9db2fc75976dc6a39e7a46aeb0edb51);\n",
       "            \n",
       "        \n",
       "\n",
       "        marker_9c471d0e96d94b4d53dc097a965a9931.bindPopup(popup_2e2ed8305e1ae1d9dd568f9e51d719d0)\n",
       "        ;\n",
       "\n",
       "        \n",
       "    \n",
       "&lt;/script&gt;\n",
       "&lt;/html&gt;\" style=\"position:absolute;width:100%;height:100%;left:0;top:0;border:none !important;\" allowfullscreen webkitallowfullscreen mozallowfullscreen></iframe></div></div>"
      ],
      "text/plain": [
       "<folium.folium.Map at 0x22b192154d0>"
      ]
     },
     "execution_count": 224,
     "metadata": {},
     "output_type": "execute_result"
    }
   ],
   "source": [
    "mymap"
   ]
  },
  {
   "cell_type": "code",
   "execution_count": null,
   "id": "220007d7",
   "metadata": {},
   "outputs": [],
   "source": [
    "mymap.save('J:/Data/RMSA Analysis/0 - Team Working Files/10 - Nick/AllIncidentsClosuresCluster4_1.html')\n"
   ]
  },
  {
   "cell_type": "code",
   "execution_count": null,
   "id": "631a7fe2",
   "metadata": {},
   "outputs": [],
   "source": [
    "df_closures = df[df['Closures'] == 'Y']"
   ]
  },
  {
   "cell_type": "code",
   "execution_count": null,
   "id": "c61259e7",
   "metadata": {},
   "outputs": [],
   "source": [
    "df_closures"
   ]
  },
  {
   "cell_type": "code",
   "execution_count": null,
   "id": "06e91eb5",
   "metadata": {},
   "outputs": [],
   "source": [
    "map_center = df_closures['GPS Coordinates'].iloc[0]\n",
    "mymap = folium.Map(location=map_center, zoom_start=10)\n",
    "\n",
    "for index, row in df_closures.iterrows():\n",
    "    location = row['LOCATION']\n",
    "    description = row['Incident Description']\n",
    "    show = row['Show']\n",
    "    inclosedzone = row['In Closed Zone']\n",
    "    \n",
    "    marker_color = 'orange' if inclosedzone == 'Y' else 'blue'\n",
    "    \n",
    "    popup_content = f\"Location: {location}<br>Description: {description}<br>Show: {show}<br>In Closed Zone: {inclosedzone}\"\n",
    "    \n",
    "    folium.Marker(location=row['GPS Coordinates'], popup=popup_content, icon=folium.Icon(color=marker_color)).add_to(mymap)"
   ]
  },
  {
   "cell_type": "code",
   "execution_count": null,
   "id": "f8592b32",
   "metadata": {
    "scrolled": true
   },
   "outputs": [],
   "source": [
    "mymap"
   ]
  },
  {
   "cell_type": "code",
   "execution_count": null,
   "id": "6528a50f",
   "metadata": {},
   "outputs": [],
   "source": [
    "mymap.save('J:/Data/RMSA Analysis/0 - Team Working Files/10 - Nick/ClosureIncidents.html')"
   ]
  },
  {
   "cell_type": "code",
   "execution_count": null,
   "id": "86915908",
   "metadata": {},
   "outputs": [],
   "source": [
    "map_center = df_closures['GPS Coordinates'].iloc[0]\n",
    "mymap = folium.Map(location=map_center, zoom_start=10)\n",
    "\n",
    "# Create a MarkerCluster to group incidents at the same location\n",
    "marker_cluster = MarkerCluster().add_to(mymap)\n",
    "\n",
    "# Iterate over the DataFrame rows and add markers to the map\n",
    "for index, row in df_closures.iterrows():\n",
    "    location = row['Location']\n",
    "    description = row['Description']\n",
    "    show = row['Show']\n",
    "    inclosedzone = row['In Closed Zone']\n",
    "    \n",
    "    # Set marker color based on 'In_Closed_Zone'\n",
    "    marker_color = 'orange' if inclosedzone == 'Y' else 'blue'\n",
    "    \n",
    "    popup_content = f\"Location: {location}<br>Description: {description}<br>Show: {show}<br>In Closed Zone: {inclosedzone}\"\n",
    "    \n",
    "    # Add marker with customized color to the MarkerCluster\n",
    "    folium.Marker(location=row['GPS Coordinates'], popup=popup_content, icon=folium.Icon(color=marker_color)).add_to(marker_cluster)"
   ]
  },
  {
   "cell_type": "code",
   "execution_count": null,
   "id": "22ec852c",
   "metadata": {},
   "outputs": [],
   "source": [
    "mymap.save('J:/Data/RMSA Analysis/0 - Team Working Files/10 - Nick/ClosureIncidentsCluster.html')\n"
   ]
  },
  {
   "cell_type": "code",
   "execution_count": null,
   "id": "d414c5b9",
   "metadata": {},
   "outputs": [],
   "source": [
    "df_struck = df[df['Description'] != 'Debris in Eye']"
   ]
  },
  {
   "cell_type": "code",
   "execution_count": null,
   "id": "ebebefd0",
   "metadata": {},
   "outputs": [],
   "source": [
    "df_struck"
   ]
  },
  {
   "cell_type": "code",
   "execution_count": null,
   "id": "0dede551",
   "metadata": {},
   "outputs": [],
   "source": [
    "map_center = df_struck['GPS Coordinates'].iloc[0]\n",
    "mymap = folium.Map(location=map_center, zoom_start=10)\n",
    "\n",
    "for index, row in df_struck.iterrows():\n",
    "    location = row['Location']\n",
    "    description = row['Description']\n",
    "    show = row['Show']\n",
    "    closures = row['Closures']\n",
    "    \n",
    "    marker_color = 'orange' if closures == 'Y' else 'blue'\n",
    "    \n",
    "    popup_content = f\"Location: {location}<br>Description: {description}<br>Show: {show}<br>Zone Closure: {closures}\"\n",
    "    \n",
    "    folium.Marker(location=row['GPS Coordinates'], popup=popup_content, icon=folium.Icon(color=marker_color)).add_to(mymap)"
   ]
  },
  {
   "cell_type": "code",
   "execution_count": null,
   "id": "2e20bbdf",
   "metadata": {},
   "outputs": [],
   "source": [
    "mymap.save('J:/Data/RMSA Analysis/0 - Team Working Files/10 - Nick/StruckBy.html')\n"
   ]
  },
  {
   "cell_type": "code",
   "execution_count": null,
   "id": "a9b6332d",
   "metadata": {},
   "outputs": [],
   "source": [
    "map_center = df_struck['GPS Coordinates'].iloc[0]\n",
    "mymap = folium.Map(location=map_center, zoom_start=10)\n",
    "\n",
    "marker_cluster = MarkerCluster().add_to(mymap)\n",
    "\n",
    "for index, row in df_struck.iterrows():\n",
    "    location = row['Location']\n",
    "    description = row['Description']\n",
    "    show = row['Show']\n",
    "    closures = row['Closures']\n",
    "    \n",
    "    marker_color = 'orange' if closures == 'Y' else 'blue'\n",
    "    \n",
    "    popup_content = f\"Location: {location}<br>Description: {description}<br>Show: {show}<br>Closures: {closures}\"\n",
    "    \n",
    "    folium.Marker(location=row['GPS Coordinates'], popup=popup_content, icon=folium.Icon(color=marker_color)).add_to(marker_cluster)"
   ]
  },
  {
   "cell_type": "code",
   "execution_count": null,
   "id": "69ec0ed4",
   "metadata": {},
   "outputs": [],
   "source": [
    "mymap.save('J:/Data/RMSA Analysis/0 - Team Working Files/10 - Nick/StruckByCluster.html')\n"
   ]
  },
  {
   "cell_type": "code",
   "execution_count": null,
   "id": "f7db6029",
   "metadata": {},
   "outputs": [],
   "source": []
  }
 ],
 "metadata": {
  "kernelspec": {
   "display_name": "Python 3 (ipykernel)",
   "language": "python",
   "name": "python3"
  },
  "language_info": {
   "codemirror_mode": {
    "name": "ipython",
    "version": 3
   },
   "file_extension": ".py",
   "mimetype": "text/x-python",
   "name": "python",
   "nbconvert_exporter": "python",
   "pygments_lexer": "ipython3",
   "version": "3.11.4"
  }
 },
 "nbformat": 4,
 "nbformat_minor": 5
}
