{
 "cells": [
  {
   "cell_type": "code",
   "execution_count": 1,
   "id": "36e7f657",
   "metadata": {},
   "outputs": [],
   "source": [
    "import pandas as pd\n",
    "import numpy as np"
   ]
  },
  {
   "cell_type": "code",
   "execution_count": 2,
   "id": "38825be5",
   "metadata": {},
   "outputs": [],
   "source": [
    "WDWweather = pd.read_excel('WDW Weather.xlsx')\n",
    "DLRweather = pd.read_excel('DLR Weather.xlsx')\n",
    "WDWincident = pd.read_excel('DLR IAAPA Incident ONLY 1_3.xlsx')\n",
    "DLRincident = pd.read_excel('DLR IAAPA Incident ONLY 1_3.xlsx')"
   ]
  },
  {
   "cell_type": "code",
   "execution_count": 3,
   "id": "a799ccb4",
   "metadata": {},
   "outputs": [],
   "source": [
    "wdw_weather = DLRweather\n",
    "wdw_incident = DLRincident"
   ]
  },
  {
   "cell_type": "code",
   "execution_count": 4,
   "id": "052a4773",
   "metadata": {},
   "outputs": [],
   "source": [
    "wdw_weather[\"Date\"] = pd.to_datetime(wdw_weather[\"Date\"])\n",
    "wdw_incident[\"Date of Incident/Loss\"] = pd.to_datetime(wdw_incident[\"Date of Incident/Loss\"])"
   ]
  },
  {
   "cell_type": "code",
   "execution_count": 5,
   "id": "6550e8aa",
   "metadata": {},
   "outputs": [],
   "source": [
    "start_date = \"2022-10-1\"\n",
    "end_date = \"2024-09-15\"\n",
    "\n",
    "wdw_weather = wdw_weather[\n",
    "    (wdw_weather[\"Date\"] >= start_date) & \n",
    "    (wdw_weather[\"Date\"] <= end_date)]"
   ]
  },
  {
   "cell_type": "code",
   "execution_count": 6,
   "id": "d61eafe2",
   "metadata": {},
   "outputs": [],
   "source": [
    "wdw_incident.rename(columns={\"Date of Incident/Loss\": \"Date\"}, inplace=True)"
   ]
  },
  {
   "cell_type": "code",
   "execution_count": 7,
   "id": "55b7f666",
   "metadata": {},
   "outputs": [
    {
     "name": "stdout",
     "output_type": "stream",
     "text": [
      "        Date  IncidentCount\n",
      "0 2021-05-28              1\n",
      "1 2021-06-24              1\n",
      "2 2021-07-19              1\n",
      "3 2021-07-27              1\n",
      "4 2021-08-14              1\n"
     ]
    }
   ],
   "source": [
    "# Group by Date and count rows to get total incidents per day\n",
    "daily_incidents = (\n",
    "    wdw_incident\n",
    "    .groupby(\"Date\")\n",
    "    .size()  # count how many incident rows occurred on that Date\n",
    "    .reset_index(name=\"IncidentCount\")\n",
    ")\n",
    "\n",
    "print(daily_incidents.head())"
   ]
  },
  {
   "cell_type": "code",
   "execution_count": 8,
   "id": "cdcfaa5b",
   "metadata": {},
   "outputs": [],
   "source": [
    "# Determine the overall min and max date across both DataFrames\n",
    "combined_min_date = min(wdw_weather[\"Date\"].min(), daily_incidents[\"Date\"].min())\n",
    "combined_max_date = max(wdw_weather[\"Date\"].max(), daily_incidents[\"Date\"].max())\n",
    "\n",
    "# Create a daily date range\n",
    "all_dates = pd.date_range(start=combined_min_date, end=combined_max_date, freq=\"D\")\n",
    "\n",
    "# Build a DataFrame of all those dates\n",
    "all_days = pd.DataFrame({\"Date\": all_dates})"
   ]
  },
  {
   "cell_type": "code",
   "execution_count": 9,
   "id": "cff11fae",
   "metadata": {},
   "outputs": [],
   "source": [
    "all_days = pd.merge(all_days, daily_incidents, on=\"Date\", how=\"left\")\n",
    "all_days[\"IncidentCount\"] = all_days[\"IncidentCount\"].fillna(0)"
   ]
  },
  {
   "cell_type": "code",
   "execution_count": 10,
   "id": "47bdfb4c",
   "metadata": {},
   "outputs": [
    {
     "name": "stderr",
     "output_type": "stream",
     "text": [
      "C:\\Users\\gduln001\\AppData\\Local\\Temp\\1\\ipykernel_6632\\3800357853.py:1: SettingWithCopyWarning: \n",
      "A value is trying to be set on a copy of a slice from a DataFrame.\n",
      "Try using .loc[row_indexer,col_indexer] = value instead\n",
      "\n",
      "See the caveats in the documentation: https://pandas.pydata.org/pandas-docs/stable/user_guide/indexing.html#returning-a-view-versus-a-copy\n",
      "  wdw_weather[\"Maximum\"] = pd.to_numeric(wdw_weather[\"Maximum\"], errors=\"coerce\")\n"
     ]
    }
   ],
   "source": [
    "wdw_weather[\"Maximum\"] = pd.to_numeric(wdw_weather[\"Maximum\"], errors=\"coerce\")"
   ]
  },
  {
   "cell_type": "code",
   "execution_count": 11,
   "id": "bbd36798",
   "metadata": {},
   "outputs": [
    {
     "name": "stderr",
     "output_type": "stream",
     "text": [
      "C:\\Users\\gduln001\\AppData\\Local\\Temp\\1\\ipykernel_6632\\1280612615.py:2: SettingWithCopyWarning: \n",
      "A value is trying to be set on a copy of a slice from a DataFrame.\n",
      "Try using .loc[row_indexer,col_indexer] = value instead\n",
      "\n",
      "See the caveats in the documentation: https://pandas.pydata.org/pandas-docs/stable/user_guide/indexing.html#returning-a-view-versus-a-copy\n",
      "  wdw_weather[\"year_month\"] = wdw_weather[\"Date\"].dt.to_period(\"M\")\n",
      "C:\\Users\\gduln001\\AppData\\Local\\Temp\\1\\ipykernel_6632\\1280612615.py:14: SettingWithCopyWarning: \n",
      "A value is trying to be set on a copy of a slice from a DataFrame.\n",
      "Try using .loc[row_indexer,col_indexer] = value instead\n",
      "\n",
      "See the caveats in the documentation: https://pandas.pydata.org/pandas-docs/stable/user_guide/indexing.html#returning-a-view-versus-a-copy\n",
      "  wdw_weather[\"Maximum\"] = wdw_weather.apply(fill_missing_max, axis=1)\n"
     ]
    }
   ],
   "source": [
    "# Create a 'year_month' period for grouping\n",
    "wdw_weather[\"year_month\"] = wdw_weather[\"Date\"].dt.to_period(\"M\")\n",
    "\n",
    "# Calculate mean daily maximum per year-month\n",
    "monthly_avg_max = wdw_weather.groupby(\"year_month\")[\"Maximum\"].mean()\n",
    "\n",
    "# Fill missing daily maxima with the monthly average\n",
    "def fill_missing_max(row):\n",
    "    if pd.isna(row[\"Maximum\"]):\n",
    "        return monthly_avg_max[row[\"year_month\"]]\n",
    "    else:\n",
    "        return row[\"Maximum\"]\n",
    "\n",
    "wdw_weather[\"Maximum\"] = wdw_weather.apply(fill_missing_max, axis=1)\n"
   ]
  },
  {
   "cell_type": "code",
   "execution_count": 12,
   "id": "77f3f8b4",
   "metadata": {},
   "outputs": [
    {
     "name": "stderr",
     "output_type": "stream",
     "text": [
      "C:\\Users\\gduln001\\AppData\\Local\\Temp\\1\\ipykernel_6632\\2950645508.py:1: SettingWithCopyWarning: \n",
      "A value is trying to be set on a copy of a slice from a DataFrame.\n",
      "Try using .loc[row_indexer,col_indexer] = value instead\n",
      "\n",
      "See the caveats in the documentation: https://pandas.pydata.org/pandas-docs/stable/user_guide/indexing.html#returning-a-view-versus-a-copy\n",
      "  wdw_weather[\"Precipitation\"] = pd.to_numeric(wdw_weather[\"Precipitation\"], errors=\"coerce\")\n"
     ]
    }
   ],
   "source": [
    "wdw_weather[\"Precipitation\"] = pd.to_numeric(wdw_weather[\"Precipitation\"], errors=\"coerce\")\n",
    "\n",
    "# If you want to treat missing precipitation as 0 (or fill with monthly avg), do so.\n",
    "#wdw_weather[\"Precipitation\"] = wdw_weather[\"Precipitation\"].fillna(0)"
   ]
  },
  {
   "cell_type": "code",
   "execution_count": 13,
   "id": "2398d1ff",
   "metadata": {},
   "outputs": [],
   "source": [
    "merged_df = pd.merge(\n",
    "    all_days, \n",
    "    wdw_weather[[\"Date\", \"Maximum\", \"Precipitation\"]], \n",
    "    on=\"Date\", \n",
    "    how=\"left\"\n",
    ")"
   ]
  },
  {
   "cell_type": "code",
   "execution_count": 14,
   "id": "7322a8b0",
   "metadata": {},
   "outputs": [
    {
     "data": {
      "text/html": [
       "<div>\n",
       "<style scoped>\n",
       "    .dataframe tbody tr th:only-of-type {\n",
       "        vertical-align: middle;\n",
       "    }\n",
       "\n",
       "    .dataframe tbody tr th {\n",
       "        vertical-align: top;\n",
       "    }\n",
       "\n",
       "    .dataframe thead th {\n",
       "        text-align: right;\n",
       "    }\n",
       "</style>\n",
       "<table border=\"1\" class=\"dataframe\">\n",
       "  <thead>\n",
       "    <tr style=\"text-align: right;\">\n",
       "      <th></th>\n",
       "      <th>Date</th>\n",
       "      <th>IncidentCount</th>\n",
       "      <th>Maximum</th>\n",
       "      <th>Precipitation</th>\n",
       "    </tr>\n",
       "  </thead>\n",
       "  <tbody>\n",
       "    <tr>\n",
       "      <th>0</th>\n",
       "      <td>2021-05-28</td>\n",
       "      <td>1.0</td>\n",
       "      <td>NaN</td>\n",
       "      <td>NaN</td>\n",
       "    </tr>\n",
       "    <tr>\n",
       "      <th>1</th>\n",
       "      <td>2021-05-29</td>\n",
       "      <td>0.0</td>\n",
       "      <td>NaN</td>\n",
       "      <td>NaN</td>\n",
       "    </tr>\n",
       "    <tr>\n",
       "      <th>2</th>\n",
       "      <td>2021-05-30</td>\n",
       "      <td>0.0</td>\n",
       "      <td>NaN</td>\n",
       "      <td>NaN</td>\n",
       "    </tr>\n",
       "    <tr>\n",
       "      <th>3</th>\n",
       "      <td>2021-05-31</td>\n",
       "      <td>0.0</td>\n",
       "      <td>NaN</td>\n",
       "      <td>NaN</td>\n",
       "    </tr>\n",
       "    <tr>\n",
       "      <th>4</th>\n",
       "      <td>2021-06-01</td>\n",
       "      <td>0.0</td>\n",
       "      <td>NaN</td>\n",
       "      <td>NaN</td>\n",
       "    </tr>\n",
       "    <tr>\n",
       "      <th>...</th>\n",
       "      <td>...</td>\n",
       "      <td>...</td>\n",
       "      <td>...</td>\n",
       "      <td>...</td>\n",
       "    </tr>\n",
       "    <tr>\n",
       "      <th>1323</th>\n",
       "      <td>2025-01-10</td>\n",
       "      <td>0.0</td>\n",
       "      <td>NaN</td>\n",
       "      <td>NaN</td>\n",
       "    </tr>\n",
       "    <tr>\n",
       "      <th>1324</th>\n",
       "      <td>2025-01-11</td>\n",
       "      <td>0.0</td>\n",
       "      <td>NaN</td>\n",
       "      <td>NaN</td>\n",
       "    </tr>\n",
       "    <tr>\n",
       "      <th>1325</th>\n",
       "      <td>2025-01-12</td>\n",
       "      <td>0.0</td>\n",
       "      <td>NaN</td>\n",
       "      <td>NaN</td>\n",
       "    </tr>\n",
       "    <tr>\n",
       "      <th>1326</th>\n",
       "      <td>2025-01-13</td>\n",
       "      <td>0.0</td>\n",
       "      <td>NaN</td>\n",
       "      <td>NaN</td>\n",
       "    </tr>\n",
       "    <tr>\n",
       "      <th>1327</th>\n",
       "      <td>2025-01-14</td>\n",
       "      <td>1.0</td>\n",
       "      <td>NaN</td>\n",
       "      <td>NaN</td>\n",
       "    </tr>\n",
       "  </tbody>\n",
       "</table>\n",
       "<p>1328 rows × 4 columns</p>\n",
       "</div>"
      ],
      "text/plain": [
       "           Date  IncidentCount  Maximum  Precipitation\n",
       "0    2021-05-28            1.0      NaN            NaN\n",
       "1    2021-05-29            0.0      NaN            NaN\n",
       "2    2021-05-30            0.0      NaN            NaN\n",
       "3    2021-05-31            0.0      NaN            NaN\n",
       "4    2021-06-01            0.0      NaN            NaN\n",
       "...         ...            ...      ...            ...\n",
       "1323 2025-01-10            0.0      NaN            NaN\n",
       "1324 2025-01-11            0.0      NaN            NaN\n",
       "1325 2025-01-12            0.0      NaN            NaN\n",
       "1326 2025-01-13            0.0      NaN            NaN\n",
       "1327 2025-01-14            1.0      NaN            NaN\n",
       "\n",
       "[1328 rows x 4 columns]"
      ]
     },
     "execution_count": 14,
     "metadata": {},
     "output_type": "execute_result"
    }
   ],
   "source": [
    "merged_df"
   ]
  },
  {
   "cell_type": "code",
   "execution_count": 15,
   "id": "d4637db2",
   "metadata": {},
   "outputs": [
    {
     "name": "stdout",
     "output_type": "stream",
     "text": [
      "               IncidentCount   Maximum  Precipitation\n",
      "IncidentCount       1.000000  0.045897      -0.013849\n",
      "Maximum             0.045897  1.000000      -0.287492\n",
      "Precipitation      -0.013849 -0.287492       1.000000\n"
     ]
    }
   ],
   "source": [
    "corr_matrix = merged_df[[\"IncidentCount\", \"Maximum\", \"Precipitation\"]].corr()\n",
    "print(corr_matrix)"
   ]
  },
  {
   "cell_type": "code",
   "execution_count": 16,
   "id": "ab697910",
   "metadata": {},
   "outputs": [
    {
     "data": {
      "image/png": "[encoded data removed]",
      "text/plain": [
       "<Figure size 640x480 with 1 Axes>"
      ]
     },
     "metadata": {},
     "output_type": "display_data"
    },
    {
     "data": {
      "image/png": "[encoded data removed]",
      "text/plain": [
       "<Figure size 640x480 with 1 Axes>"
      ]
     },
     "metadata": {},
     "output_type": "display_data"
    }
   ],
   "source": [
    "import matplotlib.pyplot as plt\n",
    "\n",
    "# Scatterplot of Incidents vs. Max Temp (green dots)\n",
    "plt.scatter(merged_df[\"Maximum\"], merged_df[\"IncidentCount\"], color=\"green\")\n",
    "plt.title(\"DLR Incidents vs. Maximum Daily Temperature\")\n",
    "plt.xlabel(\"Maximum Temperature\")\n",
    "plt.ylabel(\"Incident Count\")\n",
    "plt.show()\n",
    "\n",
    "# Scatterplot of Incidents vs. Precipitation (green dots)\n",
    "plt.scatter(merged_df[\"Precipitation\"], merged_df[\"IncidentCount\"], color=\"green\")\n",
    "plt.title(\"Incidents vs. Precipitation\")\n",
    "plt.xlabel(\"Precipitation\")\n",
    "plt.ylabel(\"Incident Count\")\n",
    "plt.show()\n",
    "\n"
   ]
  },
  {
   "cell_type": "code",
   "execution_count": 17,
   "id": "49faf6a2",
   "metadata": {},
   "outputs": [
    {
     "name": "stdout",
     "output_type": "stream",
     "text": [
      "               IncidentCount   Maximum\n",
      "IncidentCount       1.000000  0.069352\n",
      "Maximum             0.069352  1.000000\n"
     ]
    }
   ],
   "source": [
    "# Only keep rows where incident count >= 1\n",
    "df_incidents_only = merged_df[merged_df[\"IncidentCount\"] > 0]\n",
    "\n",
    "corr_incidents_only = df_incidents_only[[\"IncidentCount\", \"Maximum\"]].corr()\n",
    "print(corr_incidents_only)\n"
   ]
  },
  {
   "cell_type": "code",
   "execution_count": 18,
   "id": "3401a07b",
   "metadata": {},
   "outputs": [
    {
     "name": "stdout",
     "output_type": "stream",
     "text": [
      "Optimization terminated successfully.\n",
      "         Current function value: 0.273515\n",
      "         Iterations 7\n",
      "                           Logit Regression Results                           \n",
      "==============================================================================\n",
      "Dep. Variable:            HasIncident   No. Observations:                  716\n",
      "Model:                          Logit   Df Residuals:                      714\n",
      "Method:                           MLE   Df Model:                            1\n",
      "Date:                Mon, 17 Mar 2025   Pseudo R-squ.:                0.003159\n",
      "Time:                        16:08:48   Log-Likelihood:                -195.84\n",
      "converged:                       True   LL-Null:                       -196.46\n",
      "Covariance Type:            nonrobust   LLR p-value:                    0.2653\n",
      "==============================================================================\n",
      "                 coef    std err          z      P>|z|      [0.025      0.975]\n",
      "------------------------------------------------------------------------------\n",
      "Intercept     -3.4802      0.925     -3.761      0.000      -5.294      -1.667\n",
      "Maximum        0.0133      0.012      1.119      0.263      -0.010       0.036\n",
      "==============================================================================\n"
     ]
    }
   ],
   "source": [
    "merged_df[\"HasIncident\"] = (merged_df[\"IncidentCount\"] > 0).astype(int)\n",
    "import statsmodels.formula.api as smf\n",
    "\n",
    "model = smf.logit(formula=\"HasIncident ~ Maximum\", data=merged_df).fit()\n",
    "print(model.summary())"
   ]
  },
  {
   "cell_type": "code",
   "execution_count": null,
   "id": "7f732b2f",
   "metadata": {},
   "outputs": [],
   "source": []
  }
 ],
 "metadata": {
  "kernelspec": {
   "display_name": "Python 3 (ipykernel)",
   "language": "python",
   "name": "python3"
  },
  "language_info": {
   "codemirror_mode": {
    "name": "ipython",
    "version": 3
   },
   "file_extension": ".py",
   "mimetype": "text/x-python",
   "name": "python",
   "nbconvert_exporter": "python",
   "pygments_lexer": "ipython3",
   "version": "3.11.4"
  }
 },
 "nbformat": 4,
 "nbformat_minor": 5
}
