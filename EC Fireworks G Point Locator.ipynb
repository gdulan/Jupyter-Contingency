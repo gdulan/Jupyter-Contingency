{
 "cells": [
  {
   "cell_type": "code",
   "execution_count": 1,
   "id": "4be1f35b",
   "metadata": {},
   "outputs": [],
   "source": [
    "import numpy as np\n",
    "import matplotlib.pyplot as plt\n",
    "import seaborn as sns\n",
    "import folium\n",
    "from folium.plugins import HeatMap\n",
    "import gmaps\n",
    "import gmaps.datasets\n",
    "import gmaps.geojson_geometries\n",
    "import gmaps.datasets\n",
    "import pandas as pd\n",
    "import branca\n",
    "from folium.plugins import MarkerCluster\n",
    "import math"
   ]
  },
  {
   "cell_type": "code",
   "execution_count": 2,
   "id": "c7ae92fa",
   "metadata": {},
   "outputs": [],
   "source": [
    "data = pd.read_csv('ECFW4_1v2.csv')"
   ]
  },
  {
   "cell_type": "code",
   "execution_count": 3,
   "id": "f6d54171",
   "metadata": {},
   "outputs": [],
   "source": [
    "df = data"
   ]
  },
  {
   "cell_type": "code",
   "execution_count": 4,
   "id": "ae30599c",
   "metadata": {},
   "outputs": [],
   "source": [
    "df['GPS Coordinates'] = df['GPS Coordinates'].apply(lambda x: tuple(map(float, x.split(', '))) if isinstance(x, str) else x)"
   ]
  },
  {
   "cell_type": "code",
   "execution_count": 5,
   "id": "46858af6",
   "metadata": {},
   "outputs": [],
   "source": [
    "df['Date of Incident'] = pd.to_datetime(df['Date of Incident'])\n",
    "\n",
    "df = df[df['Date of Incident'] == '2024-03-14']"
   ]
  },
  {
   "cell_type": "code",
   "execution_count": 6,
   "id": "36e3624e",
   "metadata": {},
   "outputs": [],
   "source": [
    "df = df.drop_duplicates(subset=['Claim Number'])\n"
   ]
  },
  {
   "cell_type": "code",
   "execution_count": 7,
   "id": "0965dabd",
   "metadata": {
    "scrolled": false
   },
   "outputs": [
    {
     "data": {
      "text/html": [
       "<div>\n",
       "<style scoped>\n",
       "    .dataframe tbody tr th:only-of-type {\n",
       "        vertical-align: middle;\n",
       "    }\n",
       "\n",
       "    .dataframe tbody tr th {\n",
       "        vertical-align: top;\n",
       "    }\n",
       "\n",
       "    .dataframe thead th {\n",
       "        text-align: right;\n",
       "    }\n",
       "</style>\n",
       "<table border=\"1\" class=\"dataframe\">\n",
       "  <thead>\n",
       "    <tr style=\"text-align: right;\">\n",
       "      <th></th>\n",
       "      <th>Claim Number</th>\n",
       "      <th>Date of Incident</th>\n",
       "      <th>Time of Incident</th>\n",
       "      <th>LOCATION</th>\n",
       "      <th>GPS Coordinates</th>\n",
       "      <th>Incident Description</th>\n",
       "      <th>Show Name</th>\n",
       "      <th>Extended Land Closures</th>\n",
       "      <th>ISSUES_PK</th>\n",
       "      <th>PARK_SHOW</th>\n",
       "      <th>FAILURE_TYPE</th>\n",
       "      <th>QTY_AFFECTED</th>\n",
       "      <th>QTY_RETURNED</th>\n",
       "      <th>ISSUE</th>\n",
       "      <th>MM</th>\n",
       "      <th>PRODUCT</th>\n",
       "      <th>CUE_NUM</th>\n",
       "      <th>LOT_NUM</th>\n",
       "      <th>COMMENTS</th>\n",
       "      <th>DATE_OF_ISSUE</th>\n",
       "    </tr>\n",
       "  </thead>\n",
       "  <tbody>\n",
       "    <tr>\n",
       "      <th>276</th>\n",
       "      <td>WDWG2024742252</td>\n",
       "      <td>2024-03-14</td>\n",
       "      <td>NaN</td>\n",
       "      <td>Canada</td>\n",
       "      <td>(28.371480418475063, -81.55126330667089)</td>\n",
       "      <td>BI set up per guest email 3/29/24 sh. Guest st...</td>\n",
       "      <td>Epcot Fireworks - Luminous The Symphony of Us</td>\n",
       "      <td>No Land Closures</td>\n",
       "      <td>15418.0</td>\n",
       "      <td>Epcot Fireworks - Luminous The Symphony of Us</td>\n",
       "      <td>Misfire</td>\n",
       "      <td>2.0</td>\n",
       "      <td>2.0</td>\n",
       "      <td>Unknown - TBE</td>\n",
       "      <td>20260770</td>\n",
       "      <td>50mm Comet - Silver Waterfall</td>\n",
       "      <td>535-22/636-15</td>\n",
       "      <td>NaN</td>\n",
       "      <td>NaN</td>\n",
       "      <td>3/14/2024</td>\n",
       "    </tr>\n",
       "  </tbody>\n",
       "</table>\n",
       "</div>"
      ],
      "text/plain": [
       "       Claim Number Date of Incident Time of Incident LOCATION  \\\n",
       "276  WDWG2024742252       2024-03-14              NaN   Canada   \n",
       "\n",
       "                              GPS Coordinates  \\\n",
       "276  (28.371480418475063, -81.55126330667089)   \n",
       "\n",
       "                                  Incident Description  \\\n",
       "276  BI set up per guest email 3/29/24 sh. Guest st...   \n",
       "\n",
       "                                         Show Name Extended Land Closures  \\\n",
       "276  Epcot Fireworks - Luminous The Symphony of Us       No Land Closures   \n",
       "\n",
       "     ISSUES_PK                                      PARK_SHOW FAILURE_TYPE  \\\n",
       "276    15418.0  Epcot Fireworks - Luminous The Symphony of Us      Misfire   \n",
       "\n",
       "     QTY_AFFECTED  QTY_RETURNED          ISSUE        MM  \\\n",
       "276           2.0           2.0  Unknown - TBE  20260770   \n",
       "\n",
       "                           PRODUCT        CUE_NUM  LOT_NUM COMMENTS  \\\n",
       "276  50mm Comet - Silver Waterfall  535-22/636-15      NaN      NaN   \n",
       "\n",
       "    DATE_OF_ISSUE  \n",
       "276     3/14/2024  "
      ]
     },
     "execution_count": 7,
     "metadata": {},
     "output_type": "execute_result"
    }
   ],
   "source": [
    "df"
   ]
  },
  {
   "cell_type": "code",
   "execution_count": 8,
   "id": "2069c14e",
   "metadata": {},
   "outputs": [],
   "source": [
    "#map_center = df['GPS Coordinates'].iloc[0]\n",
    "#mymap = folium.Map(location=map_center, zoom_start=10)\n",
    "\n",
    "#for index, row in df.iterrows():\n",
    "    #location = row['LOCATION']\n",
    "    #description = row['Incident Description']\n",
    "    #show = row['Show']\n",
    "    #closures = row['Extended Land Closures']\n",
    "    \n",
    "    #marker_color = 'orange' if closures == 'Y' else 'blue'\n",
    "    \n",
    "    #popup_content = f\"Location: {location}<br>Description: {description}<br>Show: {show}<br>Zone Closure: {closures}\"\n",
    "    \n",
    "    #folium.Marker(location=row['GPS Coordinates'], popup=popup_content, icon=folium.Icon(color=marker_color)).add_to(mymap)"
   ]
  },
  {
   "cell_type": "code",
   "execution_count": 9,
   "id": "4a02b57b",
   "metadata": {},
   "outputs": [],
   "source": [
    "#mymap"
   ]
  },
  {
   "cell_type": "code",
   "execution_count": 10,
   "id": "9339d464",
   "metadata": {},
   "outputs": [],
   "source": [
    "#mymap.save('J:/Data/RMSA Analysis/0 - Team Working Files/10 - Nick/AllIncidentsClosures.html')\n"
   ]
  },
  {
   "cell_type": "code",
   "execution_count": 11,
   "id": "f9cfbddc",
   "metadata": {},
   "outputs": [],
   "source": [
    "from random import randint\n",
    "\n",
    "map_center = df['GPS Coordinates'].iloc[0]\n",
    "mymap = folium.Map(location=map_center, zoom_start=10)\n",
    "\n",
    "for index, row in df.iterrows():\n",
    "    location = row['LOCATION']\n",
    "    description = row['Incident Description']\n",
    "    show = row['Show Name']\n",
    "    closures = row['Extended Land Closures']\n",
    "    \n",
    "    marker_color = 'orange' if closures == 'Y' else 'blue'\n",
    "    \n",
    "    popup_content = f\"Location: {location}<br>Description: {description}<br>Show: {show}<br>Closures: {closures}\"\n",
    "    \n",
    "    # Adding random displacement within a radius of 0.0001 degrees\n",
    "    displacement = (randint(-10, 10) * 0.00001, randint(-10, 10) * 0.00001)\n",
    "    marker_position = (row['GPS Coordinates'][0] + displacement[0], row['GPS Coordinates'][1] + displacement[1])\n",
    "    \n",
    "    folium.Marker(location=marker_position, popup=popup_content, icon=folium.Icon(color=marker_color)).add_to(mymap)\n",
    "\n"
   ]
  },
  {
   "cell_type": "code",
   "execution_count": 12,
   "id": "e0624cd8",
   "metadata": {
    "scrolled": true
   },
   "outputs": [
    {
     "data": {
      "text/html": [
       "<div style=\"width:100%;\"><div style=\"position:relative;width:100%;height:0;padding-bottom:60%;\"><span style=\"color:#565656\">Make this Notebook Trusted to load map: File -> Trust Notebook</span><iframe srcdoc=\"&lt;!DOCTYPE html&gt;\n",
       "&lt;html&gt;\n",
       "&lt;head&gt;\n",
       "    \n",
       "    &lt;meta http-equiv=&quot;content-type&quot; content=&quot;text/html; charset=UTF-8&quot; /&gt;\n",
       "    \n",
       "        &lt;script&gt;\n",
       "            L_NO_TOUCH = false;\n",
       "            L_DISABLE_3D = false;\n",
       "        &lt;/script&gt;\n",
       "    \n",
       "    &lt;style&gt;html, body {width: 100%;height: 100%;margin: 0;padding: 0;}&lt;/style&gt;\n",
       "    &lt;style&gt;#map {position:absolute;top:0;bottom:0;right:0;left:0;}&lt;/style&gt;\n",
       "    &lt;script src=&quot;https://cdn.jsdelivr.net/npm/leaflet@1.9.3/dist/leaflet.js&quot;&gt;&lt;/script&gt;\n",
       "    &lt;script src=&quot;https://code.jquery.com/jquery-1.12.4.min.js&quot;&gt;&lt;/script&gt;\n",
       "    &lt;script src=&quot;https://cdn.jsdelivr.net/npm/bootstrap@5.2.2/dist/js/bootstrap.bundle.min.js&quot;&gt;&lt;/script&gt;\n",
       "    &lt;script src=&quot;https://cdnjs.cloudflare.com/ajax/libs/Leaflet.awesome-markers/2.0.2/leaflet.awesome-markers.js&quot;&gt;&lt;/script&gt;\n",
       "    &lt;link rel=&quot;stylesheet&quot; href=&quot;https://cdn.jsdelivr.net/npm/leaflet@1.9.3/dist/leaflet.css&quot;/&gt;\n",
       "    &lt;link rel=&quot;stylesheet&quot; href=&quot;https://cdn.jsdelivr.net/npm/bootstrap@5.2.2/dist/css/bootstrap.min.css&quot;/&gt;\n",
       "    &lt;link rel=&quot;stylesheet&quot; href=&quot;https://netdna.bootstrapcdn.com/bootstrap/3.0.0/css/bootstrap.min.css&quot;/&gt;\n",
       "    &lt;link rel=&quot;stylesheet&quot; href=&quot;https://cdn.jsdelivr.net/npm/@fortawesome/fontawesome-free@6.2.0/css/all.min.css&quot;/&gt;\n",
       "    &lt;link rel=&quot;stylesheet&quot; href=&quot;https://cdnjs.cloudflare.com/ajax/libs/Leaflet.awesome-markers/2.0.2/leaflet.awesome-markers.css&quot;/&gt;\n",
       "    &lt;link rel=&quot;stylesheet&quot; href=&quot;https://cdn.jsdelivr.net/gh/python-visualization/folium/folium/templates/leaflet.awesome.rotate.min.css&quot;/&gt;\n",
       "    \n",
       "            &lt;meta name=&quot;viewport&quot; content=&quot;width=device-width,\n",
       "                initial-scale=1.0, maximum-scale=1.0, user-scalable=no&quot; /&gt;\n",
       "            &lt;style&gt;\n",
       "                #map_2ba9bab603b062860f59d55c99a4e93b {\n",
       "                    position: relative;\n",
       "                    width: 100.0%;\n",
       "                    height: 100.0%;\n",
       "                    left: 0.0%;\n",
       "                    top: 0.0%;\n",
       "                }\n",
       "                .leaflet-container { font-size: 1rem; }\n",
       "            &lt;/style&gt;\n",
       "        \n",
       "&lt;/head&gt;\n",
       "&lt;body&gt;\n",
       "    \n",
       "    \n",
       "            &lt;div class=&quot;folium-map&quot; id=&quot;map_2ba9bab603b062860f59d55c99a4e93b&quot; &gt;&lt;/div&gt;\n",
       "        \n",
       "&lt;/body&gt;\n",
       "&lt;script&gt;\n",
       "    \n",
       "    \n",
       "            var map_2ba9bab603b062860f59d55c99a4e93b = L.map(\n",
       "                &quot;map_2ba9bab603b062860f59d55c99a4e93b&quot;,\n",
       "                {\n",
       "                    center: [28.371480418475063, -81.55126330667089],\n",
       "                    crs: L.CRS.EPSG3857,\n",
       "                    zoom: 10,\n",
       "                    zoomControl: true,\n",
       "                    preferCanvas: false,\n",
       "                }\n",
       "            );\n",
       "\n",
       "            \n",
       "\n",
       "        \n",
       "    \n",
       "            var tile_layer_3a32abf8e0c00ab55087be5b7ecd0241 = L.tileLayer(\n",
       "                &quot;https://{s}.tile.openstreetmap.org/{z}/{x}/{y}.png&quot;,\n",
       "                {&quot;attribution&quot;: &quot;Data by \\u0026copy; \\u003ca target=\\&quot;_blank\\&quot; href=\\&quot;http://openstreetmap.org\\&quot;\\u003eOpenStreetMap\\u003c/a\\u003e, under \\u003ca target=\\&quot;_blank\\&quot; href=\\&quot;http://www.openstreetmap.org/copyright\\&quot;\\u003eODbL\\u003c/a\\u003e.&quot;, &quot;detectRetina&quot;: false, &quot;maxNativeZoom&quot;: 18, &quot;maxZoom&quot;: 18, &quot;minZoom&quot;: 0, &quot;noWrap&quot;: false, &quot;opacity&quot;: 1, &quot;subdomains&quot;: &quot;abc&quot;, &quot;tms&quot;: false}\n",
       "            ).addTo(map_2ba9bab603b062860f59d55c99a4e93b);\n",
       "        \n",
       "    \n",
       "            var marker_6500c266c198e2d564787041f01c61c8 = L.marker(\n",
       "                [28.371500418475062, -81.5512333066709],\n",
       "                {}\n",
       "            ).addTo(map_2ba9bab603b062860f59d55c99a4e93b);\n",
       "        \n",
       "    \n",
       "            var icon_2ce9275a5582e4bcef7a0b0a2527b9bf = L.AwesomeMarkers.icon(\n",
       "                {&quot;extraClasses&quot;: &quot;fa-rotate-0&quot;, &quot;icon&quot;: &quot;info-sign&quot;, &quot;iconColor&quot;: &quot;white&quot;, &quot;markerColor&quot;: &quot;blue&quot;, &quot;prefix&quot;: &quot;glyphicon&quot;}\n",
       "            );\n",
       "            marker_6500c266c198e2d564787041f01c61c8.setIcon(icon_2ce9275a5582e4bcef7a0b0a2527b9bf);\n",
       "        \n",
       "    \n",
       "        var popup_555b3a17a868b43934aebcf63ed107b7 = L.popup({&quot;maxWidth&quot;: &quot;100%&quot;});\n",
       "\n",
       "        \n",
       "            \n",
       "                var html_77d1a02835c2c0dd3f012647e6dd65ab = $(`&lt;div id=&quot;html_77d1a02835c2c0dd3f012647e6dd65ab&quot; style=&quot;width: 100.0%; height: 100.0%;&quot;&gt;Location: Canada&lt;br&gt;Description: BI set up per guest email 3/29/24 sh. Guest stated &#x27;on March 14th, we watched the fireworks show. Right at the beginning, we are leaning against the railing, in the Canada pavilion, where there is the Peter Pan sculpture. The fireworks started and an object hit my right eye, very hot. I used the water I had with me, went to the bathroom, and washed it with lots of water. It was an unbearable pain, and at that moment, without speaking fluent English and with the place packed, we waited for the end of the show to ask for help. Baby Care cleaned it once again, but I couldn&#x27;t open my eyes, so they sent me to a hospital, there was something stuck in the eyelid making it impossible to open, the pain was unbearable. the hospital I was examined, medicated and sent to see a specialist the next day, but I didn&#x27;t sleep all night, my eyes were burning and hurting a lot. After medication, I went to Animal Kingdom on the 16th, but on the first attraction, I noticed that it hurt more if I moved and in the end I didn&#x27;t enjoy the park at all.&lt;br&gt;Show: Epcot Fireworks - Luminous The Symphony of Us&lt;br&gt;Closures: No Land Closures&lt;/div&gt;`)[0];\n",
       "                popup_555b3a17a868b43934aebcf63ed107b7.setContent(html_77d1a02835c2c0dd3f012647e6dd65ab);\n",
       "            \n",
       "        \n",
       "\n",
       "        marker_6500c266c198e2d564787041f01c61c8.bindPopup(popup_555b3a17a868b43934aebcf63ed107b7)\n",
       "        ;\n",
       "\n",
       "        \n",
       "    \n",
       "&lt;/script&gt;\n",
       "&lt;/html&gt;\" style=\"position:absolute;width:100%;height:100%;left:0;top:0;border:none !important;\" allowfullscreen webkitallowfullscreen mozallowfullscreen></iframe></div></div>"
      ],
      "text/plain": [
       "<folium.folium.Map at 0x27021296ad0>"
      ]
     },
     "execution_count": 12,
     "metadata": {},
     "output_type": "execute_result"
    }
   ],
   "source": [
    "mymap"
   ]
  },
  {
   "cell_type": "code",
   "execution_count": 13,
   "id": "5ffbd48e",
   "metadata": {},
   "outputs": [],
   "source": [
    "mymap.save('J:/Data/RMSA Analysis/0 - Team Working Files/10 - Nick/ECIncidentsClosuresCluster3_14.html')"
   ]
  },
  {
   "cell_type": "code",
   "execution_count": null,
   "id": "e44834bb",
   "metadata": {},
   "outputs": [],
   "source": []
  },
  {
   "cell_type": "code",
   "execution_count": null,
   "id": "9e834df1",
   "metadata": {},
   "outputs": [],
   "source": []
  },
  {
   "cell_type": "code",
   "execution_count": null,
   "id": "cd078a64",
   "metadata": {},
   "outputs": [],
   "source": []
  },
  {
   "cell_type": "code",
   "execution_count": null,
   "id": "45e67b31",
   "metadata": {},
   "outputs": [],
   "source": []
  },
  {
   "cell_type": "code",
   "execution_count": null,
   "id": "83c3fa0c",
   "metadata": {},
   "outputs": [],
   "source": []
  },
  {
   "cell_type": "code",
   "execution_count": null,
   "id": "aaa863c8",
   "metadata": {},
   "outputs": [],
   "source": []
  },
  {
   "cell_type": "code",
   "execution_count": null,
   "id": "6ac5a129",
   "metadata": {},
   "outputs": [],
   "source": []
  },
  {
   "cell_type": "code",
   "execution_count": null,
   "id": "6936bc57",
   "metadata": {},
   "outputs": [],
   "source": []
  },
  {
   "cell_type": "code",
   "execution_count": null,
   "id": "de4376fe",
   "metadata": {},
   "outputs": [],
   "source": []
  },
  {
   "cell_type": "code",
   "execution_count": null,
   "id": "cf742057",
   "metadata": {},
   "outputs": [],
   "source": []
  },
  {
   "cell_type": "code",
   "execution_count": null,
   "id": "588bd91f",
   "metadata": {},
   "outputs": [],
   "source": []
  },
  {
   "cell_type": "code",
   "execution_count": null,
   "id": "3450b5f4",
   "metadata": {},
   "outputs": [],
   "source": []
  },
  {
   "cell_type": "code",
   "execution_count": null,
   "id": "9d740cb0",
   "metadata": {},
   "outputs": [],
   "source": []
  },
  {
   "cell_type": "code",
   "execution_count": null,
   "id": "d209145c",
   "metadata": {},
   "outputs": [],
   "source": [
    "map_center = df['GPS Coordinates'].iloc[0]\n",
    "mymap = folium.Map(location=map_center, zoom_start=10)\n",
    "\n",
    "marker_cluster = MarkerCluster().add_to(mymap)\n",
    "\n",
    "for index, row in df.iterrows():\n",
    "    location = row['LOCATION']\n",
    "    description = row['Incident Description']\n",
    "    show = row['Show']\n",
    "    closures = row['Extended Land Closures']\n",
    "    \n",
    "    marker_color = 'orange' if closures == 'Y' else 'blue'\n",
    "    \n",
    "    popup_content = f\"Location: {location}<br>Description: {description}<br>Show: {show}<br>Closures: {closures}\"\n",
    "    \n",
    "    folium.Marker(location=row['GPS Coordinates'], popup=popup_content, icon=folium.Icon(color=marker_color)).add_to(marker_cluster)"
   ]
  },
  {
   "cell_type": "code",
   "execution_count": null,
   "id": "d80bf52d",
   "metadata": {},
   "outputs": [],
   "source": [
    "mymap"
   ]
  },
  {
   "cell_type": "code",
   "execution_count": null,
   "id": "220007d7",
   "metadata": {},
   "outputs": [],
   "source": [
    "mymap.save('J:/Data/RMSA Analysis/0 - Team Working Files/10 - Nick/AllIncidentsClosuresCluster4_1.html')\n"
   ]
  },
  {
   "cell_type": "code",
   "execution_count": null,
   "id": "631a7fe2",
   "metadata": {},
   "outputs": [],
   "source": [
    "df_closures = df[df['Closures'] == 'Y']"
   ]
  },
  {
   "cell_type": "code",
   "execution_count": null,
   "id": "c61259e7",
   "metadata": {},
   "outputs": [],
   "source": [
    "df_closures"
   ]
  },
  {
   "cell_type": "code",
   "execution_count": null,
   "id": "06e91eb5",
   "metadata": {},
   "outputs": [],
   "source": [
    "map_center = df_closures['GPS Coordinates'].iloc[0]\n",
    "mymap = folium.Map(location=map_center, zoom_start=10)\n",
    "\n",
    "for index, row in df_closures.iterrows():\n",
    "    location = row['LOCATION']\n",
    "    description = row['Incident Description']\n",
    "    show = row['Show']\n",
    "    inclosedzone = row['In Closed Zone']\n",
    "    \n",
    "    marker_color = 'orange' if inclosedzone == 'Y' else 'blue'\n",
    "    \n",
    "    popup_content = f\"Location: {location}<br>Description: {description}<br>Show: {show}<br>In Closed Zone: {inclosedzone}\"\n",
    "    \n",
    "    folium.Marker(location=row['GPS Coordinates'], popup=popup_content, icon=folium.Icon(color=marker_color)).add_to(mymap)"
   ]
  },
  {
   "cell_type": "code",
   "execution_count": null,
   "id": "f8592b32",
   "metadata": {
    "scrolled": true
   },
   "outputs": [],
   "source": [
    "mymap"
   ]
  },
  {
   "cell_type": "code",
   "execution_count": null,
   "id": "6528a50f",
   "metadata": {},
   "outputs": [],
   "source": [
    "mymap.save('J:/Data/RMSA Analysis/0 - Team Working Files/10 - Nick/ClosureIncidents.html')"
   ]
  },
  {
   "cell_type": "code",
   "execution_count": null,
   "id": "86915908",
   "metadata": {},
   "outputs": [],
   "source": [
    "map_center = df_closures['GPS Coordinates'].iloc[0]\n",
    "mymap = folium.Map(location=map_center, zoom_start=10)\n",
    "\n",
    "# Create a MarkerCluster to group incidents at the same location\n",
    "marker_cluster = MarkerCluster().add_to(mymap)\n",
    "\n",
    "# Iterate over the DataFrame rows and add markers to the map\n",
    "for index, row in df_closures.iterrows():\n",
    "    location = row['Location']\n",
    "    description = row['Description']\n",
    "    show = row['Show']\n",
    "    inclosedzone = row['In Closed Zone']\n",
    "    \n",
    "    # Set marker color based on 'In_Closed_Zone'\n",
    "    marker_color = 'orange' if inclosedzone == 'Y' else 'blue'\n",
    "    \n",
    "    popup_content = f\"Location: {location}<br>Description: {description}<br>Show: {show}<br>In Closed Zone: {inclosedzone}\"\n",
    "    \n",
    "    # Add marker with customized color to the MarkerCluster\n",
    "    folium.Marker(location=row['GPS Coordinates'], popup=popup_content, icon=folium.Icon(color=marker_color)).add_to(marker_cluster)"
   ]
  },
  {
   "cell_type": "code",
   "execution_count": null,
   "id": "22ec852c",
   "metadata": {},
   "outputs": [],
   "source": [
    "mymap.save('J:/Data/RMSA Analysis/0 - Team Working Files/10 - Nick/ClosureIncidentsCluster.html')\n"
   ]
  },
  {
   "cell_type": "code",
   "execution_count": null,
   "id": "d414c5b9",
   "metadata": {},
   "outputs": [],
   "source": [
    "df_struck = df[df['Description'] != 'Debris in Eye']"
   ]
  },
  {
   "cell_type": "code",
   "execution_count": null,
   "id": "ebebefd0",
   "metadata": {},
   "outputs": [],
   "source": [
    "df_struck"
   ]
  },
  {
   "cell_type": "code",
   "execution_count": null,
   "id": "0dede551",
   "metadata": {},
   "outputs": [],
   "source": [
    "map_center = df_struck['GPS Coordinates'].iloc[0]\n",
    "mymap = folium.Map(location=map_center, zoom_start=10)\n",
    "\n",
    "for index, row in df_struck.iterrows():\n",
    "    location = row['Location']\n",
    "    description = row['Description']\n",
    "    show = row['Show']\n",
    "    closures = row['Closures']\n",
    "    \n",
    "    marker_color = 'orange' if closures == 'Y' else 'blue'\n",
    "    \n",
    "    popup_content = f\"Location: {location}<br>Description: {description}<br>Show: {show}<br>Zone Closure: {closures}\"\n",
    "    \n",
    "    folium.Marker(location=row['GPS Coordinates'], popup=popup_content, icon=folium.Icon(color=marker_color)).add_to(mymap)"
   ]
  },
  {
   "cell_type": "code",
   "execution_count": null,
   "id": "2e20bbdf",
   "metadata": {},
   "outputs": [],
   "source": [
    "mymap.save('J:/Data/RMSA Analysis/0 - Team Working Files/10 - Nick/StruckBy.html')\n"
   ]
  },
  {
   "cell_type": "code",
   "execution_count": null,
   "id": "a9b6332d",
   "metadata": {},
   "outputs": [],
   "source": [
    "map_center = df_struck['GPS Coordinates'].iloc[0]\n",
    "mymap = folium.Map(location=map_center, zoom_start=10)\n",
    "\n",
    "marker_cluster = MarkerCluster().add_to(mymap)\n",
    "\n",
    "for index, row in df_struck.iterrows():\n",
    "    location = row['Location']\n",
    "    description = row['Description']\n",
    "    show = row['Show']\n",
    "    closures = row['Closures']\n",
    "    \n",
    "    marker_color = 'orange' if closures == 'Y' else 'blue'\n",
    "    \n",
    "    popup_content = f\"Location: {location}<br>Description: {description}<br>Show: {show}<br>Closures: {closures}\"\n",
    "    \n",
    "    folium.Marker(location=row['GPS Coordinates'], popup=popup_content, icon=folium.Icon(color=marker_color)).add_to(marker_cluster)"
   ]
  },
  {
   "cell_type": "code",
   "execution_count": null,
   "id": "69ec0ed4",
   "metadata": {},
   "outputs": [],
   "source": [
    "mymap.save('J:/Data/RMSA Analysis/0 - Team Working Files/10 - Nick/StruckByCluster.html')\n"
   ]
  },
  {
   "cell_type": "code",
   "execution_count": null,
   "id": "f7db6029",
   "metadata": {},
   "outputs": [],
   "source": []
  }
 ],
 "metadata": {
  "kernelspec": {
   "display_name": "Python 3 (ipykernel)",
   "language": "python",
   "name": "python3"
  },
  "language_info": {
   "codemirror_mode": {
    "name": "ipython",
    "version": 3
   },
   "file_extension": ".py",
   "mimetype": "text/x-python",
   "name": "python",
   "nbconvert_exporter": "python",
   "pygments_lexer": "ipython3",
   "version": "3.11.4"
  }
 },
 "nbformat": 4,
 "nbformat_minor": 5
}
