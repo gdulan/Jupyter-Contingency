{
 "cells": [
  {
   "cell_type": "code",
   "execution_count": 2,
   "id": "5bc3b633",
   "metadata": {},
   "outputs": [],
   "source": [
    "import pandas as pd\n",
    "import matplotlib as plt\n",
    "import numpy as np\n",
    "from sklearn.ensemble import RandomForestClassifier "
   ]
  },
  {
   "cell_type": "code",
   "execution_count": null,
   "id": "c3b562da",
   "metadata": {},
   "outputs": [],
   "source": [
    "dataimport = pd.read_excel('AttorneyReppedRawData')"
   ]
  },
  {
   "cell_type": "code",
   "execution_count": null,
   "id": "2b5a226e",
   "metadata": {},
   "outputs": [],
   "source": []
  }
 ],
 "metadata": {
  "kernelspec": {
   "display_name": "Python 3 (ipykernel)",
   "language": "python",
   "name": "python3"
  },
  "language_info": {
   "codemirror_mode": {
    "name": "ipython",
    "version": 3
   },
   "file_extension": ".py",
   "mimetype": "text/x-python",
   "name": "python",
   "nbconvert_exporter": "python",
   "pygments_lexer": "ipython3",
   "version": "3.11.4"
  }
 },
 "nbformat": 4,
 "nbformat_minor": 5
}
