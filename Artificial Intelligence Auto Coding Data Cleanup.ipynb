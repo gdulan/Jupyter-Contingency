{
 "cells": [
  {
   "cell_type": "code",
   "execution_count": 1,
   "id": "cb145f34",
   "metadata": {},
   "outputs": [],
   "source": [
    "import numpy as np\n",
    "import pandas as pd\n",
    "import matplotlib.pyplot as plt\n",
    "import seaborn as sns\n",
    "from transformers import AutoTokenizer, AutoModel\n",
    "import torch"
   ]
  },
  {
   "cell_type": "code",
   "execution_count": 2,
   "id": "93fbd512",
   "metadata": {},
   "outputs": [],
   "source": [
    "data = pd.read_excel('WCMLDataset.xlsx')"
   ]
  },
  {
   "cell_type": "code",
   "execution_count": 3,
   "id": "4f596935",
   "metadata": {},
   "outputs": [
    {
     "name": "stdout",
     "output_type": "stream",
     "text": [
      "Number of rows with NaN in 'Claim Number': 0\n",
      "Number of rows with blank strings in 'Claim Number': 0\n",
      "Total rows with blank or NaN 'Claim Number': 0\n"
     ]
    }
   ],
   "source": [
    "df = data\n",
    "nan_count = df['Claim Number'].isna().sum()\n",
    "\n",
    "# Count blank string values (after stripping whitespace)\n",
    "blank_count = df['Claim Number'].str.strip().eq('').sum()\n",
    "\n",
    "# Total rows with either NaN or blank\n",
    "total_blank_or_nan = nan_count + blank_count\n",
    "\n",
    "print(f\"Number of rows with NaN in 'Claim Number': {nan_count}\")\n",
    "print(f\"Number of rows with blank strings in 'Claim Number': {blank_count}\")\n",
    "print(f\"Total rows with blank or NaN 'Claim Number': {total_blank_or_nan}\")"
   ]
  },
  {
   "cell_type": "code",
   "execution_count": 4,
   "id": "b4496eef",
   "metadata": {},
   "outputs": [
    {
     "name": "stdout",
     "output_type": "stream",
     "text": [
      "Number of duplicate rows: 0\n"
     ]
    }
   ],
   "source": [
    "duplicate_rows = df[df.duplicated()]\n",
    "print(f\"Number of duplicate rows: {len(duplicate_rows)}\")"
   ]
  },
  {
   "cell_type": "code",
   "execution_count": 5,
   "id": "08dea802",
   "metadata": {},
   "outputs": [
    {
     "name": "stderr",
     "output_type": "stream",
     "text": [
      "C:\\Users\\gduln001\\AppData\\Local\\Temp\\1\\ipykernel_22196\\3627053830.py:1: FutureWarning: Treating datetime data as categorical rather than numeric in `.describe` is deprecated and will be removed in a future version of pandas. Specify `datetime_is_numeric=True` to silence this warning and adopt the future behavior now.\n",
      "  df.describe()\n"
     ]
    },
    {
     "data": {
      "text/html": [
       "<div>\n",
       "<style scoped>\n",
       "    .dataframe tbody tr th:only-of-type {\n",
       "        vertical-align: middle;\n",
       "    }\n",
       "\n",
       "    .dataframe tbody tr th {\n",
       "        vertical-align: top;\n",
       "    }\n",
       "\n",
       "    .dataframe thead th {\n",
       "        text-align: right;\n",
       "    }\n",
       "</style>\n",
       "<table border=\"1\" class=\"dataframe\">\n",
       "  <thead>\n",
       "    <tr style=\"text-align: right;\">\n",
       "      <th></th>\n",
       "      <th>Claim Number</th>\n",
       "      <th>Date of Incident/Loss</th>\n",
       "      <th>Event of Incident Desc</th>\n",
       "      <th>Source of Incident Desc</th>\n",
       "      <th>Event of Injury Desc</th>\n",
       "      <th>Source of Injury Desc</th>\n",
       "      <th>EDI Cause Desc</th>\n",
       "      <th>Incident Description</th>\n",
       "      <th>Activity Engaged in During Accident</th>\n",
       "      <th>General HS Comments</th>\n",
       "      <th>Injury Description</th>\n",
       "      <th>Changes?</th>\n",
       "    </tr>\n",
       "  </thead>\n",
       "  <tbody>\n",
       "    <tr>\n",
       "      <th>count</th>\n",
       "      <td>8189</td>\n",
       "      <td>8189</td>\n",
       "      <td>8189</td>\n",
       "      <td>8189</td>\n",
       "      <td>8189</td>\n",
       "      <td>8187</td>\n",
       "      <td>8182</td>\n",
       "      <td>8189</td>\n",
       "      <td>8189</td>\n",
       "      <td>7029</td>\n",
       "      <td>8159</td>\n",
       "      <td>8069</td>\n",
       "    </tr>\n",
       "    <tr>\n",
       "      <th>unique</th>\n",
       "      <td>8189</td>\n",
       "      <td>731</td>\n",
       "      <td>51</td>\n",
       "      <td>176</td>\n",
       "      <td>50</td>\n",
       "      <td>177</td>\n",
       "      <td>10</td>\n",
       "      <td>8147</td>\n",
       "      <td>7738</td>\n",
       "      <td>7026</td>\n",
       "      <td>3709</td>\n",
       "      <td>280</td>\n",
       "    </tr>\n",
       "    <tr>\n",
       "      <th>top</th>\n",
       "      <td>WDWW2021220675</td>\n",
       "      <td>2022-10-07 00:00:00</td>\n",
       "      <td>Struck/Struck By</td>\n",
       "      <td>Objects</td>\n",
       "      <td>Struck/Struck By</td>\n",
       "      <td>Objects</td>\n",
       "      <td>Strain or Injury By</td>\n",
       "      <td>She was in contact with an infected coworker.</td>\n",
       "      <td>She was cleaning a guest room.</td>\n",
       "      <td>On December 4th 2022 at 06:45 I was just turni...</td>\n",
       "      <td>Back - Lower, Sprain/Strain;</td>\n",
       "      <td>OK</td>\n",
       "    </tr>\n",
       "    <tr>\n",
       "      <th>freq</th>\n",
       "      <td>1</td>\n",
       "      <td>31</td>\n",
       "      <td>1785</td>\n",
       "      <td>1038</td>\n",
       "      <td>3260</td>\n",
       "      <td>954</td>\n",
       "      <td>3176</td>\n",
       "      <td>7</td>\n",
       "      <td>16</td>\n",
       "      <td>2</td>\n",
       "      <td>347</td>\n",
       "      <td>7504</td>\n",
       "    </tr>\n",
       "    <tr>\n",
       "      <th>first</th>\n",
       "      <td>NaN</td>\n",
       "      <td>2021-01-01 00:00:00</td>\n",
       "      <td>NaN</td>\n",
       "      <td>NaN</td>\n",
       "      <td>NaN</td>\n",
       "      <td>NaN</td>\n",
       "      <td>NaN</td>\n",
       "      <td>NaN</td>\n",
       "      <td>NaN</td>\n",
       "      <td>NaN</td>\n",
       "      <td>NaN</td>\n",
       "      <td>NaN</td>\n",
       "    </tr>\n",
       "    <tr>\n",
       "      <th>last</th>\n",
       "      <td>NaN</td>\n",
       "      <td>2023-01-01 00:00:00</td>\n",
       "      <td>NaN</td>\n",
       "      <td>NaN</td>\n",
       "      <td>NaN</td>\n",
       "      <td>NaN</td>\n",
       "      <td>NaN</td>\n",
       "      <td>NaN</td>\n",
       "      <td>NaN</td>\n",
       "      <td>NaN</td>\n",
       "      <td>NaN</td>\n",
       "      <td>NaN</td>\n",
       "    </tr>\n",
       "  </tbody>\n",
       "</table>\n",
       "</div>"
      ],
      "text/plain": [
       "          Claim Number Date of Incident/Loss Event of Incident Desc  \\\n",
       "count             8189                  8189                   8189   \n",
       "unique            8189                   731                     51   \n",
       "top     WDWW2021220675   2022-10-07 00:00:00       Struck/Struck By   \n",
       "freq                 1                    31                   1785   \n",
       "first              NaN   2021-01-01 00:00:00                    NaN   \n",
       "last               NaN   2023-01-01 00:00:00                    NaN   \n",
       "\n",
       "       Source of Incident Desc Event of Injury Desc Source of Injury Desc  \\\n",
       "count                     8189                 8189                  8187   \n",
       "unique                     176                   50                   177   \n",
       "top                    Objects     Struck/Struck By               Objects   \n",
       "freq                      1038                 3260                   954   \n",
       "first                      NaN                  NaN                   NaN   \n",
       "last                       NaN                  NaN                   NaN   \n",
       "\n",
       "             EDI Cause Desc                           Incident Description  \\\n",
       "count                  8182                                           8189   \n",
       "unique                   10                                           8147   \n",
       "top     Strain or Injury By  She was in contact with an infected coworker.   \n",
       "freq                   3176                                              7   \n",
       "first                   NaN                                            NaN   \n",
       "last                    NaN                                            NaN   \n",
       "\n",
       "       Activity Engaged in During Accident  \\\n",
       "count                                 8189   \n",
       "unique                                7738   \n",
       "top         She was cleaning a guest room.   \n",
       "freq                                    16   \n",
       "first                                  NaN   \n",
       "last                                   NaN   \n",
       "\n",
       "                                      General HS Comments  \\\n",
       "count                                                7029   \n",
       "unique                                               7026   \n",
       "top     On December 4th 2022 at 06:45 I was just turni...   \n",
       "freq                                                    2   \n",
       "first                                                 NaN   \n",
       "last                                                  NaN   \n",
       "\n",
       "                  Injury Description Changes?  \n",
       "count                           8159     8069  \n",
       "unique                          3709      280  \n",
       "top     Back - Lower, Sprain/Strain;       OK  \n",
       "freq                             347     7504  \n",
       "first                            NaN      NaN  \n",
       "last                             NaN      NaN  "
      ]
     },
     "execution_count": 5,
     "metadata": {},
     "output_type": "execute_result"
    }
   ],
   "source": [
    "df.describe()"
   ]
  },
  {
   "cell_type": "code",
   "execution_count": 6,
   "id": "b9c8b4fb",
   "metadata": {},
   "outputs": [
    {
     "data": {
      "text/plain": [
       "Claim Number                                   object\n",
       "Date of Incident/Loss                  datetime64[ns]\n",
       "Event of Incident Desc                         object\n",
       "Source of Incident Desc                        object\n",
       "Event of Injury Desc                           object\n",
       "Source of Injury Desc                          object\n",
       "EDI Cause Desc                                 object\n",
       "Incident Description                           object\n",
       "Activity Engaged in During Accident            object\n",
       "General HS Comments                            object\n",
       "Injury Description                             object\n",
       "Changes?                                       object\n",
       "dtype: object"
      ]
     },
     "execution_count": 6,
     "metadata": {},
     "output_type": "execute_result"
    }
   ],
   "source": [
    "df.dtypes"
   ]
  },
  {
   "cell_type": "code",
   "execution_count": 7,
   "id": "dc434f4a",
   "metadata": {},
   "outputs": [
    {
     "data": {
      "text/plain": [
       "(8189, 12)"
      ]
     },
     "execution_count": 7,
     "metadata": {},
     "output_type": "execute_result"
    }
   ],
   "source": [
    "df.shape"
   ]
  },
  {
   "cell_type": "code",
   "execution_count": 8,
   "id": "166b36d9",
   "metadata": {
    "scrolled": false
   },
   "outputs": [
    {
     "data": {
      "text/plain": [
       "Source of Injury Desc       2\n",
       "EDI Cause Desc              7\n",
       "General HS Comments      1160\n",
       "Injury Description         30\n",
       "Changes?                  120\n",
       "dtype: int64"
      ]
     },
     "execution_count": 8,
     "metadata": {},
     "output_type": "execute_result"
    }
   ],
   "source": [
    "Missing = df.isnull().sum(axis=0)\n",
    "Missing[Missing>0]"
   ]
  },
  {
   "cell_type": "code",
   "execution_count": 9,
   "id": "72784cc9",
   "metadata": {},
   "outputs": [
    {
     "data": {
      "text/plain": [
       "Claim Number                            0.000000\n",
       "Date of Incident/Loss                   0.000000\n",
       "Event of Incident Desc                  0.000000\n",
       "Source of Incident Desc                 0.000000\n",
       "Event of Injury Desc                    0.000000\n",
       "Source of Injury Desc                   0.024423\n",
       "EDI Cause Desc                          0.085481\n",
       "Incident Description                    0.000000\n",
       "Activity Engaged in During Accident     0.000000\n",
       "General HS Comments                    14.165344\n",
       "Injury Description                      0.366345\n",
       "Changes?                                1.465380\n",
       "dtype: float64"
      ]
     },
     "execution_count": 9,
     "metadata": {},
     "output_type": "execute_result"
    }
   ],
   "source": [
    "data_missing = (df.isnull().sum(axis=0)/data.shape[0]) * 100\n",
    "data_missing"
   ]
  },
  {
   "cell_type": "code",
   "execution_count": 10,
   "id": "e03cd63f",
   "metadata": {},
   "outputs": [
    {
     "data": {
      "text/plain": [
       "Index(['Claim Number', 'Date of Incident/Loss', 'Event of Incident Desc',\n",
       "       'Source of Incident Desc', 'Event of Injury Desc',\n",
       "       'Incident Description', 'Activity Engaged in During Accident'],\n",
       "      dtype='object')"
      ]
     },
     "execution_count": 10,
     "metadata": {},
     "output_type": "execute_result"
    }
   ],
   "source": [
    "data_missing[data_missing == 0].index"
   ]
  },
  {
   "cell_type": "code",
   "execution_count": 11,
   "id": "008f89a6",
   "metadata": {},
   "outputs": [
    {
     "data": {
      "text/plain": [
       "Source of Injury Desc     0.024423\n",
       "EDI Cause Desc            0.085481\n",
       "General HS Comments      14.165344\n",
       "Injury Description        0.366345\n",
       "Changes?                  1.465380\n",
       "dtype: float64"
      ]
     },
     "execution_count": 11,
     "metadata": {},
     "output_type": "execute_result"
    }
   ],
   "source": [
    "data_missing = data_missing.drop(data_missing[data_missing == 0].index)\n",
    "data_missing"
   ]
  },
  {
   "cell_type": "code",
   "execution_count": 12,
   "id": "4f118cc9",
   "metadata": {},
   "outputs": [
    {
     "data": {
      "text/plain": [
       "General HS Comments      14.165344\n",
       "Changes?                  1.465380\n",
       "Injury Description        0.366345\n",
       "EDI Cause Desc            0.085481\n",
       "Source of Injury Desc     0.024423\n",
       "dtype: float64"
      ]
     },
     "execution_count": 12,
     "metadata": {},
     "output_type": "execute_result"
    }
   ],
   "source": [
    "data_missing = data_missing.sort_values(ascending=False)\n",
    "data_missing"
   ]
  },
  {
   "cell_type": "code",
   "execution_count": 13,
   "id": "9fee465f",
   "metadata": {},
   "outputs": [
    {
     "data": {
      "text/plain": [
       "Index(['General HS Comments', 'Changes?', 'Injury Description',\n",
       "       'EDI Cause Desc', 'Source of Injury Desc'],\n",
       "      dtype='object')"
      ]
     },
     "execution_count": 13,
     "metadata": {},
     "output_type": "execute_result"
    }
   ],
   "source": [
    "to_be_cleaned_column_names = data_missing[data_missing <51].index\n",
    "to_be_cleaned_column_names"
   ]
  },
  {
   "cell_type": "code",
   "execution_count": 14,
   "id": "57d28aa6",
   "metadata": {},
   "outputs": [
    {
     "data": {
      "text/plain": [
       "Index([], dtype='object')"
      ]
     },
     "execution_count": 14,
     "metadata": {},
     "output_type": "execute_result"
    }
   ],
   "source": [
    "bad_column_names = data_missing[data_missing >=51].index\n",
    "bad_column_names"
   ]
  },
  {
   "cell_type": "code",
   "execution_count": 15,
   "id": "52138445",
   "metadata": {},
   "outputs": [],
   "source": [
    "data_new=data.drop(columns=bad_column_names, axis=1)"
   ]
  },
  {
   "cell_type": "code",
   "execution_count": null,
   "id": "ce79835a",
   "metadata": {},
   "outputs": [],
   "source": [
    "for c in to_be_cleaned_column_names:\n",
    "    v=data_new[c]#get values in this column\n",
    "    v_valid=v[~v.isnull()] # get valid values \n",
    "    if data_new[c].dtype == np.dtype('O'): # non-numeric values       \n",
    "        data[c]=data[c].fillna(v.value_counts().index[0]) # the most frequent category\n",
    "        #data_new[c]=data_new[c].fillna('nothing') # replace nan with \"nothing\" - a new category  \n",
    "    else: # numeric \n",
    "        data_new[c]=data_new[c].fillna(v_valid.median()) #replace nan with median value"
   ]
  },
  {
   "cell_type": "code",
   "execution_count": null,
   "id": "8d7add9d",
   "metadata": {},
   "outputs": [],
   "source": [
    "data_new.isnull().sum().sum()"
   ]
  },
  {
   "cell_type": "code",
   "execution_count": null,
   "id": "17a3a196",
   "metadata": {},
   "outputs": [],
   "source": [
    "#################################################################################"
   ]
  },
  {
   "cell_type": "code",
   "execution_count": null,
   "id": "3a2b923d",
   "metadata": {},
   "outputs": [],
   "source": [
    "# Initialize tokenizer and model\n",
    "tokenizer = AutoTokenizer.from_pretrained('bert-base-uncased')\n",
    "model = AutoModel.from_pretrained('bert-base-uncased')\n",
    "\n",
    "# Combine text fields into one input column\n",
    "df['Combined_Text'] = (\n",
    "    df['Injury Description'] + \" \" +\n",
    "    df['Activity Engaged in During Accident'] + \" \" +\n",
    "    df['Incident Description'] + \" \" +\n",
    "    df['General HS Comments']\n",
    ")\n",
    "\n",
    "# Function to process a batch of text data and get embeddings\n",
    "def get_bert_embeddings(text_batch):\n",
    "    \"\"\"\n",
    "    Tokenize the input text and generate embeddings using BERT.\n",
    "    Args:\n",
    "        text_batch: A list of strings (text samples).\n",
    "    Returns:\n",
    "        numpy.ndarray: Array of embeddings for each text sample.\n",
    "    \"\"\"\n",
    "    inputs = tokenizer(\n",
    "        text_batch,\n",
    "        return_tensors=\"pt\",\n",
    "        padding=True,         # Pad sentences to the same length\n",
    "        truncation=True,      # Truncate sentences longer than max_length\n",
    "        max_length=512        # Max token length for BERT\n",
    "    )\n",
    "    with torch.no_grad():  # Turn off gradients for inference\n",
    "        outputs = model(**inputs)\n",
    "    # Extract [CLS] token embeddings (first token in BERT output)\n",
    "    return outputs.last_hidden_state[:, 0, :].numpy()\n",
    "\n",
    "# Process embeddings in batches\n",
    "batch_size = 2  # Adjust batch size based on your data and memory\n",
    "embeddings = []\n",
    "\n",
    "for i in range(0, len(df), batch_size):\n",
    "    batch_texts = df['Combined_Text'][i:i + batch_size].tolist()\n",
    "    batch_embeddings = get_bert_embeddings(batch_texts)\n",
    "    embeddings.extend(batch_embeddings)\n",
    "\n",
    "# Add embeddings as a new column to the DataFrame\n",
    "df['BERT_Embedding'] = embeddings\n",
    "\n",
    "# Output DataFrame with embeddings\n",
    "print(df[['Combined_Text', 'BERT_Embedding']].head())\n"
   ]
  },
  {
   "cell_type": "code",
   "execution_count": null,
   "id": "500e1b0c",
   "metadata": {},
   "outputs": [],
   "source": []
  },
  {
   "cell_type": "code",
   "execution_count": null,
   "id": "286c1d6b",
   "metadata": {},
   "outputs": [],
   "source": [
    "print(f\"Tokenizer type: {type(tokenizer)}\")  # Should be BertTokenizer\n",
    "print(f\"Batch size: {len(batch_texts)}\")"
   ]
  },
  {
   "cell_type": "code",
   "execution_count": null,
   "id": "12944f11",
   "metadata": {},
   "outputs": [],
   "source": []
  },
  {
   "cell_type": "code",
   "execution_count": null,
   "id": "41cce5c1",
   "metadata": {},
   "outputs": [],
   "source": []
  },
  {
   "cell_type": "code",
   "execution_count": null,
   "id": "635de875",
   "metadata": {},
   "outputs": [],
   "source": []
  },
  {
   "cell_type": "code",
   "execution_count": null,
   "id": "d7c87fbe",
   "metadata": {},
   "outputs": [],
   "source": []
  },
  {
   "cell_type": "code",
   "execution_count": null,
   "id": "ced462f7",
   "metadata": {},
   "outputs": [],
   "source": []
  },
  {
   "cell_type": "code",
   "execution_count": null,
   "id": "a383a609",
   "metadata": {},
   "outputs": [],
   "source": []
  },
  {
   "cell_type": "code",
   "execution_count": null,
   "id": "ec69e5e6",
   "metadata": {},
   "outputs": [],
   "source": []
  },
  {
   "cell_type": "code",
   "execution_count": null,
   "id": "66b5eed3",
   "metadata": {},
   "outputs": [],
   "source": []
  },
  {
   "cell_type": "code",
   "execution_count": null,
   "id": "52ea7535",
   "metadata": {},
   "outputs": [],
   "source": []
  },
  {
   "cell_type": "code",
   "execution_count": null,
   "id": "36bbbb48",
   "metadata": {},
   "outputs": [],
   "source": []
  },
  {
   "cell_type": "code",
   "execution_count": null,
   "id": "3406fe0e",
   "metadata": {},
   "outputs": [],
   "source": []
  },
  {
   "cell_type": "code",
   "execution_count": null,
   "id": "ffdd6f9e",
   "metadata": {},
   "outputs": [],
   "source": []
  },
  {
   "cell_type": "code",
   "execution_count": null,
   "id": "45177c0a",
   "metadata": {},
   "outputs": [],
   "source": []
  },
  {
   "cell_type": "code",
   "execution_count": null,
   "id": "8f3c7190",
   "metadata": {},
   "outputs": [],
   "source": [
    "import torch\n",
    "from transformers import AutoTokenizer, AutoModel\n",
    "import pandas as pd\n",
    "\n",
    "# Reinitialize tokenizer and model\n",
    "tokenizer = AutoTokenizer.from_pretrained('bert-base-uncased')\n",
    "model = AutoModel.from_pretrained('bert-base-uncased')\n",
    "\n",
    "# Example data\n",
    "data = {\n",
    "    'Injury Description': [\"Cut on hand\", \"Bruise on leg\", \"Burn on face\"],\n",
    "    'Activity Engaged In During Accident': [\"Cutting wood\", \"Running\", \"Cooking\"],\n",
    "    'Incident Description': [\"Fell while running\", \"Cut hand with knife\", \"Burnt hand while cooking\"],\n",
    "    'General HS Comments': [\"Accident in kitchen\", \"Accident on trail\", \"Hot oil burn\"],\n",
    "}\n",
    "df = pd.DataFrame(data)\n",
    "\n",
    "# Combine text fields\n",
    "df['Combined_Text'] = df['Injury Description'] + \" \" + df['Activity Engaged In During Accident'] + \" \" + df['Incident Description'] + \" \" + df['General HS Comments']\n",
    "\n",
    "# Batch processing function\n",
    "def get_bert_embeddings(text_batch):\n",
    "    inputs = tokenizer(\n",
    "        text_batch,\n",
    "        return_tensors=\"pt\",\n",
    "        padding=True,\n",
    "        truncation=True,\n",
    "        max_length=512\n",
    "    )\n",
    "    with torch.no_grad():\n",
    "        outputs = model(**inputs)\n",
    "    return outputs.last_hidden_state[:, 0, :].numpy()\n",
    "\n",
    "# Process text in small batches\n",
    "batch_size = 2\n",
    "embeddings = []\n",
    "\n",
    "for i in range(0, len(df), batch_size):\n",
    "    batch_texts = df['Combined_Text'][i:i + batch_size].tolist()\n",
    "    batch_embeddings = get_bert_embeddings(batch_texts)\n",
    "    embeddings.extend(batch_embeddings)\n",
    "\n",
    "# Add embeddings to the dataframe\n",
    "df['BERT_Embedding'] = embeddings\n",
    "\n",
    "print(\"BERT embeddings successfully generated.\")\n"
   ]
  },
  {
   "cell_type": "code",
   "execution_count": null,
   "id": "44f3befa",
   "metadata": {},
   "outputs": [],
   "source": [
    "print(f\"Tokenizer type: {type(tokenizer)}\")  # Should be BertTokenizer\n",
    "print(f\"Batch size: {len(batch_texts)}\")"
   ]
  },
  {
   "cell_type": "code",
   "execution_count": null,
   "id": "084af2d3",
   "metadata": {},
   "outputs": [],
   "source": [
    "#df.to_excel('J:/Data/RMSA Analysis/0 - Team Working Files/10 - Nick/WCMLDataset.xlsx', index=False)"
   ]
  },
  {
   "cell_type": "code",
   "execution_count": null,
   "id": "5e9b2a97",
   "metadata": {},
   "outputs": [],
   "source": []
  }
 ],
 "metadata": {
  "kernelspec": {
   "display_name": "Python 3 (ipykernel)",
   "language": "python",
   "name": "python3"
  },
  "language_info": {
   "codemirror_mode": {
    "name": "ipython",
    "version": 3
   },
   "file_extension": ".py",
   "mimetype": "text/x-python",
   "name": "python",
   "nbconvert_exporter": "python",
   "pygments_lexer": "ipython3",
   "version": "3.11.4"
  }
 },
 "nbformat": 4,
 "nbformat_minor": 5
}
