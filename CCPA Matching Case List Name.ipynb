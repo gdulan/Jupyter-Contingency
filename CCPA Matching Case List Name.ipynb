{
 "cells": [
  {
   "cell_type": "code",
   "execution_count": 1,
   "id": "dfe43b6f",
   "metadata": {},
   "outputs": [],
   "source": [
    "import pandas as pd"
   ]
  },
  {
   "cell_type": "code",
   "execution_count": 2,
   "id": "077f7168",
   "metadata": {},
   "outputs": [],
   "source": [
    "request = pd.read_excel(\"CCPA Request 11.15.24.xlsx\")\n",
    "caselist = pd.read_excel(\"CASELIST.xls\")"
   ]
  },
  {
   "cell_type": "code",
   "execution_count": 3,
   "id": "66cf09bf",
   "metadata": {},
   "outputs": [],
   "source": [
    "# 1. Create Full Name in request\n",
    "request['Req Full Name'] = request['LAST NAME'].str.upper() + ', ' + request['FIRST NAME'].str.upper()\n",
    "\n",
    "# 2. Rename and uppercase the 'Unnamed: 0' column in caselist\n",
    "caselist.rename(columns={'Unnamed: 0': 'Case List Full Name'}, inplace=True)\n",
    "caselist['Case List Full Name'] = caselist['Case List Full Name'].str.upper()"
   ]
  },
  {
   "cell_type": "code",
   "execution_count": 7,
   "id": "ce036df8",
   "metadata": {
    "scrolled": true
   },
   "outputs": [],
   "source": [
    "# 1) Merge with 'inner' join to keep only matches\n",
    "merged_df = request.merge(\n",
    "    caselist,\n",
    "    how='inner',\n",
    "    left_on='Req Full Name',\n",
    "    right_on='Case List Full Name'\n",
    ")\n",
    "\n",
    "# 2) Add 'Match Criteria' column\n",
    "merged_df['Match Criteria'] = 'Case List Match'\n",
    "\n",
    "# 3) Insert 'Lit Hold' at the beginning\n",
    "merged_df.insert(0, 'Lit Hold', 'Yes')\n",
    "\n",
    "# 4) Select columns and order\n",
    "final_columns = [\n",
    "    'Lit Hold',\n",
    "    'Match Criteria',\n",
    "    'Req Full Name',\n",
    "    'Case List Full Name',\n",
    "    'DOB',\n",
    "    'EMAIL'\n",
    "]\n",
    "final_df = merged_df[final_columns]"
   ]
  },
  {
   "cell_type": "code",
   "execution_count": 8,
   "id": "e9b3fb7f",
   "metadata": {},
   "outputs": [
    {
     "data": {
      "text/html": [
       "<div>\n",
       "<style scoped>\n",
       "    .dataframe tbody tr th:only-of-type {\n",
       "        vertical-align: middle;\n",
       "    }\n",
       "\n",
       "    .dataframe tbody tr th {\n",
       "        vertical-align: top;\n",
       "    }\n",
       "\n",
       "    .dataframe thead th {\n",
       "        text-align: right;\n",
       "    }\n",
       "</style>\n",
       "<table border=\"1\" class=\"dataframe\">\n",
       "  <thead>\n",
       "    <tr style=\"text-align: right;\">\n",
       "      <th></th>\n",
       "      <th>Lit Hold</th>\n",
       "      <th>Match Criteria</th>\n",
       "      <th>Req Full Name</th>\n",
       "      <th>Case List Full Name</th>\n",
       "      <th>DOB</th>\n",
       "      <th>EMAIL</th>\n",
       "    </tr>\n",
       "  </thead>\n",
       "  <tbody>\n",
       "    <tr>\n",
       "      <th>0</th>\n",
       "      <td>Yes</td>\n",
       "      <td>Case List Match</td>\n",
       "      <td>HODITS, CHARLES</td>\n",
       "      <td>HODITS, CHARLES</td>\n",
       "      <td>1/2/1937</td>\n",
       "      <td>chuckhodits@gmail.com</td>\n",
       "    </tr>\n",
       "    <tr>\n",
       "      <th>1</th>\n",
       "      <td>Yes</td>\n",
       "      <td>Case List Match</td>\n",
       "      <td>HODITS, CHARLES</td>\n",
       "      <td>HODITS, CHARLES</td>\n",
       "      <td>7/27/1960</td>\n",
       "      <td>chuckhodits@yahoo.com</td>\n",
       "    </tr>\n",
       "  </tbody>\n",
       "</table>\n",
       "</div>"
      ],
      "text/plain": [
       "  Lit Hold   Match Criteria    Req Full Name Case List Full Name        DOB  \\\n",
       "0      Yes  Case List Match  HODITS, CHARLES     HODITS, CHARLES   1/2/1937   \n",
       "1      Yes  Case List Match  HODITS, CHARLES     HODITS, CHARLES  7/27/1960   \n",
       "\n",
       "                   EMAIL  \n",
       "0  chuckhodits@gmail.com  \n",
       "1  chuckhodits@yahoo.com  "
      ]
     },
     "execution_count": 8,
     "metadata": {},
     "output_type": "execute_result"
    }
   ],
   "source": [
    "final_df"
   ]
  },
  {
   "cell_type": "code",
   "execution_count": null,
   "id": "eb6e0e20",
   "metadata": {},
   "outputs": [],
   "source": []
  }
 ],
 "metadata": {
  "kernelspec": {
   "display_name": "Python 3 (ipykernel)",
   "language": "python",
   "name": "python3"
  },
  "language_info": {
   "codemirror_mode": {
    "name": "ipython",
    "version": 3
   },
   "file_extension": ".py",
   "mimetype": "text/x-python",
   "name": "python",
   "nbconvert_exporter": "python",
   "pygments_lexer": "ipython3",
   "version": "3.11.4"
  }
 },
 "nbformat": 4,
 "nbformat_minor": 5
}
