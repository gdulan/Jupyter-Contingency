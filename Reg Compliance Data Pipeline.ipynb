{
 "cells": [
  {
   "cell_type": "code",
   "execution_count": 1,
   "id": "09d0842a",
   "metadata": {},
   "outputs": [],
   "source": [
    "import pandas as pd\n",
    "import matplotlib.pyplot as plt\n",
    "import openpyxl\n",
    "from openpyxl.drawing.image import Image\n",
    "from openpyxl import Workbook"
   ]
  },
  {
   "cell_type": "code",
   "execution_count": 2,
   "id": "e0e7c85d",
   "metadata": {},
   "outputs": [],
   "source": [
    "data = pd.read_excel('Weekly Compliance_CPR 00-00-Item.xlsx')\n",
    "LLE = pd.read_excel('LLE.xlsx')\n",
    "SAP =pd.read_csv('SAP_DATA_LOOKUP_202408271113.csv')\n",
    "df_cleaned = data\n",
    "active_SAP = SAP[SAP['TEXT_EMP_STATUS'] == 'Active']"
   ]
  },
  {
   "cell_type": "code",
   "execution_count": 3,
   "id": "30884141",
   "metadata": {},
   "outputs": [
    {
     "name": "stderr",
     "output_type": "stream",
     "text": [
      "C:\\Users\\gduln001\\AppData\\Local\\Temp\\1\\ipykernel_10720\\1889593326.py:5: SettingWithCopyWarning: \n",
      "A value is trying to be set on a copy of a slice from a DataFrame.\n",
      "Try using .loc[row_indexer,col_indexer] = value instead\n",
      "\n",
      "See the caveats in the documentation: https://pandas.pydata.org/pandas-docs/stable/user_guide/indexing.html#returning-a-view-versus-a-copy\n",
      "  active_SAP['Full Name'] = active_SAP.apply(\n"
     ]
    }
   ],
   "source": [
    "columns_to_strip = ['LLE', 'E1', 'E2', 'E3', 'E4']\n",
    "# Stripping trailing and leading spaces from the specified columns\n",
    "LLE[columns_to_strip] = LLE[columns_to_strip].apply(lambda col: col.str.strip())\n",
    "\n",
    "active_SAP['Full Name'] = active_SAP.apply(\n",
    "    lambda row: f\"{row['LAST_NAME']}, {row['FIRST_NAME']}\" + \n",
    "                (f\" {row['MIDDLE_NAME'][0]}\" if pd.notna(row['MIDDLE_NAME']) else \"\"),\n",
    "    axis=1\n",
    ").str.strip()  # Removes any trailing spaces\n"
   ]
  },
  {
   "cell_type": "code",
   "execution_count": 4,
   "id": "4f9d0772",
   "metadata": {},
   "outputs": [],
   "source": [
    "df_cleaned['Perner'] = df_cleaned['Perner'].astype(float).astype(int)\n",
    "LLE['CUST_PERNER'] = LLE['CUST_PERNER'].astype(float).astype(int)\n",
    "SAP['PERNR'] = SAP['PERNR'].astype(float).astype(int)"
   ]
  },
  {
   "cell_type": "code",
   "execution_count": 5,
   "id": "20e39ebc",
   "metadata": {},
   "outputs": [],
   "source": [
    "merged_1st_step = df_cleaned.merge(LLE, left_on='Perner', right_on='CUST_PERNER', how='left')"
   ]
  },
  {
   "cell_type": "code",
   "execution_count": 6,
   "id": "035212f1",
   "metadata": {},
   "outputs": [],
   "source": [
    "merged_2nd_step = merged_1st_step.merge(\n",
    "    active_SAP[['INTERNET_MAIL_ADDRESS02', 'Full Name']].rename(\n",
    "        columns={'INTERNET_MAIL_ADDRESS02': 'LLE_EMAIL', 'Full Name': 'LLE_FULL_NAME'}\n",
    "    ),\n",
    "    left_on='LLE', \n",
    "    right_on='LLE_FULL_NAME', \n",
    "    how='left'\n",
    ")"
   ]
  },
  {
   "cell_type": "code",
   "execution_count": 7,
   "id": "9e7983d9",
   "metadata": {},
   "outputs": [],
   "source": [
    "merged_final = merged_2nd_step.merge(\n",
    "    active_SAP[['INTERNET_MAIL_ADDRESS02', 'Full Name']].rename(\n",
    "        columns={'INTERNET_MAIL_ADDRESS02': 'E1_EMAIL', 'Full Name': 'E2_FULL_NAME'}\n",
    "    ),\n",
    "    left_on='E2', \n",
    "    right_on='E2_FULL_NAME', \n",
    "    how='left'\n",
    ")"
   ]
  },
  {
   "cell_type": "code",
   "execution_count": 8,
   "id": "4d1d283f",
   "metadata": {},
   "outputs": [
    {
     "name": "stdout",
     "output_type": "stream",
     "text": [
      "dict_keys(['Walt_Disney_World_Resort', 'Disney_Cruise_Line', 'Adventures_by_Disney', 'Disney_Corp_Administration', 'P&R_Administration'])\n"
     ]
    }
   ],
   "source": [
    "unique_ba_text_values = merged_final['BA Text'].unique()\n",
    "\n",
    "# Create a dictionary to store the resulting dataframes\n",
    "dataframes = {}\n",
    "\n",
    "# Loop through the unique values and create dataframes based on these values\n",
    "for value in unique_ba_text_values:\n",
    "    # Clean the value to use as a dictionary key\n",
    "    clean_value = value.replace(' ', '_').replace('-', '_').replace('/', '_')\n",
    "    # Store the dataframe in the dictionary with the cleaned key\n",
    "    dataframes[clean_value] = merged_final[merged_final['BA Text'] == value]\n",
    "\n",
    "print(dataframes.keys())\n"
   ]
  },
  {
   "cell_type": "code",
   "execution_count": 9,
   "id": "dd66d256",
   "metadata": {},
   "outputs": [],
   "source": [
    "for key in dataframes.keys():\n",
    "    df = dataframes[key]"
   ]
  },
  {
   "cell_type": "code",
   "execution_count": 10,
   "id": "442724de",
   "metadata": {},
   "outputs": [
    {
     "name": "stdout",
     "output_type": "stream",
     "text": [
      "            Count  Percentage\n",
      "Current      8697        94.3\n",
      "Overdue       364         3.9\n",
      "Coming Due    165         1.8\n"
     ]
    }
   ],
   "source": [
    "reports = {}\n",
    "\n",
    "for key in dataframes.keys():\n",
    "    # Retrieve the dataframe for the current key\n",
    "    df = dataframes[key]\n",
    "    \n",
    "    # Check if 'Learner Item Status' column exists\n",
    "    if 'Learner Item Status' in df.columns:\n",
    "        # Calculate counts\n",
    "        counts = df['Learner Item Status'].value_counts()\n",
    "        \n",
    "        # Calculate percentages\n",
    "        percentages = (counts / counts.sum()) * 100\n",
    "        percentages_rounded = percentages.round(1)\n",
    "        \n",
    "        # Create the report dataframe\n",
    "        report_df = pd.DataFrame({\n",
    "            'Count': counts,\n",
    "            'Percentage': percentages_rounded\n",
    "        })\n",
    "        \n",
    "        # Store the report in the reports dictionary\n",
    "        reports[key] = report_df\n",
    "\n",
    "# Example of accessing a specific report\n",
    "wdw_report = reports.get('Walt_Disney_World_Resort', pd.DataFrame())\n",
    "print(wdw_report)"
   ]
  },
  {
   "cell_type": "code",
   "execution_count": 13,
   "id": "df163ba8",
   "metadata": {},
   "outputs": [],
   "source": [
    "colors = ['#008080', '#FF6F61', '#708090']\n",
    "\n",
    "colors = ['#008080', '#FF6F61', '#708090']\n",
    "\n",
    "# Function to generate and optionally display plots\n",
    "def generate_plots(df, key, display=False):\n",
    "    counts = df['Learner Item Status'].value_counts()\n",
    "    percentages = (counts / counts.sum()) * 100\n",
    "    percentages_rounded = percentages.round(1)\n",
    "    \n",
    "    # Plot the counts with enhanced style\n",
    "    plt.figure(figsize=(14, 7))\n",
    "    \n",
    "    # Bar chart\n",
    "    ax = plt.subplot(1, 2, 1)\n",
    "    bars = counts.plot(kind='bar', color=colors, ax=ax)\n",
    "    plt.title('Counts of Learner Item Status', fontsize=16)\n",
    "    plt.xlabel('Learner Item Status', fontsize=14)\n",
    "    plt.ylabel('Count', fontsize=14)\n",
    "    plt.xticks(rotation=0, fontsize=12)\n",
    "    plt.yticks(fontsize=12)\n",
    "\n",
    "    # Annotate bars\n",
    "    for bar in bars.patches:\n",
    "        height = bar.get_height()\n",
    "        label = bar.get_x() + bar.get_width() / 2\n",
    "        # Find the closest index in counts\n",
    "        label_index = counts.index[int(label)]\n",
    "        percentage = percentages_rounded.get(label_index, 0)\n",
    "        ax.annotate(f'{height}\\n({percentage:.1f}%)',\n",
    "                    xy=(bar.get_x() + bar.get_width() / 2, height),\n",
    "                    xytext=(0, 5),  # 5 points vertical offset\n",
    "                    textcoords=\"offset points\",\n",
    "                    ha='center', fontsize=12)\n",
    "\n",
    "    # Pie chart\n",
    "    plt.subplot(1, 2, 2)\n",
    "    percentages_rounded.plot(kind='pie', autopct='%1.1f%%', colors=colors, startangle=140)\n",
    "    plt.title('Percentage of Learner Item Status', fontsize=16)\n",
    "    plt.ylabel('')\n",
    "\n",
    "    # Add a table below the bar chart\n",
    "    table_data = pd.DataFrame({\n",
    "        'Learner Item Status': counts.index,\n",
    "        'Count': counts.values,\n",
    "        'Percentage': percentages_rounded.values\n",
    "    })\n",
    "    \n",
    "    plt.table(cellText=table_data.values,\n",
    "              colLabels=table_data.columns,\n",
    "              cellLoc='center',\n",
    "              loc='bottom',\n",
    "              bbox=[0.15, -0.4, 0.7, 0.25])\n",
    "\n",
    "    plt.subplots_adjust(bottom=0.3)\n",
    "    plt.tight_layout()\n",
    "    \n",
    "    if display:\n",
    "        # Show the plot for visual inspection\n",
    "        plt.show()\n",
    "    else:\n",
    "        # Save the plot as an image\n",
    "        plt.savefig(f\"{key}_report.png\")\n",
    "    \n",
    "    plt.close()"
   ]
  },
  {
   "cell_type": "code",
   "execution_count": 17,
   "id": "32dd0084",
   "metadata": {},
   "outputs": [
    {
     "data": {
      "image/png": "[encoded data removed]",
      "text/plain": [
       "<Figure size 1400x700 with 2 Axes>"
      ]
     },
     "metadata": {},
     "output_type": "display_data"
    }
   ],
   "source": [
    "# Spot-check the visual for WDW\n",
    "generate_plots(dataframes['Disney_Cruise_Line'], 'Disney_Cruise_Line', display=True)\n"
   ]
  },
  {
   "cell_type": "code",
   "execution_count": 15,
   "id": "1d30b886",
   "metadata": {},
   "outputs": [
    {
     "name": "stdout",
     "output_type": "stream",
     "text": [
      "dict_keys(['Walt_Disney_World_Resort', 'Disney_Cruise_Line', 'Adventures_by_Disney', 'Disney_Corp_Administration', 'P&R_Administration'])\n"
     ]
    }
   ],
   "source": [
    "print(dataframes.keys())\n"
   ]
  },
  {
   "cell_type": "code",
   "execution_count": 19,
   "id": "78c8460f",
   "metadata": {},
   "outputs": [
    {
     "data": {
      "text/plain": [
       "array(['Ball, Charles A', 'Reid, Linda J', 'Armor, Alison E', nan,\n",
       "       'Swisher, Jacqueline N', 'Hymel, Pamela', 'Riles, Sarah F',\n",
       "       'Quinn, Rachel Lydia', 'Penning, Mark R', 'Burns, Stephen H',\n",
       "       'Simon, Matthew A', 'Smith, Maryann', 'Cressey, Kara K',\n",
       "       'Stewart, Darla J', 'Moulton, Meredith M', 'Natter, Mark A',\n",
       "       'Rodriguez, Kartika S', 'Jones, Brian T', 'Valiquette, Melissa M',\n",
       "       'Duffy, David L', 'Cordero, Gina', 'Cline, Natalie W',\n",
       "       'Mills, James R', 'Hale, Gregory B', 'Khubchandani, Rajesh',\n",
       "       'Hale, Andre', 'Vazquez, Ramiro', 'Dillard, Barry',\n",
       "       'Hughes, Danny E', 'Kelley, Faron D', 'Fabregat, Maria D',\n",
       "       'Compagnoni, Barry A', 'Gorner, Timo', 'Torres, Sheri A',\n",
       "       'Sakaske, Shannon', 'Fitzgibbon, Marylouise',\n",
       "       'Fitton Weinbloom, Jenny D'], dtype=object)"
      ]
     },
     "execution_count": 19,
     "metadata": {},
     "output_type": "execute_result"
    }
   ],
   "source": [
    "merged_final.E2.unique()\n"
   ]
  },
  {
   "cell_type": "code",
   "execution_count": 20,
   "id": "a1301ecd",
   "metadata": {},
   "outputs": [
    {
     "name": "stdout",
     "output_type": "stream",
     "text": [
      "Ball, Charles A               530\n",
      "Reid, Linda J                4040\n",
      "Armor, Alison E              1776\n",
      "Swisher, Jacqueline N         373\n",
      "Hymel, Pamela                  87\n",
      "Riles, Sarah F                569\n",
      "Quinn, Rachel Lydia             3\n",
      "Penning, Mark R               304\n",
      "Burns, Stephen H              198\n",
      "Simon, Matthew A               79\n",
      "Smith, Maryann                237\n",
      "Cressey, Kara K               114\n",
      "Stewart, Darla J                2\n",
      "Moulton, Meredith M             2\n",
      "Natter, Mark A                 34\n",
      "Rodriguez, Kartika S          274\n",
      "Jones, Brian T                 80\n",
      "Valiquette, Melissa M          14\n",
      "Duffy, David L                 36\n",
      "Cordero, Gina                   6\n",
      "Cline, Natalie W                2\n",
      "Mills, James R                 22\n",
      "Hale, Gregory B                 4\n",
      "Khubchandani, Rajesh            8\n",
      "Hale, Andre                     1\n",
      "Vazquez, Ramiro                 5\n",
      "Dillard, Barry                 10\n",
      "Hughes, Danny E                 2\n",
      "Kelley, Faron D                 1\n",
      "Fabregat, Maria D               1\n",
      "Compagnoni, Barry A             2\n",
      "Gorner, Timo                    3\n",
      "Torres, Sheri A                 2\n",
      "Sakaske, Shannon                2\n",
      "Fitzgibbon, Marylouise          6\n",
      "Fitton Weinbloom, Jenny D       2\n",
      "Name: E2, dtype: int64\n"
     ]
    }
   ],
   "source": [
    "value_counts = merged_final['E2'].value_counts(sort=False)\n",
    "print(value_counts)"
   ]
  },
  {
   "cell_type": "code",
   "execution_count": null,
   "id": "b7fb5889",
   "metadata": {},
   "outputs": [],
   "source": []
  }
 ],
 "metadata": {
  "kernelspec": {
   "display_name": "Python 3 (ipykernel)",
   "language": "python",
   "name": "python3"
  },
  "language_info": {
   "codemirror_mode": {
    "name": "ipython",
    "version": 3
   },
   "file_extension": ".py",
   "mimetype": "text/x-python",
   "name": "python",
   "nbconvert_exporter": "python",
   "pygments_lexer": "ipython3",
   "version": "3.11.4"
  }
 },
 "nbformat": 4,
 "nbformat_minor": 5
}
