{
 "cells": [
  {
   "cell_type": "code",
   "execution_count": null,
   "id": "4a226f33",
   "metadata": {},
   "outputs": [],
   "source": [
    "import pandas as pd\n",
    "from sklearn.preprocessing import LabelEncoder\n",
    "from transformers import BertTokenizer, BertForSequenceClassification, Trainer, TrainingArguments\n",
    "from sklearn.model_selection import train_test_split\n",
    "import torch\n",
    "from transformers eimport BertForSequenceClassification, Trainer, TrainingArguments"
   ]
  },
  {
   "cell_type": "code",
   "execution_count": null,
   "id": "fd39f715",
   "metadata": {},
   "outputs": [],
   "source": [
    "#Step 1: Data Preprocessing"
   ]
  },
  {
   "cell_type": "code",
   "execution_count": null,
   "id": "03938507",
   "metadata": {},
   "outputs": [],
   "source": [
    "data = pd.read_excel('WCMLDataset.xlsx')\n",
    "example_data = data"
   ]
  },
  {
   "cell_type": "code",
   "execution_count": null,
   "id": "1c4f5e22",
   "metadata": {},
   "outputs": [],
   "source": [
    "text_fields = [\n",
    "    'Incident Description',\n",
    "    'Activity Engaged in During Accident',\n",
    "    'General HS Comments',\n",
    "    'Injury Description'\n",
    "]\n",
    "example_data[text_fields] = example_data[text_fields].fillna('')"
   ]
  },
  {
   "cell_type": "code",
   "execution_count": null,
   "id": "80c30017",
   "metadata": {},
   "outputs": [],
   "source": [
    "# Combine text fields into a single input column\n",
    "example_data['Combined_Text'] = (\n",
    "    example_data['Incident Description'] + ' ' +\n",
    "    example_data['Activity Engaged in During Accident'] + ' ' +\n",
    "    example_data['General HS Comments'] + ' ' +\n",
    "    example_data['Injury Description']\n",
    ").str.lower().str.strip()"
   ]
  },
  {
   "cell_type": "code",
   "execution_count": null,
   "id": "24c92ca2",
   "metadata": {},
   "outputs": [],
   "source": [
    "# Encode target labels for all outputs\n",
    "targets = ['Event of Injury Desc', 'Source of Injury Desc', \n",
    "           'Event of Incident Desc', 'Source of Incident Desc',\n",
    "           'EDI Cause Desc']\n",
    "label_encoders = {}"
   ]
  },
  {
   "cell_type": "code",
   "execution_count": null,
   "id": "bdc06e90",
   "metadata": {},
   "outputs": [],
   "source": [
    "for target in targets:\n",
    "    le = LabelEncoder()\n",
    "    example_data[target + '_Encoded'] = le.fit_transform(example_data[target])\n",
    "    label_encoders[target] = le  # Save encoders for inverse transformation later"
   ]
  },
  {
   "cell_type": "code",
   "execution_count": null,
   "id": "09ea17c3",
   "metadata": {},
   "outputs": [],
   "source": [
    "#Step 2: Prepare Data for BERT"
   ]
  },
  {
   "cell_type": "code",
   "execution_count": null,
   "id": "772b3d57",
   "metadata": {},
   "outputs": [],
   "source": [
    "# Initialize the BERT tokenizer\n",
    "tokenizer = BertTokenizer.from_pretrained('bert-base-uncased')\n",
    "\n",
    "# Split data for one target (e.g., \"Source of Injury Desc\")\n",
    "X_train, X_test, y_train, y_test = train_test_split(\n",
    "    example_data['Combined_Text'], \n",
    "    example_data['Source of Injury Desc_Encoded'], \n",
    "    test_size=0.2, \n",
    "    random_state=42\n",
    ")\n",
    "\n",
    "# Tokenize the text\n",
    "train_encodings = tokenizer(list(X_train), truncation=True, padding=True, max_length=512)\n",
    "test_encodings = tokenizer(list(X_test), truncation=True, padding=True, max_length=512)"
   ]
  },
  {
   "cell_type": "code",
   "execution_count": null,
   "id": "c7f0bfbb",
   "metadata": {},
   "outputs": [],
   "source": []
  },
  {
   "cell_type": "code",
   "execution_count": null,
   "id": "ee1a316b",
   "metadata": {},
   "outputs": [],
   "source": [
    "# Convert tokenized data into a dataset format\n",
    "class Dataset(torch.utils.data.Dataset):\n",
    "    def __init__(self, encodings, labels):\n",
    "        self.encodings = encodings\n",
    "        self.labels = labels\n",
    "    def __len__(self):\n",
    "        return len(self.labels)\n",
    "    def __getitem__(self, idx):\n",
    "        item = {key: torch.tensor(val[idx]) for key, val in self.encodings.items()}\n",
    "        item['labels'] = torch.tensor(self.labels[idx])\n",
    "        return item\n",
    "\n",
    "# Prepare datasets for BERT\n",
    "train_dataset = Dataset(train_encodings, list(y_train))\n",
    "test_dataset = Dataset(test_encodings, list(y_test))"
   ]
  },
  {
   "cell_type": "code",
   "execution_count": null,
   "id": "0370443f",
   "metadata": {},
   "outputs": [],
   "source": [
    "#Step 3: Fine-Tuning BERT"
   ]
  },
  {
   "cell_type": "code",
   "execution_count": null,
   "id": "54328f5a",
   "metadata": {},
   "outputs": [],
   "source": [
    "# Load pre-trained BERT model\n",
    "num_labels = len(label_encoders['Source of Injury Desc'].classes_)\n",
    "model = BertForSequenceClassification.from_pretrained('bert-base-uncased', num_labels=num_labels)"
   ]
  },
  {
   "cell_type": "code",
   "execution_count": null,
   "id": "76c563d3",
   "metadata": {},
   "outputs": [],
   "source": [
    "# Define training arguments\n",
    "training_args = TrainingArguments(\n",
    "    output_dir='./results',          # Directory to save model checkpoints\n",
    "    num_train_epochs=4,              # Number of training epochs\n",
    "    per_device_train_batch_size=16,  # Batch size for training\n",
    "    per_device_eval_batch_size=64,   # Batch size for evaluation\n",
    "    warmup_steps=500,                # Number of warmup steps for learning rate scheduler\n",
    "    weight_decay=0.01,               # Strength of weight decay\n",
    "    logging_dir='./logs',            # Directory for logs\n",
    "    logging_steps=10,                # Log every 10 steps\n",
    "    evaluation_strategy=\"epoch\",     # Evaluate at the end of each epoch\n",
    "    save_strategy=\"epoch\",           # Save model at the end of each epoch\n",
    "    load_best_model_at_end=True,     # Load the best model at the end of training\n",
    ")"
   ]
  },
  {
   "cell_type": "code",
   "execution_count": null,
   "id": "3f697d1a",
   "metadata": {},
   "outputs": [],
   "source": [
    "trainer = Trainer(\n",
    "    model=model,\n",
    "    args=training_args,\n",
    "    train_dataset=train_dataset,\n",
    "    eval_dataset=test_dataset,\n",
    ")"
   ]
  },
  {
   "cell_type": "code",
   "execution_count": null,
   "id": "43729c52",
   "metadata": {},
   "outputs": [],
   "source": [
    "trainer.train()"
   ]
  },
  {
   "cell_type": "code",
   "execution_count": null,
   "id": "c3395d61",
   "metadata": {},
   "outputs": [],
   "source": [
    "# Save the fine-tuned model\n",
    "model.save_pretrained('./fine_tuned_source_of_injury')"
   ]
  },
  {
   "cell_type": "code",
   "execution_count": null,
   "id": "db0fcd80",
   "metadata": {},
   "outputs": [],
   "source": [
    "#Step 4: Inference and Predictions"
   ]
  },
  {
   "cell_type": "code",
   "execution_count": null,
   "id": "72d5f600",
   "metadata": {},
   "outputs": [],
   "source": [
    "# Load the fine-tuned model\n",
    "model = BertForSequenceClassification.from_pretrained('./fine_tuned_source_of_injury')\n",
    "\n",
    "# Tokenize new input text for prediction\n",
    "new_text = [\"He felt pain in his hand and wrists develop as the cooler door's automatic mechanism was broken.\"]\n",
    "new_encodings = tokenizer(new_text, truncation=True, padding=True, max_length=512, return_tensors='pt')"
   ]
  },
  {
   "cell_type": "code",
   "execution_count": null,
   "id": "b5126d01",
   "metadata": {},
   "outputs": [],
   "source": [
    "# Predict\n",
    "model.eval()\n",
    "outputs = model(**new_encodings)\n",
    "predicted_class = torch.argmax(outputs.logits, dim=1).item()"
   ]
  },
  {
   "cell_type": "code",
   "execution_count": null,
   "id": "e8214837",
   "metadata": {},
   "outputs": [],
   "source": [
    "# Decode the predicted class\n",
    "decoded_class = label_encoders['Source of Injury Desc'].inverse_transform([predicted_class])\n",
    "print(f\"Predicted Source of Injury: {decoded_class[0]}\")"
   ]
  }
 ],
 "metadata": {
  "kernelspec": {
   "display_name": "Python 3 (ipykernel)",
   "language": "python",
   "name": "python3"
  },
  "language_info": {
   "codemirror_mode": {
    "name": "ipython",
    "version": 3
   },
   "file_extension": ".py",
   "mimetype": "text/x-python",
   "name": "python",
   "nbconvert_exporter": "python",
   "pygments_lexer": "ipython3",
   "version": "3.11.4"
  }
 },
 "nbformat": 4,
 "nbformat_minor": 5
}
