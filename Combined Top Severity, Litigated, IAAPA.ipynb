{
 "cells": [
  {
   "cell_type": "code",
   "execution_count": 1,
   "id": "99f0050b",
   "metadata": {},
   "outputs": [],
   "source": [
    "import pandas as pd\n",
    "import numpy as np"
   ]
  },
  {
   "cell_type": "code",
   "execution_count": 2,
   "id": "73900cda",
   "metadata": {},
   "outputs": [],
   "source": [
    "data = pd.read_excel('Top Severity_Litigated_IAAPA - Analysis.xlsx')"
   ]
  },
  {
   "cell_type": "code",
   "execution_count": 3,
   "id": "6d375f2f",
   "metadata": {},
   "outputs": [],
   "source": [
    "def update_event_desc(value):\n",
    "    if pd.notna(value) and 'Slip/Trip/Misstep' in value:\n",
    "        return 'Slip/Trip/Misstep'\n",
    "    return value\n",
    "\n",
    "data['Event of Incident Desc'] = data['Event of Incident Desc'].apply(update_event_desc)"
   ]
  },
  {
   "cell_type": "code",
   "execution_count": 4,
   "id": "bba8f858",
   "metadata": {},
   "outputs": [],
   "source": [
    "#Sectioning Dataframes\n",
    "\n",
    "fy23data = data[data['Fiscal Year'] == 'FY23']\n",
    "Litigatedfy23 = fy23data[fy23data['Attorney Represented'] == 'Y']\n",
    "IAAPA1 = fy23data[fy23data['Treatment Code (IAAPA) Desc'] == '1 Fatality']\n",
    "IAAPA2 = fy23data[fy23data['Treatment Code (IAAPA) Desc'] == '2 Serious- Immed Hosp Adm & 24 Hour Stay']\n",
    "IAAPA3 = fy23data[fy23data['Treatment Code (IAAPA) Desc'] == '3 Other Injury - LT Serious']\n",
    "IAAPA4 = fy23data[fy23data['Treatment Code (IAAPA) Desc'] == '4 First Aid Only']\n",
    "IAAPA5 = fy23data[fy23data['Treatment Code (IAAPA) Desc'] == '5 No Treatment']\n",
    "IAAPA6 = fy23data[fy23data['Treatment Code (IAAPA) Desc'] == '6 Non-Injury Report']"
   ]
  },
  {
   "cell_type": "code",
   "execution_count": 5,
   "id": "2c809088",
   "metadata": {},
   "outputs": [],
   "source": [
    "#Severity General\n",
    "\n",
    "Severity_General = fy23data.groupby(['Event of Incident Desc', 'Source of Incident Desc'])[['Disney Claim Total Incurred', 'Claim Number']].agg({'Disney Claim Total Incurred': 'sum', 'Claim Number': 'nunique'}).nlargest(20, 'Disney Claim Total Incurred')\n",
    "Severity_General.reset_index(inplace=True)\n",
    "\n",
    "#Severity In Depth\n",
    "\n",
    "Severity_insights = fy23data.groupby(['Event of Incident Desc', 'Source of Incident Desc', 'Location Code Desc', 'Sub Location Desc'])[['Disney Claim Total Incurred', 'Claim Number']].agg({\n",
    "    'Disney Claim Total Incurred': 'sum',\n",
    "    'Claim Number': 'nunique'\n",
    "}).reset_index()\n",
    "\n",
    "Severity_event_source_combinations = Severity_insights.groupby(['Event of Incident Desc', 'Source of Incident Desc'])[['Disney Claim Total Incurred', 'Claim Number']].agg({\n",
    "    'Disney Claim Total Incurred': 'sum',\n",
    "    'Claim Number': 'sum'\n",
    "}).nlargest(10, 'Disney Claim Total Incurred')\n",
    "\n",
    "Severity_location_sublocations = []\n",
    "\n",
    "#for idx, row in top_event_source_combinations.iterrows():\n",
    "    #event_source_condition = (combined_insights['Event of Incident Desc'] == idx[0]) & (combined_insights['Source of Incident Desc'] == idx[1])\n",
    "    #top_location_sublocations.append(combined_insights[event_source_condition].nlargest(5, 'Claim Number'))\n",
    "\n",
    "for idx, row in Severity_event_source_combinations.iterrows():\n",
    "    event_source_Severity = (Severity_insights['Event of Incident Desc'] == idx[0]) & (Severity_insights['Source of Incident Desc'] == idx[1])\n",
    "    Severity_location_sublocations.append(Severity_insights[event_source_Severity].nlargest(5, 'Disney Claim Total Incurred'))\n",
    "\n",
    "Severity_InDepth = pd.concat(Severity_location_sublocations)\n"
   ]
  },
  {
   "cell_type": "code",
   "execution_count": null,
   "id": "2cd8938b",
   "metadata": {},
   "outputs": [],
   "source": []
  },
  {
   "cell_type": "code",
   "execution_count": 6,
   "id": "5e3d663f",
   "metadata": {},
   "outputs": [],
   "source": [
    "#Litigated General\n",
    "\n",
    "Litigated_General = Litigatedfy23.groupby(['Event of Incident Desc', 'Source of Incident Desc'])[['Disney Claim Total Incurred', 'Claim Number']].agg({'Disney Claim Total Incurred': 'sum', 'Claim Number': 'nunique'}).nlargest(20, 'Claim Number')\n",
    "Litigated_General.reset_index(inplace=True)\n",
    "\n",
    "#Litigated in Depth\n",
    "\n",
    "Litigated_insights = Litigatedfy23.groupby(['Event of Incident Desc', 'Source of Incident Desc', 'Location Code Desc', 'Sub Location Desc'])[['Disney Claim Total Incurred', 'Claim Number']].agg({\n",
    "    'Disney Claim Total Incurred': 'sum',\n",
    "    'Claim Number': 'nunique'\n",
    "}).reset_index()\n",
    "\n",
    "Litigated_event_source_combinations = Litigated_insights.groupby(['Event of Incident Desc', 'Source of Incident Desc'])[['Disney Claim Total Incurred', 'Claim Number']].agg({\n",
    "    'Disney Claim Total Incurred': 'sum',\n",
    "    'Claim Number': 'sum'\n",
    "}).nlargest(10, 'Claim Number')\n",
    "\n",
    "Litigated_location_sublocations = []\n",
    "\n",
    "#for idx, row in top_event_source_combinations.iterrows():\n",
    "    #event_source_condition = (combined_insights['Event of Incident Desc'] == idx[0]) & (combined_insights['Source of Incident Desc'] == idx[1])\n",
    "    #top_location_sublocations.append(combined_insights[event_source_condition].nlargest(5, 'Claim Number'))\n",
    "\n",
    "for idx, row in Litigated_event_source_combinations.iterrows():\n",
    "    event_source_Litigated = (Litigated_insights['Event of Incident Desc'] == idx[0]) & (Litigated_insights['Source of Incident Desc'] == idx[1])\n",
    "    Litigated_location_sublocations.append(Litigated_insights[event_source_Litigated].nlargest(5, 'Claim Number'))\n",
    "\n",
    "Litigated_InDepth = pd.concat(Litigated_location_sublocations)"
   ]
  },
  {
   "cell_type": "code",
   "execution_count": 7,
   "id": "499f5c46",
   "metadata": {},
   "outputs": [],
   "source": [
    "IAAPA1 = IAAPA1.groupby(['Event of Incident Desc', 'Source of Incident Desc'])[['Disney Claim Total Incurred', 'Claim Number']].agg({'Disney Claim Total Incurred': 'sum', 'Claim Number': 'nunique'}).nlargest(20, 'Claim Number')\n",
    "IAAPA1\n",
    "IAAPA1.reset_index(inplace=True)"
   ]
  },
  {
   "cell_type": "code",
   "execution_count": 8,
   "id": "4b12a8d3",
   "metadata": {},
   "outputs": [],
   "source": [
    "IAAPA2 = IAAPA2.groupby(['Event of Incident Desc', 'Source of Incident Desc'])[['Disney Claim Total Incurred', 'Claim Number']].agg({'Disney Claim Total Incurred': 'sum', 'Claim Number': 'nunique'}).nlargest(20, 'Claim Number')\n",
    "IAAPA2\n",
    "IAAPA2.reset_index(inplace=True)"
   ]
  },
  {
   "cell_type": "code",
   "execution_count": 9,
   "id": "255e6f3d",
   "metadata": {},
   "outputs": [],
   "source": [
    "IAAPA3 = IAAPA3.groupby(['Event of Incident Desc', 'Source of Incident Desc'])[['Disney Claim Total Incurred', 'Claim Number']].agg({'Disney Claim Total Incurred': 'sum', 'Claim Number': 'nunique'}).nlargest(20, 'Claim Number')\n",
    "IAAPA3\n",
    "IAAPA3.reset_index(inplace=True)"
   ]
  },
  {
   "cell_type": "code",
   "execution_count": 10,
   "id": "69ff731b",
   "metadata": {},
   "outputs": [],
   "source": [
    "IAAPA4 = IAAPA4.groupby(['Event of Incident Desc', 'Source of Incident Desc'])[['Disney Claim Total Incurred', 'Claim Number']].agg({'Disney Claim Total Incurred': 'sum', 'Claim Number': 'nunique'}).nlargest(20, 'Claim Number')\n",
    "IAAPA4\n",
    "IAAPA4.reset_index(inplace=True)"
   ]
  },
  {
   "cell_type": "code",
   "execution_count": 11,
   "id": "cbe70123",
   "metadata": {},
   "outputs": [],
   "source": [
    "IAAPA5 = IAAPA5.groupby(['Event of Incident Desc', 'Source of Incident Desc'])[['Disney Claim Total Incurred', 'Claim Number']].agg({'Disney Claim Total Incurred': 'sum', 'Claim Number': 'nunique'}).nlargest(20, 'Claim Number')\n",
    "IAAPA5\n",
    "IAAPA5.reset_index(inplace=True)"
   ]
  },
  {
   "cell_type": "code",
   "execution_count": 12,
   "id": "156a88c1",
   "metadata": {},
   "outputs": [],
   "source": [
    "IAAPA6 = IAAPA6.groupby(['Event of Incident Desc', 'Source of Incident Desc'])[['Disney Claim Total Incurred', 'Claim Number']].agg({'Disney Claim Total Incurred': 'sum', 'Claim Number': 'nunique'}).nlargest(20, 'Claim Number')\n",
    "IAAPA6\n",
    "IAAPA6.reset_index(inplace=True)"
   ]
  },
  {
   "cell_type": "code",
   "execution_count": 13,
   "id": "bc11518e",
   "metadata": {},
   "outputs": [],
   "source": [
    "output_path = r'J:\\Data\\RMSA Analysis\\0 - Team Working Files\\10 - Nick\\In_Depth_Top_Severity_Litigated_IAAPA.xlsx'\n",
    "\n",
    "with pd.ExcelWriter(output_path, engine='xlsxwriter') as writer:\n",
    "\n",
    "    # Write each DataFrame to a different worksheet\n",
    "    Severity_General.to_excel(writer, sheet_name='Severity')\n",
    "    Severity_InDepth.to_excel(writer, sheet_name='Severity In Depth')\n",
    "    Litigated_General.to_excel(writer, sheet_name='Litigated')\n",
    "    Litigated_InDepth.to_excel(writer, sheet_name='Litigated In Depth')\n",
    "    IAAPA1.to_excel(writer, sheet_name='IAAPA1')\n",
    "    IAAPA2.to_excel(writer, sheet_name='IAAPA2')\n",
    "    IAAPA3.to_excel(writer, sheet_name='IAAPA3')\n",
    "    IAAPA4.to_excel(writer, sheet_name='IAAPA4')\n",
    "    IAAPA5.to_excel(writer, sheet_name='IAAPA5')\n",
    "    IAAPA6.to_excel(writer, sheet_name='IAAPA6')"
   ]
  },
  {
   "cell_type": "code",
   "execution_count": null,
   "id": "8cccce10",
   "metadata": {},
   "outputs": [],
   "source": []
  }
 ],
 "metadata": {
  "kernelspec": {
   "display_name": "Python 3 (ipykernel)",
   "language": "python",
   "name": "python3"
  },
  "language_info": {
   "codemirror_mode": {
    "name": "ipython",
    "version": 3
   },
   "file_extension": ".py",
   "mimetype": "text/x-python",
   "name": "python",
   "nbconvert_exporter": "python",
   "pygments_lexer": "ipython3",
   "version": "3.11.4"
  }
 },
 "nbformat": 4,
 "nbformat_minor": 5
}
