{
 "cells": [
  {
   "cell_type": "code",
   "execution_count": 1,
   "id": "c49c6506",
   "metadata": {},
   "outputs": [],
   "source": [
    "import pandas as pd"
   ]
  },
  {
   "cell_type": "code",
   "execution_count": 2,
   "id": "db483ac0",
   "metadata": {},
   "outputs": [],
   "source": [
    "disney = pd.read_excel('Disney_Download (2).xlsx')\n",
    "request = pd.read_csv('Guest Request (2).csv')"
   ]
  },
  {
   "cell_type": "code",
   "execution_count": 3,
   "id": "488db8e4",
   "metadata": {},
   "outputs": [],
   "source": [
    "disney['Full Name'] = (disney['Name First'].astype(str) + ' ' + disney['Name Last'].astype(str)).str.lower()"
   ]
  },
  {
   "cell_type": "code",
   "execution_count": 4,
   "id": "aae6d855",
   "metadata": {},
   "outputs": [],
   "source": [
    "request['Full Name'] = (request['FIRST NAME'].astype(str) + ' ' + request['LAST NAME'].astype(str)).str.lower()"
   ]
  },
  {
   "cell_type": "code",
   "execution_count": null,
   "id": "e5b9dfe0",
   "metadata": {},
   "outputs": [],
   "source": [
    "# Initialize an empty list to store the results\n",
    "matches = []\n",
    "\n",
    "# Iterate over each row in the request dataframe\n",
    "for _, req_row in request.iterrows():\n",
    "    # Extract the relevant fields\n",
    "    req_name = req_row['Full Name']\n",
    "    req_email = req_row['EMAIL']\n",
    "    req_dob = req_row['DOB']\n",
    "    \n",
    "    # Compare with each row in the disney dataframe\n",
    "    for _, dis_row in disney.iterrows():\n",
    "        dis_name = dis_row['Full Name']\n",
    "        dis_email = dis_row['Person Involved - Email']\n",
    "        dis_dob = dis_row['DOB']\n",
    "        \n",
    "        # Initialize match level\n",
    "        match_level = 0\n",
    "        \n",
    "        # Check for matches and assign levels\n",
    "        if req_name == dis_name:\n",
    "            match_level += 1\n",
    "            if req_dob == dis_dob:\n",
    "                match_level += 1\n",
    "            elif req_email == dis_email:\n",
    "                match_level += 1\n",
    "                \n",
    "        if match_level > 0:\n",
    "            # Store the match result\n",
    "            matches.append({\n",
    "                'Req Name': req_name,\n",
    "                'Req Email': req_email,\n",
    "                'Req DOB': req_dob,\n",
    "                'Dis Name': dis_name,\n",
    "                'Dis Email': dis_email,\n",
    "                'Dis DOB': dis_dob,\n",
    "                'Match Level': match_level\n",
    "            })\n",
    "\n",
    "# Convert the matches list into a new DataFrame\n",
    "matched_df = pd.DataFrame(matches)\n",
    "\n",
    "# Display the results\n",
    "print(matched_df)\n"
   ]
  },
  {
   "cell_type": "code",
   "execution_count": null,
   "id": "8dec5106",
   "metadata": {},
   "outputs": [],
   "source": []
  }
 ],
 "metadata": {
  "kernelspec": {
   "display_name": "Python 3 (ipykernel)",
   "language": "python",
   "name": "python3"
  },
  "language_info": {
   "codemirror_mode": {
    "name": "ipython",
    "version": 3
   },
   "file_extension": ".py",
   "mimetype": "text/x-python",
   "name": "python",
   "nbconvert_exporter": "python",
   "pygments_lexer": "ipython3",
   "version": "3.11.4"
  }
 },
 "nbformat": 4,
 "nbformat_minor": 5
}
