{
 "cells": [
  {
   "cell_type": "code",
   "execution_count": 1,
   "id": "e0e47585",
   "metadata": {},
   "outputs": [],
   "source": [
    "import pandas as pd\n",
    "import numpy as np\n",
    "import datetime as dt\n",
    "import matplotlib.pyplot as plt\n",
    "import seaborn as sns"
   ]
  },
  {
   "cell_type": "code",
   "execution_count": 2,
   "id": "8c65897f",
   "metadata": {},
   "outputs": [],
   "source": [
    "gcparks = pd.read_excel('GCPARKS.xlsx')\n",
    "attendance = pd.read_excel('Attendance.xlsx')\n",
    "attendance = attendance.set_index('Unnamed: 0')"
   ]
  },
  {
   "cell_type": "code",
   "execution_count": 3,
   "id": "9661204d",
   "metadata": {},
   "outputs": [],
   "source": [
    "#Remove Unneeded Columns\n",
    "gcparks = gcparks.drop('Setid', axis =1)\n",
    "gcparks = gcparks.drop('Client ID-Claim', axis =1)\n",
    "gcparks = gcparks.drop('Incident to Claim Date', axis =1)\n",
    "gcparks = gcparks.drop('Coverage', axis =1)\n",
    "gcparks = gcparks.drop('Claim Status Code', axis =1)"
   ]
  },
  {
   "cell_type": "code",
   "execution_count": 4,
   "id": "75cba2e3",
   "metadata": {},
   "outputs": [
    {
     "name": "stdout",
     "output_type": "stream",
     "text": [
      "0569 - EPCOT - FL\n",
      "0663 - Disney's Hollywood Studios - FL\n",
      "2092 - MAGIC KINGDOM 1029 - FL\n",
      "2227 - ANIMAL KINGDOM 1029 - FL\n"
     ]
    }
   ],
   "source": [
    "#Split Datasets into specific parks\n",
    "\n",
    "grouped = gcparks.groupby('Personnel Area Desc')\n",
    "\n",
    "dfs = {}\n",
    "\n",
    "for division, subset in grouped:\n",
    "    dfs[division] = subset\n",
    "    \n",
    "for division_name in dfs.keys():\n",
    "    print(division_name)"
   ]
  },
  {
   "cell_type": "code",
   "execution_count": 5,
   "id": "9c19bd5b",
   "metadata": {},
   "outputs": [],
   "source": [
    "ecdf = dfs['0569 - EPCOT - FL']\n",
    "hsdf = dfs['0663 - Disney\\'s Hollywood Studios - FL']\n",
    "mkdf = dfs['2092 - MAGIC KINGDOM 1029 - FL']\n",
    "akdf = dfs['2227 - ANIMAL KINGDOM 1029 - FL']"
   ]
  },
  {
   "cell_type": "code",
   "execution_count": 7,
   "id": "d838aa87",
   "metadata": {},
   "outputs": [
    {
     "data": {
      "text/plain": [
       "{'ECincidentrate18': 257.3925997058631,\n",
       " 'ECincidentrate19': 256.21703597948175,\n",
       " 'ECincidentrate20': 259.26048915843313,\n",
       " 'ECincidentrate21': 327.7399264476584,\n",
       " 'ECincidentrate22': 388.16764414122355,\n",
       " 'ECincidentrate23': 454.9144059044448}"
      ]
     },
     "execution_count": 7,
     "metadata": {},
     "output_type": "execute_result"
    }
   ],
   "source": [
    "##Metrics EPCOT\n",
    "\n",
    "#Incidents\n",
    "ECtotalunique = ecdf['Claim Number'].nunique()\n",
    "ECIncidentClaimFY = ecdf.groupby('Fiscal Year')['Claim Number'].nunique()\n",
    "\n",
    "\n",
    "#Claims Number\n",
    "ECclaimcount = ecdf[ecdf['Claim Status'] != 'INCIDENT']['Claim Number'].nunique()\n",
    "\n",
    "#By Fiscal Year\n",
    "ECfiscalyear = ecdf[ecdf['Claim Status'] != 'INCIDENT'].groupby('Fiscal Year')['Claim Number'].nunique()\n",
    "\n",
    "#Incurred Total\n",
    "ECincurredyear = ecdf[ecdf['Claim Status'] != 'INCIDENT'].groupby('Fiscal Year').agg({'Claim Number': 'nunique', 'Disney Claim Total Incurred': 'sum'})\n",
    "ECincurredtotal = ECincurredyear['Disney Claim Total Incurred'].sum()\n",
    "\n",
    "#Rate\n",
    "ECvalues_for_FY = {}  \n",
    "\n",
    "#fiscal_years = ['FY18', 'FY19', 'FY20', 'FY21', 'FY22', 'FY23']\n",
    "\n",
    "for fiscal_year in fiscal_years:\n",
    "    ECvalue_for_FY = attendance.loc[fiscal_year, 'Epcot']\n",
    "    ECvalues_for_FY[fiscal_year] = ECvalue_for_FY\n",
    "    \n",
    "#ECfy18_Attendance = ECvalues_for_FY['FY18']\n",
    "#ECfy19_Attendance = ECvalues_for_FY['FY19']\n",
    "#ECfy20_Attendance = ECvalues_for_FY['FY20']\n",
    "#ECfy21_Attendance = ECvalues_for_FY['FY21']\n",
    "#ECfy22_Attendance = ECvalues_for_FY['FY22']\n",
    "#ECfy23_Attendance = ECvalues_for_FY['FY23']\n",
    "\n",
    "#fy18_IncidentClaims = ECIncidentClaimFY.get('FY18', 0)\n",
    "#fy19_IncidentClaims = ECIncidentClaimFY.get('FY19', 0)\n",
    "#fy20_IncidentClaims = ECIncidentClaimFY.get('FY20', 0)\n",
    "#fy21_IncidentClaims = ECIncidentClaimFY.get('FY21', 0)\n",
    "#fy22_IncidentClaims = ECIncidentClaimFY.get('FY22', 0)\n",
    "#fy23_IncidentClaims = ECIncidentClaimFY.get('FY23', 0)\n",
    "\n",
    "#ECincidentrate18 = (fy18_IncidentClaims / ECfy18_Attendance * 1000000)\n",
    "#ECincidentrate19 = (fy19_IncidentClaims / ECfy19_Attendance * 1000000)\n",
    "#ECincidentrate20 = (fy20_IncidentClaims / ECfy20_Attendance * 1000000)\n",
    "#ECincidentrate21 = (fy21_IncidentClaims / ECfy21_Attendance * 1000000)\n",
    "#ECincidentrate22 = (fy22_IncidentClaims / ECfy22_Attendance * 1000000)\n",
    "#ECincidentrate23 = (fy23_IncidentClaims / ECfy23_Attendance * 1000000)\n",
    "\n",
    "#LOOP FOR RATES \n",
    "ECincident_rates = {}\n",
    "\n",
    "fiscal_years = ['FY18', 'FY19', 'FY20', 'FY21', 'FY22', 'FY23']\n",
    "\n",
    "for year in fiscal_years:\n",
    "    attendance = ECvalues_for_FY.get(year, 0)\n",
    "    ECincident_claims = ECIncidentClaimFY.get(year, 0)\n",
    "    \n",
    "    ECincident_rate = (ECincident_claims / attendance * 1000000)\n",
    "    \n",
    "    ECincident_rates[f'ECincidentrate{year[2:]}'] = ECincident_rate\n",
    "\n",
    "#Year over Year Comparisons\n",
    "ECincident_rates\n",
    "\n",
    "#Claim and Incident Rate per 1M Attendance"
   ]
  },
  {
   "cell_type": "code",
   "execution_count": null,
   "id": "c5c2ad67",
   "metadata": {},
   "outputs": [],
   "source": [
    "ECincidentrate19 = ECincident_rates.get('ECincidentrate19', 0)\n",
    "ECincidentrate19"
   ]
  },
  {
   "cell_type": "code",
   "execution_count": null,
   "id": "f720f38f",
   "metadata": {},
   "outputs": [],
   "source": [
    "ECincident_rates_values = [ECincident_rates.get(f'ECincidentrate{year[2:]}', 0) for year in fiscal_years]\n",
    "\n",
    "plt.figure(figsize=(10, 6))\n",
    "plt.plot(fiscal_years, incident_rates_values, marker='o', color='b', linestyle='-', linewidth=2)\n",
    "plt.xlabel('Fiscal Year')\n",
    "plt.ylabel('Incident Rate (per 1,000,000)')\n",
    "plt.title('Incident Rates Over Time')\n",
    "plt.xticks(rotation=45)  # Rotate x-axis labels for readability\n",
    "\n",
    "plt.ylim(0)\n",
    "\n",
    "# Display the plot\n",
    "plt.grid(True)\n",
    "plt.tight_layout()\n",
    "plt.show()"
   ]
  },
  {
   "cell_type": "code",
   "execution_count": null,
   "id": "c902921c",
   "metadata": {},
   "outputs": [],
   "source": []
  }
 ],
 "metadata": {
  "kernelspec": {
   "display_name": "Python 3 (ipykernel)",
   "language": "python",
   "name": "python3"
  },
  "language_info": {
   "codemirror_mode": {
    "name": "ipython",
    "version": 3
   },
   "file_extension": ".py",
   "mimetype": "text/x-python",
   "name": "python",
   "nbconvert_exporter": "python",
   "pygments_lexer": "ipython3",
   "version": "3.11.4"
  }
 },
 "nbformat": 4,
 "nbformat_minor": 5
}
