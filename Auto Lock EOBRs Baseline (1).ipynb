{
 "cells": [
  {
   "cell_type": "code",
   "execution_count": 1,
   "id": "b8527bb3",
   "metadata": {},
   "outputs": [],
   "source": [
    "import os\n",
    "from pathlib import Path\n",
    "import PyPDF2\n",
    "import shutil\n",
    "import csv\n",
    "from datetime import datetime"
   ]
  },
  {
   "cell_type": "code",
   "execution_count": 2,
   "id": "6295dd3b",
   "metadata": {},
   "outputs": [
    {
     "name": "stdout",
     "output_type": "stream",
     "text": [
      "Report generated: Z:\\work\\ach_eobr\\Password Protected EOBRs\\protected_files_report.csv\n"
     ]
    }
   ],
   "source": [
    "# Define paths\n",
    "base_dir = Path(r\"Z:\\work\\ach_eobr\\DailyArchive\")\n",
    "output_dir = Path(r\"Z:\\work\\ach_eobr\\Password Protected EOBRs\")\n",
    "password = \"TEST123\"\n",
    "report_file = output_dir / \"protected_files_report.csv\"\n",
    "\n",
    "# Create output directory if it doesn't exist\n",
    "output_dir.mkdir(parents=True, exist_ok=True)\n",
    "\n",
    "def find_latest_folder(base_path):\n",
    "    \"\"\"Find the latest date-stamped folder in the base directory.\"\"\"\n",
    "    all_folders = [f for f in base_path.iterdir() if f.is_dir()]\n",
    "    latest_folder = max(all_folders, key=os.path.getmtime)\n",
    "    return latest_folder\n",
    "\n",
    "def password_protect_pdf(input_pdf, output_pdf, password):\n",
    "    \"\"\"Password protect the input PDF and save it to the output path.\"\"\"\n",
    "    try:\n",
    "        with open(input_pdf, \"rb\") as pdf_file:\n",
    "            reader = PyPDF2.PdfReader(pdf_file)\n",
    "            writer = PyPDF2.PdfWriter()\n",
    "\n",
    "            # Copy pages and apply password\n",
    "            for page_num in range(len(reader.pages)):\n",
    "                writer.add_page(reader.pages[page_num])\n",
    "\n",
    "            writer.encrypt(password)\n",
    "\n",
    "            # Save the protected PDF\n",
    "            with open(output_pdf, \"wb\") as output_file:\n",
    "                writer.write(output_file)\n",
    "        \n",
    "        return True\n",
    "    except Exception as e:\n",
    "        print(f\"Failed to password protect {input_pdf}: {e}\")\n",
    "        return False\n",
    "\n",
    "def generate_report(report_path, report_data):\n",
    "    \"\"\"Generate a CSV report for the protected files.\"\"\"\n",
    "    with open(report_path, mode='w', newline='') as file:\n",
    "        writer = csv.writer(file)\n",
    "        writer.writerow([\"Vendor\", \"File Path\", \"Status\", \"Timestamp\"])\n",
    "        for row in report_data:\n",
    "            writer.writerow(row)\n",
    "\n",
    "def main():\n",
    "    # Find the latest date folder\n",
    "    latest_folder = find_latest_folder(base_dir)\n",
    "\n",
    "    # Report data collection\n",
    "    report_data = []\n",
    "\n",
    "    # Loop through each vendor folder\n",
    "    for vendor_folder in latest_folder.iterdir():\n",
    "        if vendor_folder.is_dir():\n",
    "            # Find the _PAID.pdf file\n",
    "            for pdf_file in vendor_folder.glob(\"*_PAID.pdf\"):\n",
    "                try:\n",
    "                    # Define destination path\n",
    "                    destination_pdf = output_dir / f\"{vendor_folder.name}_PAID_PROTECTED.pdf\"\n",
    "\n",
    "                    # Protect the PDF\n",
    "                    success = password_protect_pdf(pdf_file, destination_pdf, password)\n",
    "\n",
    "                    # Add to report\n",
    "                    status = \"Success\" if success else \"Failed\"\n",
    "                    report_data.append([vendor_folder.name, str(destination_pdf), status, datetime.now().isoformat()])\n",
    "\n",
    "                except Exception as e:\n",
    "                    print(f\"Error processing {pdf_file}: {e}\")\n",
    "                    report_data.append([vendor_folder.name, str(pdf_file), \"Error\", datetime.now().isoformat()])\n",
    "\n",
    "    # Generate the report\n",
    "    generate_report(report_file, report_data)\n",
    "    print(f\"Report generated: {report_file}\")\n",
    "\n",
    "if __name__ == \"__main__\":\n",
    "    main()"
   ]
  },
  {
   "cell_type": "code",
   "execution_count": null,
   "id": "b33a283e",
   "metadata": {},
   "outputs": [],
   "source": []
  }
 ],
 "metadata": {
  "kernelspec": {
   "display_name": "Python 3 (ipykernel)",
   "language": "python",
   "name": "python3"
  },
  "language_info": {
   "codemirror_mode": {
    "name": "ipython",
    "version": 3
   },
   "file_extension": ".py",
   "mimetype": "text/x-python",
   "name": "python",
   "nbconvert_exporter": "python",
   "pygments_lexer": "ipython3",
   "version": "3.11.4"
  }
 },
 "nbformat": 4,
 "nbformat_minor": 5
}
