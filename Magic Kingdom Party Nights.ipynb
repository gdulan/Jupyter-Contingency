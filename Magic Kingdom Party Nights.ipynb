{
 "cells": [
  {
   "cell_type": "code",
   "execution_count": null,
   "id": "ce80742d",
   "metadata": {},
   "outputs": [],
   "source": [
    "import pandas as pd\n",
    "import matplotlib.pyplot as plt\n",
    "import seaborn as sns\n",
    "from tabulate import tabulate\n",
    "from datetime import datetime, timedelta"
   ]
  },
  {
   "cell_type": "code",
   "execution_count": null,
   "id": "9a49140a",
   "metadata": {},
   "outputs": [],
   "source": [
    "Fireworks = pd.read_csv('FireworksMaster03_24.csv')\n",
    "Fireworks['Date of Incident'] = pd.to_datetime(Fireworks['Date of Incident'])\n",
    "FY23FW = Fireworks[Fireworks['Date of Incident'] > '2023-08-11']\n",
    "ZoneCuts = pd.read_excel('Firework Zone Cuts.xlsx')"
   ]
  },
  {
   "cell_type": "code",
   "execution_count": null,
   "id": "aa343077",
   "metadata": {},
   "outputs": [],
   "source": [
    "MKFireworks = FY23FW[FY23FW['Division'] == 'Magic Kingdom Park']\n",
    "ECFireworks = FY23FW[FY23FW['Division'] == 'Epcot']\n",
    "ZoneCuts = ZoneCuts[ZoneCuts['Performance Profile Response'] == 'Yes']"
   ]
  },
  {
   "cell_type": "code",
   "execution_count": null,
   "id": "ffe52736",
   "metadata": {},
   "outputs": [],
   "source": [
    "start_date = datetime(2023, 8, 11)\n",
    "end_date = datetime.now()\n",
    "\n",
    "date_range = pd.date_range(start=start_date, end=end_date, freq='D')\n",
    "\n",
    "df = pd.DataFrame({'Date': date_range, 'Firework_Incident': 'no'})\n",
    "\n",
    "\n",
    "NotSoScary = ['2023-08-11', '2023-08-15', '2023-08-18', '2023-08-22', '2023-08-25', '2023-08-29', '2023-09-01'\n",
    "              , '2023-09-01', '2023-09-04', '2023-09-08', '2023-09-10', '2023-09-12', '2023-09-15', '2023-09-17'\n",
    "             , '2023-09-19', '2023-09-22', '2023-09-24', '2023-09-26', '2023-09-28', '2023-09-29', \n",
    "             '2023-10-1', '2023-10-03', '2023-10-05', '2023-10-06', '2023-10-09', '2023-10-10', '2023-10-12'\n",
    "             , '2023-10-13', '2023-10-15', '2023-10-17', '2023-10-19', '2023-10-20', '2023-10-22', '2023-10-24'\n",
    "             , '2023-10-26', '2023-10-27', '2023-10-29', '2023-10-31', '2023-11-1']\n",
    "\n",
    "for date_str in NotSoScary:\n",
    "    date_to_mark = pd.to_datetime(date_str)\n",
    "    df.loc[df['Date'] == date_to_mark, 'Special_Event'] = 'Not So Scary'\n",
    "\n",
    "#VeryMerry Dates\n",
    "VeryMerry = ['2023-11-09', '2023-11-10', '2023-11-13', '2023-11-14', '2023-11-16', '2023-11-17', '2023-11-19'\n",
    "                 , '2023-11-21', '2023-11-22', '2023-11-26', '2023-11-28', '2023-11-30', '2023-12-1', '2023-12-3'\n",
    "                 , '2023-12-5', '2023-12-7', '2023-12-8', '2023-12-10', '2023-12-12', '2023-12-14', '2023-12-15'\n",
    "                 , '2023-12-17', '2023-12-19', '2023-12-21', '2023-12-22']\n",
    "\n",
    "for date_str in VeryMerry:\n",
    "    date_to_mark = pd.to_datetime(date_str)\n",
    "    df.loc[df['Date'] == date_to_mark, 'Special_Event'] = 'Very Merry'"
   ]
  },
  {
   "cell_type": "code",
   "execution_count": null,
   "id": "d804b881",
   "metadata": {
    "scrolled": false
   },
   "outputs": [],
   "source": [
    "merged_df = pd.merge(MKFireworks, df, left_on='Date of Incident', right_on='Date', how='left')\n",
    "merged_df['Special_Event'].fillna('NoEvent', inplace=True)"
   ]
  },
  {
   "cell_type": "code",
   "execution_count": null,
   "id": "b0f38f55",
   "metadata": {
    "scrolled": false
   },
   "outputs": [],
   "source": [
    "count_df = merged_df.groupby('Special_Event')['Claim Number'].count().reset_index()\n",
    "count_df.rename(columns={'Claim Number': 'Incident Count'}, inplace=True)\n",
    "\n",
    "colors = ['#bcbcbc', '#9a9a9a', '#8e8e8e']\n",
    "\n",
    "plt.bar(count_df['Special_Event'], count_df['Incident Count'], color=colors)\n",
    "plt.xlabel('Special Event')\n",
    "plt.ylabel('Incident Count')\n",
    "plt.title('Incident Count vs. Special Events 8-11-2023 to 12-1-2023')\n",
    "plt.show()"
   ]
  },
  {
   "cell_type": "code",
   "execution_count": null,
   "id": "a5ad8e2c",
   "metadata": {
    "scrolled": true
   },
   "outputs": [],
   "source": [
    "merged_df"
   ]
  },
  {
   "cell_type": "code",
   "execution_count": null,
   "id": "2c6902a1",
   "metadata": {},
   "outputs": [],
   "source": [
    "merged_df['Time of Incident'] = pd.to_datetime(merged_df['Time of Incident'], format='%H%M', errors='coerce').dt.time\n",
    "\n",
    "merged_df"
   ]
  },
  {
   "cell_type": "code",
   "execution_count": null,
   "id": "98cc716f",
   "metadata": {},
   "outputs": [],
   "source": []
  },
  {
   "cell_type": "code",
   "execution_count": null,
   "id": "f9a81793",
   "metadata": {},
   "outputs": [],
   "source": []
  },
  {
   "cell_type": "code",
   "execution_count": null,
   "id": "80d9c723",
   "metadata": {},
   "outputs": [],
   "source": []
  },
  {
   "cell_type": "code",
   "execution_count": null,
   "id": "eb891237",
   "metadata": {},
   "outputs": [],
   "source": [
    "def determine_show(row):\n",
    "    special_event = row['Special_Event']\n",
    "    time_of_incident = row['Time of Incident']\n",
    "\n",
    "    if pd.isnull(time_of_incident) or pd.isna(time_of_incident):\n",
    "        return f'{special_event}, Unknown Show'\n",
    "\n",
    "    if special_event == 'NoEvent':\n",
    "        if time_of_incident < pd.to_datetime('20:00', format='%H:%M').time():\n",
    "            return 'Magical Friendship Faire'\n",
    "        else:\n",
    "            return 'Happily Ever After'\n",
    "    elif special_event == 'Not So Scary':\n",
    "        if time_of_incident < pd.to_datetime('17:00', format='%H:%M').time():\n",
    "            return 'Magical Friendship Faire'\n",
    "        elif pd.to_datetime('17:00', format='%H:%M').time() <= time_of_incident < pd.to_datetime('22:00', format='%H:%M').time():\n",
    "            return 'Not So Scary Stage Show'\n",
    "        elif pd.to_datetime('22:00', format='%H:%M').time() <= time_of_incident <= pd.to_datetime('22:55', format='%H:%M').time():\n",
    "            return 'Not So Scary Fireworks'\n",
    "        else:\n",
    "            return 'Not So Scary Stage Show'\n",
    "    elif special_event == 'Very Merry':\n",
    "        if time_of_incident < pd.to_datetime('17:00', format='%H:%M').time():\n",
    "            return 'Magical Friendship Faire'\n",
    "        elif pd.to_datetime('17:00', format='%H:%M').time() <= time_of_incident < pd.to_datetime('22:00', format='%H:%M').time():\n",
    "            return 'Merriest Celebration'\n",
    "        elif pd.to_datetime('22:00', format='%H:%M').time() <= time_of_incident <= pd.to_datetime('22:55', format='%H:%M').time():\n",
    "            return 'Chrismastime Fireworks'\n",
    "        else:\n",
    "            return 'Merriest Celebration'\n",
    "    else:\n",
    "        return 'Unknown Show'"
   ]
  },
  {
   "cell_type": "code",
   "execution_count": null,
   "id": "7151f44f",
   "metadata": {
    "scrolled": false
   },
   "outputs": [],
   "source": [
    "merged_df['Show'] = merged_df.apply(determine_show, axis=1)\n",
    "\n",
    "allFW = merged_df[['Claim Number', 'Date of Incident', 'Time of Incident', 'Special_Event', 'Show', 'LOCATION', 'GPS Coordinates', 'Incident Description']]"
   ]
  },
  {
   "cell_type": "code",
   "execution_count": null,
   "id": "0b7b372b",
   "metadata": {},
   "outputs": [],
   "source": [
    "allFW.to_csv('J:/Data/RMSA Analysis/0 - Team Working Files/10 - Nick/AllFWIncidents.csv', index=False)"
   ]
  },
  {
   "cell_type": "code",
   "execution_count": null,
   "id": "2d559eab",
   "metadata": {},
   "outputs": [],
   "source": [
    "allFW"
   ]
  },
  {
   "cell_type": "code",
   "execution_count": null,
   "id": "e7db6cd9",
   "metadata": {},
   "outputs": [],
   "source": []
  },
  {
   "cell_type": "code",
   "execution_count": null,
   "id": "f320b98c",
   "metadata": {},
   "outputs": [],
   "source": [
    "result_df = pd.merge(ZoneCuts, merged_df, left_on='Date', right_on='Date of Incident', how='inner')\n",
    "\n",
    "result_df[['Claim Number', 'Date of Incident', 'Time of Incident', 'Special_Event', 'Show', 'Show Name', 'Extended Land Closures']]"
   ]
  },
  {
   "cell_type": "code",
   "execution_count": null,
   "id": "9c2912f3",
   "metadata": {},
   "outputs": [],
   "source": []
  },
  {
   "cell_type": "code",
   "execution_count": null,
   "id": "589ba430",
   "metadata": {},
   "outputs": [],
   "source": [
    "result_df.to_csv('J:/Data/RMSA Analysis/0 - Team Working Files/10 - Nick/FireworksZoneClosures.csv', index=False)"
   ]
  },
  {
   "cell_type": "code",
   "execution_count": null,
   "id": "3b63a915",
   "metadata": {},
   "outputs": [],
   "source": []
  },
  {
   "cell_type": "code",
   "execution_count": null,
   "id": "d4732633",
   "metadata": {},
   "outputs": [],
   "source": []
  },
  {
   "cell_type": "code",
   "execution_count": null,
   "id": "018393cd",
   "metadata": {},
   "outputs": [],
   "source": []
  },
  {
   "cell_type": "code",
   "execution_count": null,
   "id": "87e4a6db",
   "metadata": {},
   "outputs": [],
   "source": [
    "show_counts = merged_df['Show'].value_counts()\n",
    "\n",
    "plt.figure(figsize=(10, 6))\n",
    "show_counts.plot(kind='bar', color='skyblue')\n",
    "plt.title('Counts of Each Show')\n",
    "plt.xlabel('Show')\n",
    "plt.ylabel('Count')\n",
    "plt.xticks(rotation=45, ha='right')\n",
    "plt.show()"
   ]
  },
  {
   "cell_type": "code",
   "execution_count": null,
   "id": "52cd5661",
   "metadata": {
    "scrolled": false
   },
   "outputs": [],
   "source": [
    "show_counts = merged_df['Show'].value_counts()\n",
    "\n",
    "sns.set(style=\"whitegrid\")\n",
    "\n",
    "plt.figure(figsize=(12, 6))\n",
    "sns.barplot(x=show_counts.index, y=show_counts.values, palette=\"viridis\")\n",
    "plt.title('Counts of Each Show 8-11-2023 to 12-13-2023')\n",
    "plt.xlabel('Show')\n",
    "plt.ylabel('Count')\n",
    "plt.xticks(rotation=45, ha='right')\n",
    "plt.tight_layout() \n",
    "plt.show()"
   ]
  },
  {
   "cell_type": "code",
   "execution_count": null,
   "id": "716079de",
   "metadata": {},
   "outputs": [],
   "source": [
    "show_counts_df = pd.DataFrame({'Show': show_counts.index, 'Count': show_counts.values})\n",
    "\n",
    "# Add a title\n",
    "table_title = \"Counts of Each Show 8-11-2023 to 12-23-2023\"\n",
    "\n",
    "# Print the table using tabulate\n",
    "table = tabulate(show_counts_df, headers='keys', tablefmt='fancy_grid', showindex=False)"
   ]
  },
  {
   "cell_type": "code",
   "execution_count": null,
   "id": "bc60dc00",
   "metadata": {},
   "outputs": [],
   "source": [
    "print(f\"{table_title}\\n\")\n",
    "print(table)"
   ]
  },
  {
   "cell_type": "code",
   "execution_count": null,
   "id": "723062bd",
   "metadata": {},
   "outputs": [],
   "source": [
    "show_counts_df = pd.DataFrame({'Show': show_counts.index, 'Count': show_counts.values})\n",
    "\n",
    "# Add a title\n",
    "table_title = \"Counts of Each Show\"\n",
    "\n",
    "# Print the table in Markdown format\n",
    "markdown_table = show_counts_df.to_markdown(index=False)\n",
    "\n",
    "# Display the title and the table\n",
    "print(f\"# {table_title}\\n\")\n",
    "print(markdown_table)"
   ]
  },
  {
   "cell_type": "code",
   "execution_count": null,
   "id": "02f5de32",
   "metadata": {},
   "outputs": [],
   "source": [
    "incident_counts = merged_df['Date of Incident'].value_counts().sort_index()\n",
    "\n",
    "# Set Seaborn style\n",
    "sns.set(style=\"whitegrid\")\n",
    "\n",
    "# Create a line plot with incident dates and counts\n",
    "plt.figure(figsize=(12, 6))\n",
    "sns.lineplot(x=incident_counts.index, y=incident_counts.values, marker='o', color='skyblue')\n",
    "plt.title('Incidents Over Time')\n",
    "plt.xlabel('Incident Date')\n",
    "plt.ylabel('Count')\n",
    "plt.xticks(rotation=45, ha='right')\n",
    "plt.tight_layout()\n",
    "plt.show()"
   ]
  },
  {
   "cell_type": "code",
   "execution_count": null,
   "id": "d07c8449",
   "metadata": {},
   "outputs": [],
   "source": [
    "ZoneCuts"
   ]
  },
  {
   "cell_type": "code",
   "execution_count": null,
   "id": "a0c23be0",
   "metadata": {},
   "outputs": [],
   "source": []
  },
  {
   "cell_type": "code",
   "execution_count": null,
   "id": "9b77564d",
   "metadata": {},
   "outputs": [],
   "source": []
  }
 ],
 "metadata": {
  "kernelspec": {
   "display_name": "Python 3 (ipykernel)",
   "language": "python",
   "name": "python3"
  },
  "language_info": {
   "codemirror_mode": {
    "name": "ipython",
    "version": 3
   },
   "file_extension": ".py",
   "mimetype": "text/x-python",
   "name": "python",
   "nbconvert_exporter": "python",
   "pygments_lexer": "ipython3",
   "version": "3.11.4"
  }
 },
 "nbformat": 4,
 "nbformat_minor": 5
}
