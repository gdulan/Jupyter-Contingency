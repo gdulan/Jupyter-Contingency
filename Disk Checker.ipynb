{
 "cells": [
  {
   "cell_type": "code",
   "execution_count": 1,
   "id": "e68fac22",
   "metadata": {},
   "outputs": [
    {
     "name": "stdout",
     "output_type": "stream",
     "text": [
      "My root is located at: C:\\\n",
      "Total: 476.02 GB\n",
      "Used: 184.93 GB\n",
      "Free: 291.09 GB\n",
      "Percentage Used: 38.85%\n",
      "Percentage Free: 61.15%\n"
     ]
    }
   ],
   "source": [
    "import shutil\n",
    "import os\n",
    "\n",
    "def get_disk_usage():\n",
    "    try:\n",
    "        # Using shutil module to get disk usage\n",
    "        total, used, free = shutil.disk_usage(os.path.abspath(os.sep))  # Change 'C:/' to the desired drive\n",
    "        print(f\"My root is located at: {os.path.abspath(os.sep)}\")\n",
    "        percent_used = (used / total) * 100\n",
    "        percent_free = (free / total) * 100\n",
    "        # Print disk usage details\n",
    "        print(f\"Total: {total / (1024 ** 3):.2f} GB\")\n",
    "        print(f\"Used: {used / (1024 ** 3):.2f} GB\")\n",
    "        print(f\"Free: {free / (1024 ** 3):.2f} GB\")\n",
    "        print(f\"Percentage Used: {percent_used:.2f}%\")\n",
    "        print(f\"Percentage Free: {percent_free:.2f}%\")\n",
    "    except Exception as e:\n",
    "        print(f\"An error occurred: {e}\")\n",
    "\n",
    "if __name__ == \"__main__\":\n",
    "    get_disk_usage()"
   ]
  },
  {
   "cell_type": "code",
   "execution_count": null,
   "id": "37a14aa5",
   "metadata": {},
   "outputs": [],
   "source": []
  }
 ],
 "metadata": {
  "kernelspec": {
   "display_name": "Python 3 (ipykernel)",
   "language": "python",
   "name": "python3"
  },
  "language_info": {
   "codemirror_mode": {
    "name": "ipython",
    "version": 3
   },
   "file_extension": ".py",
   "mimetype": "text/x-python",
   "name": "python",
   "nbconvert_exporter": "python",
   "pygments_lexer": "ipython3",
   "version": "3.11.4"
  }
 },
 "nbformat": 4,
 "nbformat_minor": 5
}
