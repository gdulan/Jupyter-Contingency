{
 "cells": [
  {
   "cell_type": "code",
   "execution_count": 3,
   "id": "697696f0",
   "metadata": {},
   "outputs": [],
   "source": [
    "import pandas as pd"
   ]
  },
  {
   "cell_type": "code",
   "execution_count": 4,
   "id": "c871c7ed",
   "metadata": {},
   "outputs": [],
   "source": [
    "iaapa1 = pd.read_excel(\"1_IAAPA Attractions Annual Report - Jan_March.xlsx\")\n",
    "iaapa2 = pd.read_excel(\"2_IAAPA Attractions Annual Report - Apr_June.xlsx\")\n",
    "iaapa3 = pd.read_excel(\"3_IAAPA Attractions Annual Report - Jul_Sept.xlsx\")\n",
    "iaapa4 = pd.read_excel(\"DALE 4_IAAPA Attractions Annual Report - Oct_Dec 1.xlsx\")"
   ]
  },
  {
   "cell_type": "code",
   "execution_count": null,
   "id": "c8ce76b3",
   "metadata": {},
   "outputs": [],
   "source": [
    "iaapaWP = pd.read_excel(\"\")"
   ]
  },
  {
   "cell_type": "code",
   "execution_count": 9,
   "id": "09d9a27a",
   "metadata": {},
   "outputs": [],
   "source": [
    "iaapa_combined = pd.concat([iaapa1, iaapa2, iaapa3, iaapa4], ignore_index=True)"
   ]
  },
  {
   "cell_type": "code",
   "execution_count": 11,
   "id": "1958866f",
   "metadata": {},
   "outputs": [],
   "source": [
    "iaapa_combined.to_excel('\\\\\\\\vi240c060002.woc.prod\\\\e$\\\\data\\\\iaapa_combined.xlsx', index=False)"
   ]
  },
  {
   "cell_type": "code",
   "execution_count": null,
   "id": "db860e6b",
   "metadata": {},
   "outputs": [],
   "source": []
  }
 ],
 "metadata": {
  "kernelspec": {
   "display_name": "Python 3 (ipykernel)",
   "language": "python",
   "name": "python3"
  },
  "language_info": {
   "codemirror_mode": {
    "name": "ipython",
    "version": 3
   },
   "file_extension": ".py",
   "mimetype": "text/x-python",
   "name": "python",
   "nbconvert_exporter": "python",
   "pygments_lexer": "ipython3",
   "version": "3.11.4"
  }
 },
 "nbformat": 4,
 "nbformat_minor": 5
}
