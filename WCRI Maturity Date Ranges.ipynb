{
 "cells": [
  {
   "cell_type": "code",
   "execution_count": 1,
   "id": "c7c375b7",
   "metadata": {},
   "outputs": [],
   "source": [
    "import pandas as pd\n",
    "import numpy as np \n",
    "import datetime as dt\n",
    "from datetime import timedelta\n",
    "import matplotlib as plt"
   ]
  },
  {
   "cell_type": "code",
   "execution_count": 2,
   "id": "6878bc44",
   "metadata": {},
   "outputs": [],
   "source": [
    "Top = pd.read_excel('WCRI Total Claim Cost 12_24_36 2000-2010.xlsx')\n",
    "Middle = pd.read_excel('WCRI Total Claim Cost 12_24_36 2011_2017.xlsx')\n",
    "Bottom = pd.read_excel('WCRI Total Claim Cost 12_24_36 2018_2023.xlsx')\n",
    "twelve = pd.concat([Top, Middle, Bottom])\n",
    "twentyfour = pd.concat([Top, Middle, Bottom])\n",
    "thirtysix = pd.concat([Top, Middle, Bottom])"
   ]
  },
  {
   "cell_type": "code",
   "execution_count": null,
   "id": "0c80ca41",
   "metadata": {},
   "outputs": [],
   "source": [
    "def parse_date(date_str):\n",
    "    return datetime.strptime(date_str, \"%Y-%m-%d\")\n",
    "\n",
    "# Reference table for incident date ranges and maturity dates\n",
    "reference_table = {\n",
    "    (\"2016-10-01\", \"2017-09-30\"): {\"12 Month Maturity\": \"2018-03-31\", \"24 Month Maturity\": \"2018-03-31\"},\n",
    "    (\"2017-10-01\", \"2018-09-30\"): {\"12 Month Maturity\": \"2019-03-31\", \"24 Month Maturity\": \"2020-03-31\"},\n",
    "    (\"2018-10-01\", \"2019-09-30\"): {\"12 Month Maturity\": \"2020-03-31\", \"24 Month Maturity\": \"2021-03-31\"}\n",
    "}\n",
    "\n",
    "# Function to calculate maturity date based on incident date\n",
    "def calculate_maturity_date(incident_date, maturity_date_str):\n",
    "    maturity_date = parse_date(maturity_date_str)\n",
    "    return maturity_date\n",
    "\n",
    "# Example incident date\n",
    "incident_date_str = \"2017-12-15\"\n",
    "incident_date = parse_date(incident_date_str)\n",
    "\n",
    "# Lookup maturity dates\n",
    "for date_range, maturity_dates in reference_table.items():\n",
    "    start_date, end_date = parse_date(date_range[0]), parse_date(date_range[1])\n",
    "    if start_date <= incident_date <= end_date:\n",
    "        maturity_12_month = calculate_maturity_date(incident_date, maturity_dates[\"12 Month Maturity\"])\n",
    "        maturity_24_month = calculate_maturity_date(incident_date, maturity_dates[\"24 Month Maturity\"])\n",
    "        print(\"Transaction date range (12 Month Maturity):\", incident_date, \"to\", maturity_12_month)\n",
    "        print(\"Transaction date range (24 Month Maturity):\", incident_date, \"to\", maturity_24_month)\n",
    "        break\n",
    "else:\n",
    "    print(\"Incident date not found in reference table.\")\n"
   ]
  },
  {
   "cell_type": "code",
   "execution_count": null,
   "id": "0e81a71c",
   "metadata": {},
   "outputs": [],
   "source": []
  },
  {
   "cell_type": "code",
   "execution_count": null,
   "id": "6105a690",
   "metadata": {},
   "outputs": [],
   "source": []
  },
  {
   "cell_type": "code",
   "execution_count": null,
   "id": "ddbc5a7c",
   "metadata": {},
   "outputs": [],
   "source": []
  },
  {
   "cell_type": "code",
   "execution_count": null,
   "id": "dba0495c",
   "metadata": {},
   "outputs": [],
   "source": [
    "#Convert \"Date of Loss/Injury\" column to datetime format\n",
    "df['Date of Loss/Incident'] = pd.to_datetime(df['Date of Incident/Loss'])\n",
    "\n",
    "#Create a new column for fiscal year\n",
    "df['Fiscal Year'] = df['Date of Loss/Injury'].dt.year\n",
    "df.loc[(df['Date of Loss/Injury'].dt.month >= 10), 'Fiscal Year'] += 1\n",
    "\n",
    "#Filter DataFrame based on fiscal year and 12-month maturity mark\n",
    "df_filtered = df[(df['Date of Loss/Injury'] >= pd.to_datetime(df['Fiscal Year'], format='%Y') - pd.DateOffset(years=1)) & \n",
    "                 (df['Date of Loss/Injury'] <= pd.to_datetime(df['Fiscal Year'], format='%Y') + pd.DateOffset(months=6) - pd.DateOffset(days=1))]\n",
    "\n",
    "# Now df_filtered contains transactions at the 12-month maturity mark\n"
   ]
  },
  {
   "cell_type": "code",
   "execution_count": 16,
   "id": "895729de",
   "metadata": {},
   "outputs": [],
   "source": [
    "def calculate_fiscal_year(incident_date):\n",
    "    fiscal_year_start_month = 10  # Fiscal year starts in October\n",
    "    if incident_date.month >= fiscal_year_start_month:\n",
    "        return incident_date.year + 1\n",
    "    else:\n",
    "        return incident_date.year\n",
    "    \n",
    "twelve['Fiscal Year'] = twelve['Date of Incident/Loss'].apply(calculate_fiscal_year)"
   ]
  },
  {
   "cell_type": "code",
   "execution_count": 20,
   "id": "5a4c9dc3",
   "metadata": {},
   "outputs": [
    {
     "name": "stdout",
     "output_type": "stream",
     "text": [
      "         Claim Number  Fiscal Year  Total Amount\n",
      "0          W200001719         2000       4207.63\n",
      "1          W200001956         2000      21561.39\n",
      "2          W200003311         2000      13653.71\n",
      "3          W200003479         2000      19215.99\n",
      "4          W200003906         2000      42165.56\n",
      "...               ...          ...           ...\n",
      "16828  WDWW2023231479         2023       5375.15\n",
      "16829  WDWW2023231549         2023       7007.03\n",
      "16830  WDWW2023231797         2023       4615.37\n",
      "16831  WDWW2023232702         2023       6338.44\n",
      "16832  WDWW2023235604         2023       5524.16\n",
      "\n",
      "[16833 rows x 3 columns]\n"
     ]
    }
   ],
   "source": [
    "twelve['Date of Incident/Loss'] = pd.to_datetime(twelve['Date of Incident/Loss'])\n",
    "twelve['Transaction Date'] = pd.to_datetime(twelve['Transaction Date'])\n",
    "\n",
    "twelve['Year of Incident'] = twelve['Date of Incident/Loss'].dt.year\n",
    "\n",
    "# Define the function to sum transactions based on specified periods and bucket by year of incident\n",
    "def sum_transactions(df, start_date, end_date, valuation_date):\n",
    "    \"\"\"\n",
    "    Sums up transactions for each Claim Number within the specified period and adds the year of incident.\n",
    "\n",
    "    Parameters:\n",
    "    df (pd.DataFrame): DataFrame containing claim transactions.\n",
    "    start_date (str): Start date for Date of Loss/Incident range.\n",
    "    end_date (str): End date for Date of Loss/Incident range.\n",
    "    valuation_date (str): Valuation date until which to sum transactions.\n",
    "\n",
    "    Returns:\n",
    "    pd.DataFrame: DataFrame with Claim Number, Year of Incident, and their respective summed amounts.\n",
    "    \"\"\"\n",
    "    # Filter claims within the date range\n",
    "    filtered_claims = df[(df['Date of Incident/Loss'] >= start_date) & \n",
    "                         (df['Date of Incident/Loss'] <= end_date)]\n",
    "    \n",
    "    # Further filter transactions up to the valuation date\n",
    "    filtered_transactions = filtered_claims[filtered_claims['Transaction Date'] <= valuation_date]\n",
    "    \n",
    "    # Sum the transactions for each claim number and year of incident\n",
    "    summed_transactions = filtered_transactions.groupby(['Claim Number', 'Fiscal Year'])['Paid Amount'].sum().reset_index()\n",
    "    summed_transactions.rename(columns={'Paid Amount': 'Total Amount'}, inplace=True)\n",
    "    \n",
    "    return summed_transactions\n",
    "\n",
    "# Define date ranges and corresponding valuation dates\n",
    "date_ranges = [\n",
    "    {'start_date': '2000-10-01', 'end_date': '2001-09-30', 'valuation_date': '2002-03-31'},\n",
    "    {'start_date': '2001-10-01', 'end_date': '2002-09-30', 'valuation_date': '2003-03-31'},\n",
    "    {'start_date': '2002-10-01', 'end_date': '2003-09-30', 'valuation_date': '2004-03-31'},\n",
    "    {'start_date': '2003-10-01', 'end_date': '2004-09-30', 'valuation_date': '2005-03-31'},\n",
    "    {'start_date': '2004-10-01', 'end_date': '2005-09-30', 'valuation_date': '2006-03-31'},\n",
    "    {'start_date': '2005-10-01', 'end_date': '2006-09-30', 'valuation_date': '2007-03-31'},\n",
    "    {'start_date': '2006-10-01', 'end_date': '2007-09-30', 'valuation_date': '2008-03-31'},\n",
    "    {'start_date': '2007-10-01', 'end_date': '2008-09-30', 'valuation_date': '2009-03-31'},\n",
    "    {'start_date': '2008-10-01', 'end_date': '2009-09-30', 'valuation_date': '2010-03-31'},\n",
    "    {'start_date': '2009-10-01', 'end_date': '2010-09-30', 'valuation_date': '2011-03-31'},\n",
    "    {'start_date': '2010-10-01', 'end_date': '2011-09-30', 'valuation_date': '2012-03-31'},\n",
    "    {'start_date': '2011-10-01', 'end_date': '2012-09-30', 'valuation_date': '2013-03-31'},\n",
    "    {'start_date': '2012-10-01', 'end_date': '2013-09-30', 'valuation_date': '2014-03-31'},\n",
    "    {'start_date': '2013-10-01', 'end_date': '2014-09-30', 'valuation_date': '2015-03-31'},\n",
    "    {'start_date': '2014-10-01', 'end_date': '2015-09-30', 'valuation_date': '2016-03-31'},\n",
    "    {'start_date': '2015-10-01', 'end_date': '2016-09-30', 'valuation_date': '2017-03-31'},\n",
    "    {'start_date': '2016-10-01', 'end_date': '2017-09-30', 'valuation_date': '2018-03-31'},\n",
    "    {'start_date': '2017-10-01', 'end_date': '2018-09-30', 'valuation_date': '2019-03-31'},\n",
    "    {'start_date': '2018-10-01', 'end_date': '2019-09-30', 'valuation_date': '2020-03-31'},\n",
    "    {'start_date': '2019-10-01', 'end_date': '2020-09-30', 'valuation_date': '2021-03-31'},\n",
    "    {'start_date': '2020-10-01', 'end_date': '2021-09-30', 'valuation_date': '2022-03-31'},\n",
    "    {'start_date': '2021-10-01', 'end_date': '2022-09-30', 'valuation_date': '2023-03-31'},\n",
    "    {'start_date': '2022-10-01', 'end_date': '2023-09-30', 'valuation_date': '2024-03-31'},\n",
    "    {'start_date': '2023-10-01', 'end_date': '2024-09-30', 'valuation_date': '2025-03-31'},\n",
    "    # Add more ranges as needed up to 2023\n",
    "]\n",
    "\n",
    "# Initialize an empty DataFrame to store results\n",
    "all_summed_transactions = pd.DataFrame()\n",
    "\n",
    "# Iterate over date ranges and apply the function\n",
    "for date_range in date_ranges:\n",
    "    summed_transactions = sum_transactions(\n",
    "        twelve, \n",
    "        date_range['start_date'], \n",
    "        date_range['end_date'], \n",
    "        date_range['valuation_date']\n",
    "    )\n",
    "    all_summed_transactions = pd.concat([all_summed_transactions, summed_transactions], ignore_index=True)\n",
    "\n",
    "print(all_summed_transactions)\n"
   ]
  },
  {
   "cell_type": "code",
   "execution_count": 21,
   "id": "c740bddc",
   "metadata": {},
   "outputs": [],
   "source": [
    "all_summed_transactions.to_csv('J:/Data/RMSA Analysis/0 - Team Working Files/10 - Nick/WCRIv412month.csv', index=False)"
   ]
  },
  {
   "cell_type": "code",
   "execution_count": null,
   "id": "637fa5a6",
   "metadata": {},
   "outputs": [],
   "source": []
  },
  {
   "cell_type": "code",
   "execution_count": null,
   "id": "9fcd740d",
   "metadata": {},
   "outputs": [],
   "source": []
  }
 ],
 "metadata": {
  "kernelspec": {
   "display_name": "Python 3 (ipykernel)",
   "language": "python",
   "name": "python3"
  },
  "language_info": {
   "codemirror_mode": {
    "name": "ipython",
    "version": 3
   },
   "file_extension": ".py",
   "mimetype": "text/x-python",
   "name": "python",
   "nbconvert_exporter": "python",
   "pygments_lexer": "ipython3",
   "version": "3.11.4"
  }
 },
 "nbformat": 4,
 "nbformat_minor": 5
}
