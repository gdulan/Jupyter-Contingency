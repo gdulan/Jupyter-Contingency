{
 "cells": [
  {
   "cell_type": "code",
   "execution_count": 1,
   "id": "dd33f7e4",
   "metadata": {},
   "outputs": [
    {
     "name": "stderr",
     "output_type": "stream",
     "text": [
      "C:\\Users\\gduln001\\AppData\\Local\\anaconda3\\Lib\\site-packages\\paramiko\\transport.py:219: CryptographyDeprecationWarning: Blowfish has been deprecated\n",
      "  \"class\": algorithms.Blowfish,\n"
     ]
    }
   ],
   "source": [
    "import re\n",
    "import torch\n",
    "import numpy as np\n",
    "import pandas as pd\n",
    "import nltk\n",
    "from nltk.stem import WordNetLemmatizer\n",
    "from sklearn.preprocessing import LabelEncoder\n",
    "from sklearn.model_selection import train_test_split\n",
    "from sklearn.metrics import accuracy_score, precision_recall_fscore_support, confusion_matrix, classification_report\n",
    "from transformers import BertTokenizer, BertForSequenceClassification, Trainer, TrainingArguments\n",
    "import torch.nn as nn\n",
    "import torch.nn.functional as F\n",
    "import nlpaug.augmenter.word as naw\n",
    "import seaborn as sns\n",
    "import matplotlib.pyplot as plt\n",
    "import plotly.figure_factory as ff"
   ]
  },
  {
   "cell_type": "code",
   "execution_count": 4,
   "id": "fca01d92",
   "metadata": {},
   "outputs": [],
   "source": [
    "# Data Loading and Preprocessing\n",
    "# ---------------------------------------------\n",
    "data = pd.read_excel('\\\\\\\\vi240c060002.woc.prod\\\\e$\\\\datasets\\\\WCMLDataset12_23.xlsx')\n",
    "example_data = data.copy()\n",
    "\n",
    "text_fields = [\n",
    "    'Incident Description', \n",
    "    'Activity Engaged in During Accident', \n",
    "    'General HS Comments', \n",
    "    'Injury Description'\n",
    "]\n",
    "\n",
    "example_data[text_fields] = example_data[text_fields].fillna('')\n",
    "for field in text_fields:\n",
    "    example_data[field] = example_data[field].apply(clean_text)\n",
    "\n",
    "example_data['Combined_Text'] = (\n",
    "    example_data['Incident Description'] + ' ' +\n",
    "    example_data['Activity Engaged in During Accident'] + ' ' +\n",
    "    example_data['General HS Comments'] + ' ' +\n",
    "    example_data['Injury Description']\n",
    ").str.strip()"
   ]
  },
  {
   "cell_type": "code",
   "execution_count": 3,
   "id": "cc6656ff",
   "metadata": {},
   "outputs": [],
   "source": [
    "# ---------------------------------------------\n",
    "# Text Cleaning and Lemmatization\n",
    "# ---------------------------------------------\n",
    "lemmatizer = WordNetLemmatizer()\n",
    "\n",
    "def clean_text(text):\n",
    "    # Lowercase\n",
    "    text = text.lower()\n",
    "    # Remove non-informative chars\n",
    "    text = re.sub(r\"[^a-z0-9.,!?'\\s-]\", '', text)\n",
    "    # Replace multiple spaces with a single space\n",
    "    text = re.sub(r\"\\s+\", \" \", text).strip()\n",
    "    # Normalize excessive punctuation\n",
    "    text = re.sub(r\"!+\", \"!\", text)\n",
    "    text = re.sub(r\"\\?+\", \"?\", text)\n",
    "    # Lemmatize tokens\n",
    "    tokens = text.split()\n",
    "    tokens = [lemmatizer.lemmatize(token) for token in tokens]\n",
    "    text = \" \".join(tokens)\n",
    "    return text"
   ]
  },
  {
   "cell_type": "code",
   "execution_count": 5,
   "id": "dc114ca4",
   "metadata": {},
   "outputs": [],
   "source": [
    "# ---------------------------------------------\n",
    "# Label Encoding\n",
    "# ---------------------------------------------\n",
    "targets = [\n",
    "    'Event of Injury Desc', \n",
    "    'Source of Injury Desc', \n",
    "    'Event of Incident Desc', \n",
    "    'Source of Incident Desc',\n",
    "    'EDI Cause Desc'\n",
    "]\n",
    "\n",
    "label_encoders = {}\n",
    "for target in targets:\n",
    "    le = LabelEncoder()\n",
    "    example_data[target + '_Encoded'] = le.fit_transform(example_data[target])\n",
    "    label_encoders[target] = le"
   ]
  },
  {
   "cell_type": "code",
   "execution_count": 6,
   "id": "08087bfe",
   "metadata": {},
   "outputs": [],
   "source": [
    "# ---------------------------------------------\n",
    "# Tokenization and Data Split\n",
    "# ---------------------------------------------\n",
    "tokenizer = BertTokenizer.from_pretrained('bert-base-uncased')"
   ]
  },
  {
   "cell_type": "code",
   "execution_count": 7,
   "id": "2229a5d8",
   "metadata": {},
   "outputs": [],
   "source": [
    "model = BertForSequenceClassification.from_pretrained('\\\\\\\\vi240c060002.woc.prod\\\\e$\\\\Machine Learning\\\\fine_tuned_event_of_incident')"
   ]
  },
  {
   "cell_type": "code",
   "execution_count": 12,
   "id": "40b44575",
   "metadata": {},
   "outputs": [],
   "source": [
    "#Change text below to for prediction\n",
    "new_text = [\"The Guest did walk in from her train after being evacuated and was given a wheelchair to sit down in. She was crying and breathing very quickly. She said her fingers were tingling. BI set up per Guest call 01.03.19 OR. SPANISH SPEAKING ONLY. Guest states she had to be transported to the hospital after she suffered a panic attack when the ride got stuck. Guest states she was with her 2 kids and she thought she was going to die while on the ride. Guest is worried now saying she's going to receive a bill from the hospital and she can't afford to pay for it. The Guest was in train 3 that had stopped in the Brake zone 1 area during an estop at Expedition Everest. We had to evacuate the trains on the ride. The Cast Member who was evacuating her train called 911 because she seemed to be having a severe panic attack - crying and having trouble breathing normally. LILO: 483631043387.\"]\n",
    "new_text = [clean_text(t) for t in new_text]  \n",
    "new_encodings = tokenizer(new_text, truncation=True, padding=True, max_length=512, return_tensors='pt')"
   ]
  },
  {
   "cell_type": "code",
   "execution_count": 13,
   "id": "7a470798",
   "metadata": {},
   "outputs": [
    {
     "name": "stdout",
     "output_type": "stream",
     "text": [
      "Predicted Event of Incident: On Ride - Overt Act - Unplanned Exiting\n"
     ]
    }
   ],
   "source": [
    "model.eval()\n",
    "outputs = model(**new_encodings)\n",
    "predicted_class = torch.argmax(outputs.logits, dim=1).item()\n",
    "decoded_class = label_encoders['Event of Incident Desc'].inverse_transform([predicted_class])\n",
    "print(f\"Predicted Event of Incident: {decoded_class[0]}\")"
   ]
  },
  {
   "cell_type": "code",
   "execution_count": null,
   "id": "a0b1b59d",
   "metadata": {},
   "outputs": [],
   "source": [
    "#List to predict\n",
    "\n",
    "#WDWG2021650082 - Shows the complexity of model understanding\n",
    "Child was sitting on planter/bench and fell hitting the back of the head. Child was crying in pain with mother holding the back of the head.\n",
    "Furnishings/Fixtures/Decorations - Bench\n",
    "\n",
    "#WDWG2021650648 - difference in coding example\n",
    "Guest fell down on the exit ramp of the Epcot monorail station, scrapping the skin below her right knee. Guest denied Reedy Creek emergency services. Guest fell down on the exit ramp of the Epcot monorail station, scrapping the skin below her right knee. Guest denied Reedy Creek emergency services.\n",
    "Motor Vehicle - Bus - Wheelchair/ECV Ramp\n",
    "\n",
    "#WDWG2021654828 - Multiple niche words - Shows understanding of context\n",
    "Guest had a gash on the lower right forearm.  He had tripped over a planter the previous evening when exiting for fireworks.  He had a family member clean the wound and did not notify a CM or request paramedics at that time. Guest was exiting after Fireworks that night near Mission Space (along the construction wall) when he tripped over the planter due to poor visibility and gashed his arm.  Guest had a family member check the wound but requested paramedics on 10/1 due to tingling and numbness.  They were concerned with getting to transportation the night before and did not seek medical attention on the night of the incident Guest had a gash on the right forearm.  Video of the fall did show poor lighting in the area.  Facilities was informed.  Guest was alert and conscious but mentioned numbness and tingling in the arm.  Planter location was along the construction wall across from the play fountain area and near the Joffrey's cart.  Alpha was called on 10/1 in Guest Relations lobby \n",
    "Furnishings/Fixtures/Decorations - Planter/Retaining Wall/Concrete Barrier\n",
    "\n",
    "#WDWG2019204537 - Coding without descriptions. No context limitation\n",
    "Collapsed lung In house BI set up per Linda C. 1.3.19 SD. Kristin, Guest was upset on the phone this morning. She thought yesterday she was transferred to a Disney Medical Clinic who told them her husband is fine, as soon as he got back to the resort RCES transported the guest. Guest was immediately admitted to the hospital for a collapsed lung. She is a nurse and cannot believe the clinic she went to originally she thought Centra Care now possibly East Coast Medical on Sand Lake missed this diagnosis.\n",
    "Toxic/Flammable/Chemicals - Pyrotechnics (fireworks)\n",
    "\n",
    "#WDWG2019204633 - Difference in coding. Tolerance on recodes\n",
    "The Guest did walk in from her train after being evacuated and was given a wheelchair to sit down in. She was crying and breathing very quickly. She said her fingers were tingling. BI set up per Guest call 01.03.19 OR. SPANISH SPEAKING ONLY. Guest states she had to be transported to the hospital after she suffered a panic attack when the ride got stuck. Guest states she was with her 2 kids and she thought she was going to die while on the ride. Guest is worried now saying she's going to receive a bill from the hospital and she can't afford to pay for it. The Guest was in train 3 that had stopped in the Brake zone 1 area during an estop at Expedition Everest. We had to evacuate the trains on the ride. The Cast Member who was evacuating her train called 911 because she seemed to be having a severe panic attack - crying and having trouble breathing normally. LILO: 483631043387.\n",
    "Person - Self\n",
    "\n",
    "#WDWG2019205113 - Niche Category\n",
    "Subject had an iron fall on her head. Subject had what appeared to have a small cut on the top of her head. Subjects parents stated that she had bled a little prior to my arrival. Upon arrival, I met with Amelia Waldren, and her parents Julia and Aaron Waldren. Mr. and Mrs. Waldren stated that Amelia had pulled an iron onto her head prior to my arrival. Amelia had what appeared to be a small cut. Mr. and Mrs. Waldren stated that the injury had bled a small amount prior to my arrival. Reedy Creek arrived and advised Mr. and Mrs. Waldren, but did not transport.At approximately 21:25, on the evening of January 3, 2019, I was dispatched to room 4164 in reference to a guest injury.\n",
    "Appliance - Iron\n",
    "\n",
    "#WDWG2019205009 - Question on coding. \n",
    "Guests had a cut on her knee, and a bruise and cut on her hand. Guests was running with their stroller through the park and tripped, and fell on their own stroller. Guest had the injury at 1145 am but did not report it to a CM until 1300.\n",
    "Walking Surface - Outdoor\n",
    "\n",
    "#WDWG2019205693 - Tolerance question\n",
    "The Guest stated that their was pain but no knot. She stated she took some motrin. Guest was walking through the queue in the Zulu hut portion when a piece of wood from the roof fell and landed on the neck of the Guest.\n",
    "Objects"
   ]
  },
  {
   "cell_type": "code",
   "execution_count": null,
   "id": "f4ad0a36",
   "metadata": {},
   "outputs": [],
   "source": []
  },
  {
   "cell_type": "code",
   "execution_count": null,
   "id": "ebfa56d1",
   "metadata": {},
   "outputs": [],
   "source": []
  }
 ],
 "metadata": {
  "kernelspec": {
   "display_name": "Python 3 (ipykernel)",
   "language": "python",
   "name": "python3"
  },
  "language_info": {
   "codemirror_mode": {
    "name": "ipython",
    "version": 3
   },
   "file_extension": ".py",
   "mimetype": "text/x-python",
   "name": "python",
   "nbconvert_exporter": "python",
   "pygments_lexer": "ipython3",
   "version": "3.11.4"
  }
 },
 "nbformat": 4,
 "nbformat_minor": 5
}
