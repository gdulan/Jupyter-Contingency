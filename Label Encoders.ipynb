{
 "cells": [
  {
   "cell_type": "code",
   "execution_count": 6,
   "id": "47f8228f-f662-4855-a3f9-3bcca6dc4d69",
   "metadata": {},
   "outputs": [
    {
     "name": "stdout",
     "output_type": "stream",
     "text": [
      "Loading data from: \\\\vi240c060002.woc.prod\\e$\\datasets\\Fields\\4TH EDI CAUSE\\ML_EDI_CAUSE_DATA.xlsx\n",
      "Loaded 5,105 rows.\n",
      "✔  Saved encoder for “EDI Cause Desc” →  \\\\vi240c060002.woc.prod\\e$\\Model_Label_Encoders\\EDI_Cause_Desc_encoder.pkl\n",
      "\n",
      "All encoders saved successfully.\n",
      "\n",
      "Sample class counts:\n",
      "  EDI Cause Desc             :  10 unique labels\n"
     ]
    }
   ],
   "source": [
    "# ----------------------\n",
    "# Build & persist 5 separate LabelEncoders for downstream inference\n",
    "# ---------------------------------------------------------------\n",
    "\n",
    "import os\n",
    "import joblib\n",
    "import pandas as pd\n",
    "from sklearn.preprocessing import LabelEncoder\n",
    "\n",
    "###############################################################################\n",
    "# 1. Configuration – adjust paths / columns only in this block\n",
    "###############################################################################\n",
    "\n",
    "# Path to the dataset that contains all labelled rows\n",
    "#DATA_PATH = r\"\\\\vi240c060002.woc.prod\\e$\\datasets\\Fields\\2ND Source_Of_Incident\\WCMLDataset12_23.xlsx\"\n",
    "#DATA_PATH = r\"\\\\vi240c060002.woc.prod\\e$\\datasets\\Fields\\5TH Event_Of_Injury\\WCMLDataset12_30_EVENT_INJURY.xlsx\"\n",
    "#DATA_PATH = r\"\\\\vi240c060002.woc.prod\\e$\\datasets\\Fields\\1ST Event_Of_Incident\\WCMLDataset12_30_EVENT_INCIDENT.xlsx\"\n",
    "#DATA_PATH = r\"\\\\vi240c060002.woc.prod\\e$\\datasets\\Fields\\3RD Source_Of_Injury\\WCMLDataset12_23.xlsx\"\n",
    "DATA_PATH = r\"\\\\vi240c060002.woc.prod\\e$\\datasets\\Fields\\4TH EDI CAUSE\\ML_EDI_CAUSE_DATA.xlsx\"\n",
    "# Folder where the encoder .pkl files will be written\n",
    "ENCODER_OUT_DIR = r\"\\\\vi240c060002.woc.prod\\e$\\Model_Label_Encoders\"\n",
    "\n",
    "# Your canonical column names (case‑sensitive)\n",
    "TARGET_COLUMNS = [\n",
    "    #\"Event of Injury Desc\",\n",
    "    #\"Source of Injury Desc\",\n",
    "    #\"Event of Incident Desc\",\n",
    "    #\"Source of Incident Desc\",\n",
    "    \"EDI Cause Desc\",\n",
    "]\n",
    "\n",
    "###############################################################################\n",
    "# 2. Ensure output directory exists\n",
    "###############################################################################\n",
    "\n",
    "os.makedirs(ENCODER_OUT_DIR, exist_ok=True)\n",
    "\n",
    "###############################################################################\n",
    "# 3. Load the labelled data\n",
    "###############################################################################\n",
    "\n",
    "print(f\"Loading data from: {DATA_PATH}\")\n",
    "df = pd.read_excel(DATA_PATH) if DATA_PATH.endswith(\".xlsx\") else pd.read_csv(DATA_PATH)\n",
    "print(f\"Loaded {len(df):,} rows.\")\n",
    "\n",
    "###############################################################################\n",
    "# 4. Fit & save an encoder for each target column\n",
    "###############################################################################\n",
    "\n",
    "for col in TARGET_COLUMNS:\n",
    "    if col not in df.columns:\n",
    "        raise ValueError(f\"Column ‘{col}’ not found in the dataset!\")\n",
    "\n",
    "    le = LabelEncoder()\n",
    "    le.fit(df[col].astype(str))                        # fit on string values\n",
    "\n",
    "    # Sanitize filename (remove spaces and slashes)\n",
    "    safe_name = col.replace(\" \", \"_\").replace(\"/\", \"_\")\n",
    "    out_file = os.path.join(ENCODER_OUT_DIR, f\"{safe_name}_encoder.pkl\")\n",
    "\n",
    "    joblib.dump(le, out_file)\n",
    "    print(f\"✔  Saved encoder for “{col}” →  {out_file}\")\n",
    "\n",
    "print(\"\\nAll encoders saved successfully.\")\n",
    "\n",
    "###############################################################################\n",
    "# 5. Optional: quick sanity print of classes\n",
    "###############################################################################\n",
    "if __name__ == \"__main__\":\n",
    "    print(\"\\nSample class counts:\")\n",
    "    for col in TARGET_COLUMNS:\n",
    "        print(f\"  {col:27s}:  {df[col].nunique()} unique labels\")\n"
   ]
  },
  {
   "cell_type": "code",
   "execution_count": null,
   "id": "638ea080-f7ca-4340-944a-44416a1eead8",
   "metadata": {},
   "outputs": [],
   "source": []
  },
  {
   "cell_type": "code",
   "execution_count": null,
   "id": "b4a72bf1-7541-49f8-b0c8-06bf6f98d9da",
   "metadata": {},
   "outputs": [],
   "source": []
  }
 ],
 "metadata": {
  "kernelspec": {
   "display_name": "Python 3 (ipykernel)",
   "language": "python",
   "name": "python3"
  },
  "language_info": {
   "codemirror_mode": {
    "name": "ipython",
    "version": 3
   },
   "file_extension": ".py",
   "mimetype": "text/x-python",
   "name": "python",
   "nbconvert_exporter": "python",
   "pygments_lexer": "ipython3",
   "version": "3.12.7"
  }
 },
 "nbformat": 4,
 "nbformat_minor": 5
}
