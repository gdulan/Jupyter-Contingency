{
 "cells": [
  {
   "cell_type": "code",
   "execution_count": null,
   "id": "46d30810-de21-4814-b5c2-329995c8bb43",
   "metadata": {},
   "outputs": [],
   "source": [
    "# Install: pip install CurrencyConverter\n",
    "from currency_converter import CurrencyConverter\n",
    "c = CurrencyConverter()\n",
    "\n",
    "# Convert 100 USD to EUR on January 10, 2020\n",
    "amount_in_eur = c.convert(100, 'USD', 'EUR', date='2020-01-10')\n",
    "print(amount_in_eur)\n"
   ]
  },
  {
   "cell_type": "code",
   "execution_count": null,
   "id": "d842158b-2420-4117-99a6-372b315aeea3",
   "metadata": {},
   "outputs": [],
   "source": [
    "from currency_converter import CurrencyConverter\n",
    "\n",
    "c = CurrencyConverter()\n",
    "# Show recognized currencies\n",
    "print(c.currencies)\n",
    "# Show each currency's start and end bounds\n",
    "print(c.bounds)"
   ]
  },
  {
   "cell_type": "code",
   "execution_count": null,
   "id": "8a636b74-9b8b-4162-8a1d-94382b93de1e",
   "metadata": {},
   "outputs": [],
   "source": [
    "from datetime import date\n",
    "c.convert(100, 'USD', 'EUR', date=date(2025, 1, 31))  # or 2020-01-13"
   ]
  },
  {
   "cell_type": "code",
   "execution_count": null,
   "id": "f85d81e7-22ea-4837-98b5-2122de340161",
   "metadata": {},
   "outputs": [],
   "source": [
    "import oandapyV20\n",
    "import oandapyV20.endpoints.pricing as pricing\n",
    "\n",
    "# Replace with your OANDA account ID and personal access token\n",
    "account_id = \"YOUR_OANDA_ACCOUNT_ID\"\n",
    "access_token = \"YOUR_OANDA_ACCESS_TOKEN\"\n",
    "\n",
    "# Create an API client\n",
    "client = oandapyV20.API(access_token=access_token)\n",
    "\n",
    "# Example: get a current quote for EUR/USD\n",
    "params = {\n",
    "    \"instruments\": \"EUR_USD\"\n",
    "}\n",
    "r = pricing.PricingInfo(accountID=account_id, params=params)\n",
    "\n",
    "# Send the request\n",
    "client.request(r)\n",
    "\n",
    "# The response will contain bid/ask quotes\n",
    "print(r.response)\n"
   ]
  },
  {
   "cell_type": "code",
   "execution_count": null,
   "id": "3f39a654-a468-4df1-a1b3-b787f96da088",
   "metadata": {},
   "outputs": [],
   "source": [
    "import oandapyV20.endpoints.instruments as instruments\n",
    "from datetime import datetime\n",
    "\n",
    "params = {\n",
    "    \"from\": \"2020-01-09T00:00:00Z\",\n",
    "    \"to\":   \"2020-01-10T23:59:59Z\",\n",
    "    \"granularity\": \"D\"  # daily candles\n",
    "}\n",
    "\n",
    "r = instruments.InstrumentsCandles(instrument=\"EUR_USD\", params=params)\n",
    "client.request(r)\n",
    "\n",
    "# r.response contains candle data, which includes open/high/low/close\n",
    "# You can use any of these to approximate the daily exchange rate\n",
    "candles = r.response[\"candles\"]\n",
    "print(candles)\n"
   ]
  }
 ],
 "metadata": {
  "kernelspec": {
   "display_name": "Python 3 (ipykernel)",
   "language": "python",
   "name": "python3"
  },
  "language_info": {
   "codemirror_mode": {
    "name": "ipython",
    "version": 3
   },
   "file_extension": ".py",
   "mimetype": "text/x-python",
   "name": "python",
   "nbconvert_exporter": "python",
   "pygments_lexer": "ipython3",
   "version": "3.12.7"
  }
 },
 "nbformat": 4,
 "nbformat_minor": 5
}
