{
 "cells": [
  {
   "cell_type": "code",
   "execution_count": null,
   "id": "eac7da33",
   "metadata": {},
   "outputs": [],
   "source": [
    "import pandas as pd\n",
    "import numpy as np\n",
    "import matplotlib.pyplot as plt\n",
    "from mpl_toolkits.mplot3d import Axes3D\n",
    "import seaborn as sns\n",
    "import plotly.express as px\n",
    "from adjustText import adjust_text"
   ]
  },
  {
   "cell_type": "code",
   "execution_count": null,
   "id": "220dc16e",
   "metadata": {},
   "outputs": [],
   "source": [
    "data = pd.read_excel('Legal Meeting Attraction FY24 Level Set.xlsx')\n",
    "df_attendance = pd.read_excel('FY24 Ridership.xlsx')"
   ]
  },
  {
   "cell_type": "code",
   "execution_count": null,
   "id": "67b87509",
   "metadata": {},
   "outputs": [],
   "source": [
    "df_data = data[data['Division Desc'] == \"Disney's Animal Kingdom Theme Park\"]"
   ]
  },
  {
   "cell_type": "code",
   "execution_count": null,
   "id": "ce1573d0",
   "metadata": {},
   "outputs": [],
   "source": [
    "grouped_data = df_data.groupby('Location Code Desc').agg(\n",
    "    total_incidents=('Severity Score', 'count'),\n",
    "    avg_severity_score=('Severity Score', 'mean')\n",
    ").reset_index()\n",
    "\n",
    "# Merging the grouped incident data with attendance data\n",
    "merged_df = pd.merge(grouped_data, df_attendance, left_on='Location Code Desc', right_on='Location')\n",
    "\n",
    "# Calculating the incident rate per 1000 riders\n",
    "merged_df['incident_rate'] = (merged_df['total_incidents'] / merged_df['FY 2024']) * 1000000"
   ]
  },
  {
   "cell_type": "code",
   "execution_count": null,
   "id": "aa5203d3",
   "metadata": {},
   "outputs": [],
   "source": [
    "# Calculate the incident rate per million riders\n",
    "merged_df['incident_rate'] = (merged_df['total_incidents'] / merged_df['FY 2024']) * 1_000_000\n",
    "\n",
    "# Normalize the severity score (min-max scaling) and invert so higher means more severe\n",
    "min_severity = merged_df['avg_severity_score'].min()\n",
    "max_severity = merged_df['avg_severity_score'].max()\n",
    "merged_df['normalized_severity'] = 1 - (merged_df['avg_severity_score'] - min_severity) / (max_severity - min_severity)\n",
    "\n",
    "# Determine the median values for the quadrants\n",
    "median_volume = merged_df['total_incidents'].median()\n",
    "median_rate = merged_df['incident_rate'].median()\n",
    "\n",
    "# Plotting the quadrant chart\n",
    "fig, ax = plt.subplots(figsize=(10, 7))\n",
    "\n",
    "# Scatter plot with color representing normalized severity\n",
    "scatter = ax.scatter(\n",
    "    merged_df['total_incidents'],        # X: Incident Volume\n",
    "    merged_df['incident_rate'],          # Y: Incident Rate per million riders\n",
    "    c=merged_df['normalized_severity'],  # Color by normalized severity (higher is more severe)\n",
    "    cmap='viridis',                      # Colormap for better visualization\n",
    "    s=100,                               # Marker size\n",
    "    alpha=0.7\n",
    ")\n",
    "\n",
    "# Adding labels to axes\n",
    "ax.set_xlabel('Total Incidents (Volume)')\n",
    "ax.set_ylabel('Incident Rate (per Million Riders)')\n",
    "\n",
    "# Adding a colorbar for the normalized severity score\n",
    "cbar = plt.colorbar(scatter)\n",
    "cbar.set_label('Normalized Severity (0 = Low, 1 = High)')\n",
    "\n",
    "# Drawing lines to create quadrants based on median volume and rate\n",
    "ax.axvline(median_volume, color='gray', linestyle='--', linewidth=1)  # Vertical line at median volume\n",
    "ax.axhline(median_rate, color='gray', linestyle='--', linewidth=1)    # Horizontal line at median rate\n",
    "\n",
    "# Prepare the list of texts for adjustText to adjust automatically\n",
    "texts = []\n",
    "for i, attraction in enumerate(merged_df['Location Code Desc']):\n",
    "    if merged_df['incident_rate'].iloc[i] > median_rate:\n",
    "        # Adding the text object for adjustText to handle, initially centered\n",
    "        texts.append(ax.text(\n",
    "            merged_df['total_incidents'].iloc[i],\n",
    "            merged_df['incident_rate'].iloc[i],\n",
    "            attraction,\n",
    "            fontsize=8,\n",
    "            ha='center',\n",
    "            va='center'\n",
    "        ))\n",
    "\n",
    "# Adjust text positions, restrict movement for better centering, and remove arrows\n",
    "adjust_text(texts, \n",
    "            force_text=(0.3, 0.3),   # Force factor for minimal movement (closer to the center)\n",
    "            only_move={'points':'xy', 'texts':'xy'},  # Restrict to movement in both x and y axes\n",
    "            expand_points=(1.2, 1.2),  # Avoid too much expansion away from points\n",
    "            arrowprops=None)  # No arrows\n",
    "\n",
    "# Title of the plot\n",
    "plt.title('Quadrant Chart: Incident Volume vs. Incident Rate (Color by Normalized Severity)')\n",
    "\n",
    "plt.show()"
   ]
  },
  {
   "cell_type": "code",
   "execution_count": null,
   "id": "6ae6b202",
   "metadata": {},
   "outputs": [],
   "source": [
    "data"
   ]
  },
  {
   "cell_type": "code",
   "execution_count": null,
   "id": "4328fa33",
   "metadata": {},
   "outputs": [],
   "source": []
  }
 ],
 "metadata": {
  "kernelspec": {
   "display_name": "Python 3 (ipykernel)",
   "language": "python",
   "name": "python3"
  },
  "language_info": {
   "codemirror_mode": {
    "name": "ipython",
    "version": 3
   },
   "file_extension": ".py",
   "mimetype": "text/x-python",
   "name": "python",
   "nbconvert_exporter": "python",
   "pygments_lexer": "ipython3",
   "version": "3.11.4"
  }
 },
 "nbformat": 4,
 "nbformat_minor": 5
}
